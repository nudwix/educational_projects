{
 "cells": [
  {
   "cell_type": "markdown",
   "metadata": {},
   "source": [
    "<a id=\"top\"></a>\n",
    "# Рекомендация тарифов\n",
    "<h4 align=\"right\">Спринт 6    |    Когорта ДС13    |    Артур Урусов</h4>"
   ]
  },
  {
   "cell_type": "markdown",
   "metadata": {},
   "source": [
    "> В вашем распоряжении данные о поведении клиентов, которые уже перешли на эти тарифы (из проекта курса «Статистический анализ данных»). Нужно построить модель для задачи классификации, которая выберет подходящий тариф. Предобработка данных не понадобится — вы её уже сделали.\n",
    "\n",
    "> Постройте модель с максимально большим значением *accuracy*. Чтобы сдать проект успешно, нужно довести долю правильных ответов по крайней мере до 0.75. Проверьте *accuracy* на тестовой выборке самостоятельно."
   ]
  },
  {
   "cell_type": "markdown",
   "metadata": {},
   "source": [
    "## Содержание\n",
    "\n",
    "0. **[Подготовка](#0)**\n",
    "\n",
    "    0.1. [Импорт библиотек](#0-1)\n",
    "    \n",
    "    0.2. [Настройка окружения](#0-2)\n",
    "\n",
    "\n",
    "1. **[Получение данных](#1)**\n",
    "\n",
    "    1.1. [Чтение файла](#1-1)\n",
    "    \n",
    "    1.2. [Изучение данных](#1-2)\n",
    "\n",
    "\n",
    "2. **[Продготовка данных](#2)**\n",
    "\n",
    "    2.1. [Разделение данных на выборки](#2-1)\n",
    "\n",
    "\n",
    "3. **[Исследование моделей](#3)**\n",
    "\n",
    "    3.1. [Решающее дерево](#3-1)\n",
    "    \n",
    "    3.2. [Случайный лес](#3-2)\n",
    "    \n",
    "    3.3. [Логистическая регрессия](#3-3)\n",
    "    \n",
    "    \n",
    "4. **[Проверка моделей на тестовой выборке](#4)**\n",
    "\n",
    "    4.1. [Решающее дерево](#4-1)\n",
    "    \n",
    "    4.2. [Случайный лес](#4-2)\n",
    "    \n",
    "    4.3. [Логистическая регрессия](#4-3)\n",
    "    \n",
    "    \n",
    "5. **[Проверка моделей на адекватность](#5)**\n",
    "\n",
    "    4.1. [Случайное распределение](#5-1)\n",
    "\n",
    "\n",
    "6. **[Результаты исследования](#6)**\n",
    "\n",
    "    5.1. [Общие выводы](#6-1)\n",
    "    \n",
    "    5.2. [Рекомендации](#6-2)"
   ]
  },
  {
   "cell_type": "markdown",
   "metadata": {},
   "source": [
    "<a id=\"0\"></a>\n",
    "## Этап 0. Подготовка"
   ]
  },
  {
   "cell_type": "markdown",
   "metadata": {},
   "source": [
    "<a id=\"0-1\"></a>\n",
    "### Шаг 0.1 Импорт библиотек"
   ]
  },
  {
   "cell_type": "code",
   "execution_count": 1,
   "metadata": {},
   "outputs": [],
   "source": [
    "import warnings\n",
    "import numpy as np\n",
    "import pandas as pd\n",
    "import seaborn as sns\n",
    "import matplotlib.pyplot as plt\n",
    "from sklearn.tree import DecisionTreeClassifier\n",
    "from sklearn.ensemble import RandomForestClassifier\n",
    "from sklearn.linear_model import LogisticRegression\n",
    "from sklearn.model_selection import train_test_split, GridSearchCV\n",
    "from sklearn.metrics import accuracy_score\n",
    "from sklearn.dummy import DummyClassifier"
   ]
  },
  {
   "cell_type": "markdown",
   "metadata": {},
   "source": [
    "[к началу шага](#0-1) | [к началу этапа](#0) | [к началу страницы](#top)"
   ]
  },
  {
   "cell_type": "markdown",
   "metadata": {},
   "source": [
    "<a id=\"0-2\"></a>\n",
    "### Шаг 0.2 Настройка окружения"
   ]
  },
  {
   "cell_type": "code",
   "execution_count": 2,
   "metadata": {},
   "outputs": [],
   "source": [
    "warnings.filterwarnings('ignore')\n",
    "np.seterr(all='ignore')\n",
    "random_state = 42"
   ]
  },
  {
   "cell_type": "markdown",
   "metadata": {},
   "source": [
    "[к началу шага](#0-2) | [к началу этапа](#0) | [к началу страницы](#top)"
   ]
  },
  {
   "cell_type": "markdown",
   "metadata": {},
   "source": [
    "<a id=\"1\"></a>\n",
    "## Этап 1. Получение данных"
   ]
  },
  {
   "cell_type": "markdown",
   "metadata": {},
   "source": [
    "<a id=\"1-1\"></a>\n",
    "### Шаг 1.1 Чтение файла"
   ]
  },
  {
   "cell_type": "markdown",
   "metadata": {},
   "source": [
    "Прочитаем файл с данными и посмотрим основную информацию:"
   ]
  },
  {
   "cell_type": "code",
   "execution_count": 3,
   "metadata": {
    "scrolled": false
   },
   "outputs": [
    {
     "name": "stdout",
     "output_type": "stream",
     "text": [
      "<class 'pandas.core.frame.DataFrame'>\n",
      "RangeIndex: 3214 entries, 0 to 3213\n",
      "Data columns (total 5 columns):\n",
      "calls       3214 non-null float64\n",
      "minutes     3214 non-null float64\n",
      "messages    3214 non-null float64\n",
      "mb_used     3214 non-null float64\n",
      "is_ultra    3214 non-null int64\n",
      "dtypes: float64(4), int64(1)\n",
      "memory usage: 125.7 KB\n"
     ]
    },
    {
     "data": {
      "text/html": [
       "<div>\n",
       "<style scoped>\n",
       "    .dataframe tbody tr th:only-of-type {\n",
       "        vertical-align: middle;\n",
       "    }\n",
       "\n",
       "    .dataframe tbody tr th {\n",
       "        vertical-align: top;\n",
       "    }\n",
       "\n",
       "    .dataframe thead th {\n",
       "        text-align: right;\n",
       "    }\n",
       "</style>\n",
       "<table border=\"1\" class=\"dataframe\">\n",
       "  <thead>\n",
       "    <tr style=\"text-align: right;\">\n",
       "      <th></th>\n",
       "      <th>calls</th>\n",
       "      <th>minutes</th>\n",
       "      <th>messages</th>\n",
       "      <th>mb_used</th>\n",
       "      <th>is_ultra</th>\n",
       "    </tr>\n",
       "  </thead>\n",
       "  <tbody>\n",
       "    <tr>\n",
       "      <td>0</td>\n",
       "      <td>40.0</td>\n",
       "      <td>311.90</td>\n",
       "      <td>83.0</td>\n",
       "      <td>19915.42</td>\n",
       "      <td>0</td>\n",
       "    </tr>\n",
       "    <tr>\n",
       "      <td>1</td>\n",
       "      <td>85.0</td>\n",
       "      <td>516.75</td>\n",
       "      <td>56.0</td>\n",
       "      <td>22696.96</td>\n",
       "      <td>0</td>\n",
       "    </tr>\n",
       "    <tr>\n",
       "      <td>2</td>\n",
       "      <td>77.0</td>\n",
       "      <td>467.66</td>\n",
       "      <td>86.0</td>\n",
       "      <td>21060.45</td>\n",
       "      <td>0</td>\n",
       "    </tr>\n",
       "    <tr>\n",
       "      <td>3</td>\n",
       "      <td>106.0</td>\n",
       "      <td>745.53</td>\n",
       "      <td>81.0</td>\n",
       "      <td>8437.39</td>\n",
       "      <td>1</td>\n",
       "    </tr>\n",
       "    <tr>\n",
       "      <td>4</td>\n",
       "      <td>66.0</td>\n",
       "      <td>418.74</td>\n",
       "      <td>1.0</td>\n",
       "      <td>14502.75</td>\n",
       "      <td>0</td>\n",
       "    </tr>\n",
       "    <tr>\n",
       "      <td>5</td>\n",
       "      <td>58.0</td>\n",
       "      <td>344.56</td>\n",
       "      <td>21.0</td>\n",
       "      <td>15823.37</td>\n",
       "      <td>0</td>\n",
       "    </tr>\n",
       "    <tr>\n",
       "      <td>6</td>\n",
       "      <td>57.0</td>\n",
       "      <td>431.64</td>\n",
       "      <td>20.0</td>\n",
       "      <td>3738.90</td>\n",
       "      <td>1</td>\n",
       "    </tr>\n",
       "    <tr>\n",
       "      <td>7</td>\n",
       "      <td>15.0</td>\n",
       "      <td>132.40</td>\n",
       "      <td>6.0</td>\n",
       "      <td>21911.60</td>\n",
       "      <td>0</td>\n",
       "    </tr>\n",
       "    <tr>\n",
       "      <td>8</td>\n",
       "      <td>7.0</td>\n",
       "      <td>43.39</td>\n",
       "      <td>3.0</td>\n",
       "      <td>2538.67</td>\n",
       "      <td>1</td>\n",
       "    </tr>\n",
       "    <tr>\n",
       "      <td>9</td>\n",
       "      <td>90.0</td>\n",
       "      <td>665.41</td>\n",
       "      <td>38.0</td>\n",
       "      <td>17358.61</td>\n",
       "      <td>0</td>\n",
       "    </tr>\n",
       "  </tbody>\n",
       "</table>\n",
       "</div>"
      ],
      "text/plain": [
       "   calls  minutes  messages   mb_used  is_ultra\n",
       "0   40.0   311.90      83.0  19915.42         0\n",
       "1   85.0   516.75      56.0  22696.96         0\n",
       "2   77.0   467.66      86.0  21060.45         0\n",
       "3  106.0   745.53      81.0   8437.39         1\n",
       "4   66.0   418.74       1.0  14502.75         0\n",
       "5   58.0   344.56      21.0  15823.37         0\n",
       "6   57.0   431.64      20.0   3738.90         1\n",
       "7   15.0   132.40       6.0  21911.60         0\n",
       "8    7.0    43.39       3.0   2538.67         1\n",
       "9   90.0   665.41      38.0  17358.61         0"
      ]
     },
     "execution_count": 3,
     "metadata": {},
     "output_type": "execute_result"
    }
   ],
   "source": [
    "df = pd.read_csv('/datasets/users_behavior.csv')\n",
    "df.info()\n",
    "df.head(10)"
   ]
  },
  {
   "cell_type": "markdown",
   "metadata": {},
   "source": [
    "У нас подготовленный к работе датасет, всего 3214 строк, пропущенных значений нет, предобрабатывать данные не нужно (всегда бы так 😅)."
   ]
  },
  {
   "cell_type": "markdown",
   "metadata": {},
   "source": [
    "[к началу шага](#1-1) | [к началу этапа](#1) | [к началу страницы](#top)"
   ]
  },
  {
   "cell_type": "markdown",
   "metadata": {},
   "source": [
    "<a id=\"1-2\"></a>\n",
    "### Шаг 1.2 Изучение данных"
   ]
  },
  {
   "cell_type": "markdown",
   "metadata": {},
   "source": [
    "Датафрейм состоит из столбцов `calls`, `minutes`, `messages`, `mb_used` и `is_ultra`. В целях исследования мы будем предсказывать значение столбца `is_ultra` основываясь на значениях в остальных столбцах.\n",
    "\n",
    "Каждый объект в наборе данных — это информация о поведении одного пользователя за месяц. Известно:\n",
    "- `сalls` — количество звонков,\n",
    "- `minutes` — суммарная длительность звонков в минутах,\n",
    "- `messages` — количество sms-сообщений,\n",
    "- `mb_used` — израсходованный интернет-трафик в Мб,\n",
    "- `is_ultra` — каким тарифом пользовался в течение месяца («Ультра» — 1, «Смарт» — 0).\n",
    "\n",
    "Исходя из этой информации можем перевести столбец `calls` в формат `int`:"
   ]
  },
  {
   "cell_type": "code",
   "execution_count": 4,
   "metadata": {},
   "outputs": [],
   "source": [
    "df['calls'] = df['calls'].astype('int')"
   ]
  },
  {
   "cell_type": "markdown",
   "metadata": {},
   "source": [
    "Посмотрим на значения корреляции:"
   ]
  },
  {
   "cell_type": "code",
   "execution_count": 5,
   "metadata": {},
   "outputs": [
    {
     "data": {
      "text/html": [
       "<div>\n",
       "<style scoped>\n",
       "    .dataframe tbody tr th:only-of-type {\n",
       "        vertical-align: middle;\n",
       "    }\n",
       "\n",
       "    .dataframe tbody tr th {\n",
       "        vertical-align: top;\n",
       "    }\n",
       "\n",
       "    .dataframe thead th {\n",
       "        text-align: right;\n",
       "    }\n",
       "</style>\n",
       "<table border=\"1\" class=\"dataframe\">\n",
       "  <thead>\n",
       "    <tr style=\"text-align: right;\">\n",
       "      <th></th>\n",
       "      <th>calls</th>\n",
       "      <th>minutes</th>\n",
       "      <th>messages</th>\n",
       "      <th>mb_used</th>\n",
       "      <th>is_ultra</th>\n",
       "    </tr>\n",
       "  </thead>\n",
       "  <tbody>\n",
       "    <tr>\n",
       "      <td>calls</td>\n",
       "      <td>1.000000</td>\n",
       "      <td>0.982083</td>\n",
       "      <td>0.177385</td>\n",
       "      <td>0.286442</td>\n",
       "      <td>0.207122</td>\n",
       "    </tr>\n",
       "    <tr>\n",
       "      <td>minutes</td>\n",
       "      <td>0.982083</td>\n",
       "      <td>1.000000</td>\n",
       "      <td>0.173110</td>\n",
       "      <td>0.280967</td>\n",
       "      <td>0.206955</td>\n",
       "    </tr>\n",
       "    <tr>\n",
       "      <td>messages</td>\n",
       "      <td>0.177385</td>\n",
       "      <td>0.173110</td>\n",
       "      <td>1.000000</td>\n",
       "      <td>0.195721</td>\n",
       "      <td>0.203830</td>\n",
       "    </tr>\n",
       "    <tr>\n",
       "      <td>mb_used</td>\n",
       "      <td>0.286442</td>\n",
       "      <td>0.280967</td>\n",
       "      <td>0.195721</td>\n",
       "      <td>1.000000</td>\n",
       "      <td>0.198568</td>\n",
       "    </tr>\n",
       "    <tr>\n",
       "      <td>is_ultra</td>\n",
       "      <td>0.207122</td>\n",
       "      <td>0.206955</td>\n",
       "      <td>0.203830</td>\n",
       "      <td>0.198568</td>\n",
       "      <td>1.000000</td>\n",
       "    </tr>\n",
       "  </tbody>\n",
       "</table>\n",
       "</div>"
      ],
      "text/plain": [
       "             calls   minutes  messages   mb_used  is_ultra\n",
       "calls     1.000000  0.982083  0.177385  0.286442  0.207122\n",
       "minutes   0.982083  1.000000  0.173110  0.280967  0.206955\n",
       "messages  0.177385  0.173110  1.000000  0.195721  0.203830\n",
       "mb_used   0.286442  0.280967  0.195721  1.000000  0.198568\n",
       "is_ultra  0.207122  0.206955  0.203830  0.198568  1.000000"
      ]
     },
     "execution_count": 5,
     "metadata": {},
     "output_type": "execute_result"
    }
   ],
   "source": [
    "df.corr()"
   ]
  },
  {
   "cell_type": "markdown",
   "metadata": {},
   "source": [
    "Количество звонков и количество минут находятся в очень сильной зависимости друг от друга (что вполне логично), и при этом почти одинаково влияют на столбец `is_ultra`. Поэтому от одного из показателей можно избавиться. Так как корреляция между `calls` и `is_ultra` чуть выше, удалим столбец `minutes`:"
   ]
  },
  {
   "cell_type": "code",
   "execution_count": 6,
   "metadata": {},
   "outputs": [],
   "source": [
    "df.drop(labels='minutes', axis=1, inplace=True)"
   ]
  },
  {
   "cell_type": "markdown",
   "metadata": {},
   "source": [
    "Так же посмотрим на основные статистические показатели датасета и построим графики:"
   ]
  },
  {
   "cell_type": "code",
   "execution_count": 7,
   "metadata": {},
   "outputs": [
    {
     "data": {
      "text/html": [
       "<div>\n",
       "<style scoped>\n",
       "    .dataframe tbody tr th:only-of-type {\n",
       "        vertical-align: middle;\n",
       "    }\n",
       "\n",
       "    .dataframe tbody tr th {\n",
       "        vertical-align: top;\n",
       "    }\n",
       "\n",
       "    .dataframe thead th {\n",
       "        text-align: right;\n",
       "    }\n",
       "</style>\n",
       "<table border=\"1\" class=\"dataframe\">\n",
       "  <thead>\n",
       "    <tr style=\"text-align: right;\">\n",
       "      <th></th>\n",
       "      <th>calls</th>\n",
       "      <th>messages</th>\n",
       "      <th>mb_used</th>\n",
       "      <th>is_ultra</th>\n",
       "    </tr>\n",
       "  </thead>\n",
       "  <tbody>\n",
       "    <tr>\n",
       "      <td>count</td>\n",
       "      <td>3214.000000</td>\n",
       "      <td>3214.000000</td>\n",
       "      <td>3214.000000</td>\n",
       "      <td>3214.000000</td>\n",
       "    </tr>\n",
       "    <tr>\n",
       "      <td>mean</td>\n",
       "      <td>63.038892</td>\n",
       "      <td>38.281269</td>\n",
       "      <td>17207.673836</td>\n",
       "      <td>0.306472</td>\n",
       "    </tr>\n",
       "    <tr>\n",
       "      <td>std</td>\n",
       "      <td>33.236368</td>\n",
       "      <td>36.148326</td>\n",
       "      <td>7570.968246</td>\n",
       "      <td>0.461100</td>\n",
       "    </tr>\n",
       "    <tr>\n",
       "      <td>min</td>\n",
       "      <td>0.000000</td>\n",
       "      <td>0.000000</td>\n",
       "      <td>0.000000</td>\n",
       "      <td>0.000000</td>\n",
       "    </tr>\n",
       "    <tr>\n",
       "      <td>25%</td>\n",
       "      <td>40.000000</td>\n",
       "      <td>9.000000</td>\n",
       "      <td>12491.902500</td>\n",
       "      <td>0.000000</td>\n",
       "    </tr>\n",
       "    <tr>\n",
       "      <td>50%</td>\n",
       "      <td>62.000000</td>\n",
       "      <td>30.000000</td>\n",
       "      <td>16943.235000</td>\n",
       "      <td>0.000000</td>\n",
       "    </tr>\n",
       "    <tr>\n",
       "      <td>75%</td>\n",
       "      <td>82.000000</td>\n",
       "      <td>57.000000</td>\n",
       "      <td>21424.700000</td>\n",
       "      <td>1.000000</td>\n",
       "    </tr>\n",
       "    <tr>\n",
       "      <td>max</td>\n",
       "      <td>244.000000</td>\n",
       "      <td>224.000000</td>\n",
       "      <td>49745.730000</td>\n",
       "      <td>1.000000</td>\n",
       "    </tr>\n",
       "  </tbody>\n",
       "</table>\n",
       "</div>"
      ],
      "text/plain": [
       "             calls     messages       mb_used     is_ultra\n",
       "count  3214.000000  3214.000000   3214.000000  3214.000000\n",
       "mean     63.038892    38.281269  17207.673836     0.306472\n",
       "std      33.236368    36.148326   7570.968246     0.461100\n",
       "min       0.000000     0.000000      0.000000     0.000000\n",
       "25%      40.000000     9.000000  12491.902500     0.000000\n",
       "50%      62.000000    30.000000  16943.235000     0.000000\n",
       "75%      82.000000    57.000000  21424.700000     1.000000\n",
       "max     244.000000   224.000000  49745.730000     1.000000"
      ]
     },
     "execution_count": 7,
     "metadata": {},
     "output_type": "execute_result"
    }
   ],
   "source": [
    "df.describe()"
   ]
  },
  {
   "cell_type": "markdown",
   "metadata": {},
   "source": [
    "Максимальные значения по звонкам и сообщениям довольно близки, однако в среднем звонки совершаются почти в два раза чаще. При этом абоненты активно потребляют интернет-трафик: больше 25% тратит не менее 12 ГБ в месяц. Максималььное значение по трафику &mdash; почти 50 ГБ. Кроме того, видим что распределение тарифов неравномерно: среднее значение примерно равно 0.3, то есть тарифом «Ultra» пользуется около 30% абонентов."
   ]
  },
  {
   "cell_type": "code",
   "execution_count": 8,
   "metadata": {
    "scrolled": false
   },
   "outputs": [
    {
     "data": {
      "image/png": "[encoded data removed]",
      "text/plain": [
       "<Figure size 764.5x720 with 20 Axes>"
      ]
     },
     "metadata": {
      "needs_background": "light"
     },
     "output_type": "display_data"
    }
   ],
   "source": [
    "sns.pairplot(df, hue='is_ultra')\n",
    "plt.show()"
   ]
  },
  {
   "cell_type": "markdown",
   "metadata": {},
   "source": [
    "К сожалению, графики зависиомостей не дают нам однозначной картины, зато на графиках распределения плотностей явно видим разницу в пользователях двух тарифов."
   ]
  },
  {
   "cell_type": "markdown",
   "metadata": {},
   "source": [
    "[к началу шага](#1-2) | [к началу этапа](#1) | [к началу страницы](#top)"
   ]
  },
  {
   "cell_type": "markdown",
   "metadata": {},
   "source": [
    "<a id=\"2\"></a>\n",
    "## Этап 2. Подготовка данных"
   ]
  },
  {
   "cell_type": "markdown",
   "metadata": {},
   "source": [
    "<a id=\"2-1\"></a>\n",
    "### Шаг 2.1 Разделение данных на выборки"
   ]
  },
  {
   "cell_type": "markdown",
   "metadata": {},
   "source": [
    "Для того, чтобы обучить, валидировать и протестировать модели, нам необходимо разделить датафрейм на три части: обучающую, валидационную и тестовую выборки. Разделим датасет в пропорции 80/20 на обучаюшую выборку и тестовую выборку. Обучающую выборку, в свою очередь, разделим в той же пропорции 80/20 на собственно обучающую выборку и на валидационную выборку. Также учтём неравномерное распределение тарифов в выборке и воспользуемся параметром `stratify`:"
   ]
  },
  {
   "cell_type": "code",
   "execution_count": 9,
   "metadata": {},
   "outputs": [
    {
     "name": "stdout",
     "output_type": "stream",
     "text": [
      "Тренировочная выборка: (2056, 3). Тренировочные результаты: (2056,).\n",
      "Валидационная выборка: (515, 3). Валидационные результаты: (515,).\n",
      "Тренировочная + валидационная выборка: (2571, 3). Тренировочные+ валидационные результаты: (2571,).\n",
      "Тестовая выборка: (643, 3). Тестовые результаты: (643,).\n"
     ]
    }
   ],
   "source": [
    "features = df.drop(['is_ultra'], axis=1)\n",
    "target = df['is_ultra']\n",
    "\n",
    "X_tralid, X_test, y_tralid, y_test = train_test_split(\n",
    "    features, target, stratify=target, test_size=.2, random_state=42)\n",
    "\n",
    "X_train, X_valid, y_train, y_valid = train_test_split(\n",
    "    X_tralid, y_tralid, stratify=y_tralid, test_size=.2, random_state=42)\n",
    "\n",
    "print('Тренировочная выборка: {}.'.format(X_train.shape), 'Тренировочные результаты: {}.'.format(y_train.shape))\n",
    "print('Валидационная выборка: {}.'.format(X_valid.shape), 'Валидационные результаты: {}.'.format(y_valid.shape))\n",
    "print('Тренировочная + валидационная выборка: {}.'.format(X_tralid.shape), \n",
    "      'Тренировочные+ валидационные результаты: {}.'.format(y_tralid.shape))\n",
    "print('Тестовая выборка: {}.'.format(X_test.shape), 'Тестовые результаты: {}.'.format(y_test.shape))"
   ]
  },
  {
   "cell_type": "markdown",
   "metadata": {},
   "source": [
    "[к началу шага](#2-1) | [к началу этапа](#2) | [к началу страницы](#top)"
   ]
  },
  {
   "cell_type": "markdown",
   "metadata": {},
   "source": [
    "<a id=\"3\"></a>\n",
    "## Этап 3. Исследование моделей"
   ]
  },
  {
   "cell_type": "markdown",
   "metadata": {},
   "source": [
    "Так как нам нужно предсказать значение столбца `is_ultra`, который принимает значения 0 (тариф «Smart») и 1 (тариф «Ultra»), наша задача сводится к бинарной классификации. Поэтому мы будем вибирать лучшую из трёх моделей, доступных в библиотеках Scikit Learn:\n",
    "- решающее дерево (`DecisionTreeClassifier`);\n",
    "- случайный лес (`RandomForestClassifier`);\n",
    "- логистическая регрессия (`LogisticRegression`).\n",
    "\n",
    "Определим функцию для поиска лучших гиперпараметров:"
   ]
  },
  {
   "cell_type": "code",
   "execution_count": 10,
   "metadata": {},
   "outputs": [],
   "source": [
    "#  объявляем переменные для хранения лучших гиперпараметров и метрик\n",
    "tree_best, forest_best, logreg_best = {}, {}, {}\n",
    "tree_stats, forest_stats, logreg_stats = ['Решающее дерево'], ['Случайный лес'], ['Логистическая регрессия']\n",
    "\n",
    "def grid_search(clf, grid_params):\n",
    "    global tree_best, forest_best, logreg_best  #  обращаемся к переменным как к глобальным\n",
    "    \n",
    "    #  с помощью поиска по сетке определяем наилучшую версию модели\n",
    "    grid = GridSearchCV(clf, grid_params, scoring = 'accuracy', cv=5, n_jobs=-1)\n",
    "    grid.fit(X_train, y_train)\n",
    "    \n",
    "    #  выводим информацию о наилучшей версии модели\n",
    "    print('Гиперпараметры наилучшей модели:', grid.best_params_)\n",
    "    print('Accuracy наилучшей модели на обучающей выборке:', grid.best_score_)\n",
    "    print('Accuracy наилучшей модели на валидационной выборке:', accuracy_score(y_valid, grid.predict(X_valid)))\n",
    "    \n",
    "    #  сохраняем гиперпараметры и метрики точности лучшей версии модели\n",
    "    if  type(clf).__name__ == 'DecisionTreeClassifier':\n",
    "        tree_best = grid.best_params_\n",
    "        tree_stats.extend([grid.best_score_, accuracy_score(y_valid, grid.predict(X_valid))])\n",
    "    elif type(clf).__name__ == 'RandomForestClassifier':\n",
    "        forest_best = grid.best_params_\n",
    "        forest_stats.extend([grid.best_score_, accuracy_score(y_valid, grid.predict(X_valid))])\n",
    "    else:\n",
    "        logreg_best = grid.best_params_\n",
    "        logreg_stats.extend([grid.best_score_, accuracy_score(y_valid, grid.predict(X_valid))])"
   ]
  },
  {
   "cell_type": "markdown",
   "metadata": {},
   "source": [
    "<a id=\"3-1\"></a>\n",
    "### Шаг 3.1 Решающее дерево"
   ]
  },
  {
   "cell_type": "markdown",
   "metadata": {},
   "source": [
    "Начнём с решающего дерева."
   ]
  },
  {
   "cell_type": "code",
   "execution_count": 11,
   "metadata": {
    "scrolled": true
   },
   "outputs": [
    {
     "name": "stdout",
     "output_type": "stream",
     "text": [
      "Решающее дерево\n",
      "Гиперпараметры наилучшей модели: {'criterion': 'entropy', 'max_depth': 3}\n",
      "Accuracy наилучшей модели на обучающей выборке: 0.7879377431906615\n",
      "Accuracy наилучшей модели на валидационной выборке: 0.7922330097087379\n",
      "CPU times: user 861 ms, sys: 7.34 ms, total: 868 ms\n",
      "Wall time: 881 ms\n"
     ]
    }
   ],
   "source": [
    "%%time\n",
    "tree_clf = DecisionTreeClassifier(random_state=random_state)\n",
    "tree_params = {'max_depth': range(1, 11),\n",
    "               'criterion': ['entropy', 'gini']}\n",
    "\n",
    "print('Решающее дерево')\n",
    "grid_search(tree_clf, tree_params)"
   ]
  },
  {
   "cell_type": "markdown",
   "metadata": {},
   "source": [
    "Самым лучшим для решающего дерева оказался набор гиперпараметров `{'criterion': 'entropy', 'max_depth': 3}`. Точность и на обучающей выборке, и на валидационной выборке примерно **0.79**. Это лучше, чем **0.75** по условию, поэтому нам подходит."
   ]
  },
  {
   "cell_type": "markdown",
   "metadata": {},
   "source": [
    "[к началу шага](#3-1) | [к началу этапа](#3) | [к началу страницы](#top)"
   ]
  },
  {
   "cell_type": "markdown",
   "metadata": {},
   "source": [
    "<a id=\"3-2\"></a>\n",
    "### Шаг 3.2 Случайный лес"
   ]
  },
  {
   "cell_type": "markdown",
   "metadata": {},
   "source": [
    "Теперь настал черёд случайного леса."
   ]
  },
  {
   "cell_type": "code",
   "execution_count": 12,
   "metadata": {},
   "outputs": [
    {
     "name": "stdout",
     "output_type": "stream",
     "text": [
      "Случайный лес\n",
      "Гиперпараметры наилучшей модели: {'criterion': 'entropy', 'max_depth': 9, 'n_estimators': 100}\n",
      "Accuracy наилучшей модели на обучающей выборке: 0.8103112840466926\n",
      "Accuracy наилучшей модели на валидационной выборке: 0.8077669902912621\n",
      "CPU times: user 5min 34s, sys: 2.19 s, total: 5min 37s\n",
      "Wall time: 5min 37s\n"
     ]
    }
   ],
   "source": [
    "%%time\n",
    "forest_clf = RandomForestClassifier(random_state=random_state)\n",
    "forest_params = {'n_estimators': range(10, 151, 10),\n",
    "               'max_depth': range(1, 11), \n",
    "               'criterion': ['entropy', 'gini']}\n",
    "\n",
    "print('Случайный лес')\n",
    "grid_search(forest_clf, forest_params)"
   ]
  },
  {
   "cell_type": "markdown",
   "metadata": {},
   "source": [
    "После долгих пяти с половиной минут перебора самым лучшим набором гиперпараметров для случайного леса оказался `{'criterion': 'entropy', 'max_depth': 9, 'n_estimators': 100}`. Точность на обучающей выборке и на валидационной выборке примерно **0.81**. Это пока лучший результат, и точно луше чем **0.75** по условию, поэтому пока это наш основной вариант."
   ]
  },
  {
   "cell_type": "markdown",
   "metadata": {},
   "source": [
    "[к началу шага](#3-2) | [к началу этапа](#3) | [к началу страницы](#top)"
   ]
  },
  {
   "cell_type": "markdown",
   "metadata": {},
   "source": [
    "<a id=\"3-3\"></a>\n",
    "### Шаг 3.3 Логистическая регрессия"
   ]
  },
  {
   "cell_type": "markdown",
   "metadata": {},
   "source": [
    "Найдём лучшие гиперпараметры для логистической регрессии:"
   ]
  },
  {
   "cell_type": "code",
   "execution_count": 13,
   "metadata": {},
   "outputs": [
    {
     "name": "stdout",
     "output_type": "stream",
     "text": [
      "Логистическая регрессия\n",
      "Гиперпараметры наилучшей модели: {'C': 0.5, 'penalty': 'l1', 'solver': 'liblinear'}\n",
      "Accuracy наилучшей модели на обучающей выборке: 0.7436770428015564\n",
      "Accuracy наилучшей модели на валидационной выборке: 0.7495145631067961\n",
      "CPU times: user 9.16 s, sys: 15.9 ms, total: 9.18 s\n",
      "Wall time: 9.21 s\n"
     ]
    }
   ],
   "source": [
    "%%time\n",
    "logreg_clf = LogisticRegression(random_state=random_state)\n",
    "logreg_params = [\n",
    "  {'penalty': ['l1'], 'solver': ['liblinear', 'saga'], 'C': [0.1, 0.5, 1, 5, 10, 50, 100]},\n",
    "  {'penalty': ['l2'], 'solver': ['liblinear', 'saga', 'sag', 'lbfgs', 'newton-cg'], 'C': [0.1, 0.5, 1, 5, 10, 50, 100]},\n",
    "  ]\n",
    "\n",
    "print('Логистическая регрессия')\n",
    "grid_search(logreg_clf, logreg_params)"
   ]
  },
  {
   "cell_type": "markdown",
   "metadata": {},
   "source": [
    "Логистическая регрессия оказалась хуже, чем другие варианты. Лучший набор гиперпараметров: `{'C': 0.5, 'penalty': 'l1', 'solver': 'liblinear'}`. Самая низкая точность на обучающей выборке **0.74**, на валидационной выборке совсем немного не хватило до чистых **0.75** по условию. Пока не отбрасываем этот вариант, но он для нас наименее приоритетный."
   ]
  },
  {
   "cell_type": "markdown",
   "metadata": {},
   "source": [
    "[к началу шага](#3-3) | [к началу этапа](#3) | [к началу страницы](#top)"
   ]
  },
  {
   "cell_type": "markdown",
   "metadata": {},
   "source": [
    "<a id=\"4\"></a>\n",
    "## Этап 4. Проверка моделей на тестовой выборке"
   ]
  },
  {
   "cell_type": "markdown",
   "metadata": {},
   "source": [
    "Кроме проверки на тренировочной и валидационной выборках, сделаем контрольную проверку моделей на тестовой выборке. Перед этим обучим модели на объединённой тренировочной и валидационной выборках. А для сбора результатов напишем функцию:"
   ]
  },
  {
   "cell_type": "code",
   "execution_count": 14,
   "metadata": {},
   "outputs": [],
   "source": [
    "def test_score(clf):\n",
    "    #  тренируем модель на объединённой обучающей и валидационной выборке\n",
    "    clf.fit(X_tralid, y_tralid)\n",
    "    \n",
    "    #  выводим метрики модели\n",
    "    print('Accuracy модели на тренировочной выборке:', accuracy_score(y_tralid, clf.predict(X_tralid)))\n",
    "    print('Accuracy модели на тестовой выборке:', accuracy_score(y_test, clf.predict(X_test)))\n",
    "    \n",
    "    #  сохраняем метрики точности\n",
    "    if  type(clf).__name__ == 'DecisionTreeClassifier':\n",
    "        tree_stats.extend([accuracy_score(y_tralid, clf.predict(X_tralid)), accuracy_score(y_test, clf.predict(X_test))])\n",
    "    elif type(clf).__name__ == 'RandomForestClassifier':\n",
    "        forest_stats.extend([accuracy_score(y_tralid, clf.predict(X_tralid)), accuracy_score(y_test, clf.predict(X_test))])\n",
    "    else:\n",
    "        logreg_stats.extend([accuracy_score(y_tralid, clf.predict(X_tralid)), accuracy_score(y_test, clf.predict(X_test))])"
   ]
  },
  {
   "cell_type": "markdown",
   "metadata": {},
   "source": [
    "<a id=\"4-1\"></a>\n",
    "### Шаг 4.1 Решающее дерево"
   ]
  },
  {
   "cell_type": "markdown",
   "metadata": {},
   "source": [
    "Начнём с дерева, но уже не будем перебирать все варианты глубины, а выберем лучший: `{'criterion': 'entropy', 'max_depth': 3}`:"
   ]
  },
  {
   "cell_type": "code",
   "execution_count": 15,
   "metadata": {
    "scrolled": true
   },
   "outputs": [
    {
     "name": "stdout",
     "output_type": "stream",
     "text": [
      "Решающее дерево. Параметры: {'criterion': 'entropy', 'max_depth': 3}\n",
      "Accuracy модели на тренировочной выборке: 0.793076623881758\n",
      "Accuracy модели на тестовой выборке: 0.8009331259720062\n"
     ]
    }
   ],
   "source": [
    "tree_clf = DecisionTreeClassifier(**tree_best, random_state=random_state)\n",
    "print('Решающее дерево. Параметры:', tree_best)\n",
    "\n",
    "test_score(tree_clf)"
   ]
  },
  {
   "cell_type": "markdown",
   "metadata": {},
   "source": [
    "На объединённой выборке точность всё так же примерно **0.79**, а на тестовой даже подросла до **0.8**. Это всё ещё лучше, чем **0.75** по условию."
   ]
  },
  {
   "cell_type": "markdown",
   "metadata": {},
   "source": [
    "[к началу шага](#4-1) | [к началу этапа](#4) | [к началу страницы](#top)"
   ]
  },
  {
   "cell_type": "markdown",
   "metadata": {},
   "source": [
    "<a id=\"4-2\"></a>\n",
    "### Шаг 4.2 Случайный лес"
   ]
  },
  {
   "cell_type": "markdown",
   "metadata": {},
   "source": [
    "Для леса сразу выберем лучшие значения гиперпараметров `{'criterion': 'entropy', 'max_depth': 9, 'n_estimators': 100}`:"
   ]
  },
  {
   "cell_type": "code",
   "execution_count": 16,
   "metadata": {
    "scrolled": false
   },
   "outputs": [
    {
     "name": "stdout",
     "output_type": "stream",
     "text": [
      "Случайный лес. Параметры: {'criterion': 'entropy', 'max_depth': 9, 'n_estimators': 100}\n",
      "Accuracy модели на тренировочной выборке: 0.8595877090626215\n",
      "Accuracy модели на тестовой выборке: 0.8149300155520995\n"
     ]
    }
   ],
   "source": [
    "forest_clf = RandomForestClassifier(**forest_best, random_state=random_state)\n",
    "print('Случайный лес. Параметры:', forest_best)\n",
    "\n",
    "test_score(forest_clf)"
   ]
  },
  {
   "cell_type": "markdown",
   "metadata": {},
   "source": [
    "На объединённой выборке точность выросла аж до почти **0.86**, а на тестовой всё те же примерно **0.81**. Это всё ещё лучший результат, и лучше чем **0.75** по условию."
   ]
  },
  {
   "cell_type": "markdown",
   "metadata": {},
   "source": [
    "[к началу шага](#4-2) | [к началу этапа](#4) | [к началу страницы](#top)"
   ]
  },
  {
   "cell_type": "markdown",
   "metadata": {},
   "source": [
    "<a id=\"4-3\"></a>\n",
    "### Шаг 4.3 Логистическая регрессия"
   ]
  },
  {
   "cell_type": "markdown",
   "metadata": {},
   "source": [
    "Посмотрим как поведёт себя логистическая регрессия на тестовой выборке. Набор гиперпараметров `{'C': 0.5, 'penalty': 'l1', 'solver': 'liblinear'}`:"
   ]
  },
  {
   "cell_type": "code",
   "execution_count": 17,
   "metadata": {},
   "outputs": [
    {
     "name": "stdout",
     "output_type": "stream",
     "text": [
      "Логистическая регрессия. Параметры: {'C': 0.5, 'penalty': 'l1', 'solver': 'liblinear'}\n",
      "Accuracy модели на тренировочной выборке: 0.7440684558537534\n",
      "Accuracy модели на тестовой выборке: 0.7433903576982893\n"
     ]
    }
   ],
   "source": [
    "logreg_clf = LogisticRegression(**logreg_best, random_state=random_state)\n",
    "print('Логистическая регрессия. Параметры:', logreg_best)\n",
    "\n",
    "test_score(logreg_clf)"
   ]
  },
  {
   "cell_type": "markdown",
   "metadata": {},
   "source": [
    "Чуда не произошло. Логистическая регрессия всё еще хуже, чем другие варианты. Самая низкая точность как на объединённой, так и на тестовой выборке: **0.74**. Логистическая регрессия так и не дотянула до необходимых **0.75** по условию, то есть она нам явно не подходит."
   ]
  },
  {
   "cell_type": "markdown",
   "metadata": {},
   "source": [
    "[к началу шага](#4-3) | [к началу этапа](#4) | [к началу страницы](#top)"
   ]
  },
  {
   "cell_type": "markdown",
   "metadata": {},
   "source": [
    "<a id=\"5\"></a>\n",
    "## Этап 5. Проверка моделей на адекватность"
   ]
  },
  {
   "cell_type": "markdown",
   "metadata": {},
   "source": [
    "<a id=\"5-1\"></a>\n",
    "### Шаг 5.1 Случайное распределение"
   ]
  },
  {
   "cell_type": "markdown",
   "metadata": {},
   "source": [
    "Чтобы проверить, что наши модели адекватно строят зависимости и действительно предсказывают значения, воспользуемся случайным распределением для проверки на адекватность. Для этого мы создадим выборку со случайным распределением и проверим насколько точность и корень из среднеквадратическая ошибки отличаются от наших моделей:"
   ]
  },
  {
   "cell_type": "code",
   "execution_count": 18,
   "metadata": {},
   "outputs": [
    {
     "name": "stdout",
     "output_type": "stream",
     "text": [
      "Случайное распределение\n",
      "Accuracy модели на тренировочной выборке: 0.5772073123298328\n",
      "Accuracy модели на тестовой выборке: 0.5909797822706065\n"
     ]
    }
   ],
   "source": [
    "dummy_clf = DummyClassifier(random_state=random_state)\n",
    "dummy_clf.fit(X_tralid, y_tralid)\n",
    "predictions_sanity = dummy_clf.predict(X_test)\n",
    "\n",
    "print('Случайное распределение')\n",
    "print('Accuracy модели на тренировочной выборке:', dummy_clf.score(X_tralid, y_tralid))\n",
    "print('Accuracy модели на тестовой выборке:', accuracy_score(y_test, predictions_sanity))\n",
    "\n",
    "dummy_stats = ['Случайное распределение', \n",
    "               None, \n",
    "               None, \n",
    "               dummy_clf.score(X_tralid, y_tralid), \n",
    "               accuracy_score(y_test, predictions_sanity)]"
   ]
  },
  {
   "cell_type": "markdown",
   "metadata": {},
   "source": [
    "Для случайной выборки характерна самая низкая точность: **0.57** на объединённой выборке и **0.59** на тестовой (худшая у логистической регрессии **0.74**). Как видим, точность для случайного распределения близка к **50%**, как и должно быть. Посмотрим на результаты моделей в табличке:"
   ]
  },
  {
   "cell_type": "code",
   "execution_count": 19,
   "metadata": {},
   "outputs": [
    {
     "data": {
      "text/html": [
       "<div>\n",
       "<style scoped>\n",
       "    .dataframe tbody tr th:only-of-type {\n",
       "        vertical-align: middle;\n",
       "    }\n",
       "\n",
       "    .dataframe tbody tr th {\n",
       "        vertical-align: top;\n",
       "    }\n",
       "\n",
       "    .dataframe thead th {\n",
       "        text-align: right;\n",
       "    }\n",
       "</style>\n",
       "<table border=\"1\" class=\"dataframe\">\n",
       "  <thead>\n",
       "    <tr style=\"text-align: right;\">\n",
       "      <th></th>\n",
       "      <th>model</th>\n",
       "      <th>train</th>\n",
       "      <th>valid</th>\n",
       "      <th>tralid</th>\n",
       "      <th>test</th>\n",
       "    </tr>\n",
       "  </thead>\n",
       "  <tbody>\n",
       "    <tr>\n",
       "      <td>1</td>\n",
       "      <td>Случайный лес</td>\n",
       "      <td>0.810311</td>\n",
       "      <td>0.807767</td>\n",
       "      <td>0.859588</td>\n",
       "      <td>0.814930</td>\n",
       "    </tr>\n",
       "    <tr>\n",
       "      <td>0</td>\n",
       "      <td>Решающее дерево</td>\n",
       "      <td>0.787938</td>\n",
       "      <td>0.792233</td>\n",
       "      <td>0.793077</td>\n",
       "      <td>0.800933</td>\n",
       "    </tr>\n",
       "    <tr>\n",
       "      <td>2</td>\n",
       "      <td>Логистическая регрессия</td>\n",
       "      <td>0.743677</td>\n",
       "      <td>0.749515</td>\n",
       "      <td>0.744068</td>\n",
       "      <td>0.743390</td>\n",
       "    </tr>\n",
       "    <tr>\n",
       "      <td>3</td>\n",
       "      <td>Случайное распределение</td>\n",
       "      <td>NaN</td>\n",
       "      <td>NaN</td>\n",
       "      <td>0.577207</td>\n",
       "      <td>0.590980</td>\n",
       "    </tr>\n",
       "  </tbody>\n",
       "</table>\n",
       "</div>"
      ],
      "text/plain": [
       "                     model     train     valid    tralid      test\n",
       "1            Случайный лес  0.810311  0.807767  0.859588  0.814930\n",
       "0          Решающее дерево  0.787938  0.792233  0.793077  0.800933\n",
       "2  Логистическая регрессия  0.743677  0.749515  0.744068  0.743390\n",
       "3  Случайное распределение       NaN       NaN  0.577207  0.590980"
      ]
     },
     "metadata": {},
     "output_type": "display_data"
    }
   ],
   "source": [
    "stats = pd.DataFrame([tree_stats, forest_stats, logreg_stats, dummy_stats], \n",
    "                     columns=['model', 'train', 'valid', 'tralid', 'test'])\n",
    "\n",
    "display(stats.sort_values(by='test', ascending=False))"
   ]
  },
  {
   "cell_type": "markdown",
   "metadata": {},
   "source": [
    "Как видим, все наши модели показали результаты лучше, чем при случайном заполнении, то есть прошли **sanity check**. Даже логистическая регрессия, которая не прошла по условию поставленной задачи, всё равно выдаёт адекватный результат, хоть и его точность нас не удовлетворяет."
   ]
  },
  {
   "cell_type": "markdown",
   "metadata": {},
   "source": [
    "[к началу шага](#5-1) | [к началу этапа](#5) | [к началу страницы](#top)"
   ]
  },
  {
   "cell_type": "markdown",
   "metadata": {},
   "source": [
    "<a id=\"6\"></a>\n",
    "## Этап 6. Результаты исследования"
   ]
  },
  {
   "cell_type": "markdown",
   "metadata": {},
   "source": [
    "<a id=\"6-1\"></a>\n",
    "### Шаг 6.1 Общие выводы"
   ]
  },
  {
   "cell_type": "markdown",
   "metadata": {},
   "source": [
    "В этом исследовании мы подбирали наилучшую модель для подбора тарифа, который стоит предложить пользователю в зависимости от количества звонков и смс и потребляемого интернет-трафика. Так как тарифа всего два, задача свелась к бинарной классификации.\n",
    "\n",
    "В рамках задачи бинарной классификации мы рассмотрели 3 модели:\n",
    "- решающее дерево (`DecisionTreeClassifier`);\n",
    "- случайный лес (`RandomForestClassifier`);\n",
    "- логистическая регрессия (`LogisticRegression`).\n",
    "\n",
    "Каждую модель мы обучили на нескольких типах выборок: первое обучение происходило на предварительной выборке 80% от всего датасета, который мы в свою очередь разделили в пропорции 80/20 на обучающую (64% от всех данных) и валидационную (16% от всех данных) выборки. Затем, после определения наилучших гиперпараметров для каждой модели мы заново обучили их на объединённой обучающей и валидационной (80% от всех данных) выборке, а точность проверили на тестовой выборке (20% данных). Во всех выборках тарифы были представлены в одинаковых пропорциях, характерных для всего датасета.\n",
    "\n",
    "Для всех моделей мы подбирали наилучшие гиперпараметры. Для дерева наилучший результат был достигнут при наборе гиперпараметров `{'criterion': 'entropy', 'max_depth': 3}`, для леса &mdash; при значениях гиперпараметров `{'criterion': 'entropy', 'max_depth': 9, 'n_estimators': 100}`, а для логистической регрессии &mdash; `{'C': 0.5, 'penalty': 'l1', 'solver': 'liblinear'}`.\n",
    "\n",
    "По предварительному условию, удовлетворительной считается модель со значением accuracy не менее 0.75. Мы проверили accuracy для каждой модели, и только у решающего дерева и случайного леса точность выше удовлетворительной. Логистическая регрессия, увы, не может быть рекомендована к использованию.\n",
    "\n",
    "Также мы провели **sanity check** для всех трёх моделей (в том числе и для логистической регрессии). Все три модели дают заметно лучшие результаты, чем просто случайное распределение, то есть проверка пройдена всеми моделями.\n",
    "\n",
    "Резюмируя, можно сказать что в целях предложения подходящего тарифа допустимо использовать решающее дерево и случайный лес. Рекомендованные гиперпараметры: `{'criterion': 'entropy', 'max_depth': 3}` для дерева, `{'criterion': 'entropy', 'max_depth': 9, 'n_estimators': 100}` для леса.\n",
    "\n",
    "Самая лучшая точность (**0.81**) достигнута с помощью модели случайного леса с гиперпараметрами `{'criterion': 'entropy', 'max_depth': 9, 'n_estimators': 100}`."
   ]
  },
  {
   "cell_type": "markdown",
   "metadata": {},
   "source": [
    "[к началу шага](#6-1) | [к началу этапа](#6) | [к началу страницы](#top)"
   ]
  },
  {
   "cell_type": "code",
   "execution_count": null,
   "metadata": {},
   "outputs": [],
   "source": []
  }
 ],
 "metadata": {
  "kernelspec": {
   "display_name": "Python 3",
   "language": "python",
   "name": "python3"
  },
  "language_info": {
   "codemirror_mode": {
    "name": "ipython",
    "version": 3
   },
   "file_extension": ".py",
   "mimetype": "text/x-python",
   "name": "python",
   "nbconvert_exporter": "python",
   "pygments_lexer": "ipython3",
   "version": "3.7.6"
  }
 },
 "nbformat": 4,
 "nbformat_minor": 2
}
