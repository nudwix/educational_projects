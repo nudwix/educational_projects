{
 "cells": [
  {
   "cell_type": "markdown",
   "metadata": {},
   "source": [
    "# Исследование надёжности заёмщиков\n",
    "<a id=\"top\"></a>"
   ]
  },
  {
   "cell_type": "markdown",
   "metadata": {},
   "source": [
    "<h4 align=\"right\">Артур Урусов</h4>"
   ]
  },
  {
   "cell_type": "markdown",
   "metadata": {},
   "source": [
    "> Заказчик — кредитный отдел банка. Нужно разобраться, влияет ли семейное положение и количество детей клиента на факт погашения кредита в срок. Входные данные от банка — статистика о платёжеспособности клиентов.\n",
    ">\n",
    ">Результаты исследования будут учтены при построении модели кредитного скоринга — специальной системы, которая оценивает способность потенциального заёмщика вернуть кредит банку."
   ]
  },
  {
   "cell_type": "markdown",
   "metadata": {},
   "source": [
    "## Содержание\n",
    "\n",
    "0. [Подготовка](#0)\n",
    "\n",
    "    0.1. [Импорт библиотек](#0-1)\n",
    "    \n",
    "    0.2. [Проверка версий](#0-2)\n",
    "\n",
    "\n",
    "1. [Получение данных](#1)\n",
    "\n",
    "    1.1. [Чтение файла](#1-1) \n",
    "    \n",
    "    1.2. [Выводы по первому этапу](#1-2)\n",
    "\n",
    "\n",
    "2. [Предобработка данных](#2)\n",
    "\n",
    "    2.1. [Заголовки и дубликаты](#2-1)\n",
    "    \n",
    "    2.2. [Пропущенные значения](#2-2)\n",
    "    \n",
    "    2.3. [Аномальные значения](#2-3)\n",
    "    \n",
    "    2.4. [Изменение типа данных](#2-4)\n",
    "    \n",
    "    2.5. [Лемматизация данных](#2-5)\n",
    "    \n",
    "    2.6. [Категорирование данных](#2-6)\n",
    "    \n",
    "    2.7. [Выводы по второму этапу](#2-7)\n",
    "\n",
    "\n",
    "3. [Проверка гипотез](#3)\n",
    "\n",
    "    3.1. [Как влияет наличие детей на возврат кредита в срок?](#3-1)\n",
    "    \n",
    "    3.2. [С какой веротностью вернут кредит в срок клиенты с разным семейным положением?](#3-2)\n",
    "    \n",
    "    3.3. [Кто вероятнее расплатится в срок - бедный или богатый?](#3-3)\n",
    "    \n",
    "    3.4. [Свадьба или образование? Автомобиль или недвижимость? Где риски невозврата кредита выше?](#3-4)\n",
    "\n",
    "\n",
    "4. [Результаты исследования](#4)\n",
    "\n",
    "    4.1. [Общие выводы](#4-1)"
   ]
  },
  {
   "cell_type": "markdown",
   "metadata": {},
   "source": [
    "[к началу страницы](#top)"
   ]
  },
  {
   "cell_type": "markdown",
   "metadata": {},
   "source": [
    "## Этап 0. Подготовка\n",
    "<a id=\"0\"></a>"
   ]
  },
  {
   "cell_type": "markdown",
   "metadata": {},
   "source": [
    "### 0.1 Импорт библиотек\n",
    "<a id=\"0-1\"></a>"
   ]
  },
  {
   "cell_type": "code",
   "execution_count": 1,
   "metadata": {
    "scrolled": false
   },
   "outputs": [],
   "source": [
    "# импортируем необходимые библиотеки и функции\n",
    "import platform\n",
    "import pandas as pd\n",
    "import random\n",
    "import matplotlib.pyplot as plt\n",
    "import matplotlib.ticker as mtick\n",
    "from pymystem3 import Mystem\n",
    "from collections import Counter\n",
    "m = Mystem() # присваиваем переменной m функцию Mystem"
   ]
  },
  {
   "cell_type": "markdown",
   "metadata": {},
   "source": [
    "### 0.2 Проверка версий\n",
    "<a id=\"0-2\"></a>"
   ]
  },
  {
   "cell_type": "markdown",
   "metadata": {},
   "source": [
    "Проект гарантированно работает с Python версии `3.7.6` и библиотекой Pandas версии `0.25.1`"
   ]
  },
  {
   "cell_type": "code",
   "execution_count": 2,
   "metadata": {},
   "outputs": [
    {
     "name": "stdout",
     "output_type": "stream",
     "text": [
      "Python 3.7.6\n",
      "Pandas 0.25.1\n"
     ]
    }
   ],
   "source": [
    "print('Python ' + platform.python_version()) # версия Python\n",
    "print('Pandas ' + pd.__version__)            # версия Pandas"
   ]
  },
  {
   "cell_type": "markdown",
   "metadata": {},
   "source": [
    "[к началу раздела](#0) | [к началу страницы](#top)"
   ]
  },
  {
   "cell_type": "markdown",
   "metadata": {},
   "source": [
    "## Этап 1. Получение данных\n",
    "<a id=\"1\"></a>"
   ]
  },
  {
   "cell_type": "markdown",
   "metadata": {},
   "source": [
    "### 1.1 Чтение файла\n",
    "<a id=\"1-1\"></a>"
   ]
  },
  {
   "cell_type": "markdown",
   "metadata": {},
   "source": [
    "Прочитаем файл */datasets/data.csv* и сохраним его в переменной `df`:"
   ]
  },
  {
   "cell_type": "code",
   "execution_count": 3,
   "metadata": {},
   "outputs": [],
   "source": [
    "if platform.system() == 'Windows':\n",
    "    # прочитаем файл с данными и сохраним в df (Windows)\n",
    "    df = pd.read_csv('datasets\\data.csv')\n",
    "else:\n",
    "    # прочитаем файл с данными с сохраним в df (UNIX-like)\n",
    "    df = pd.read_csv('/datasets/data.csv')"
   ]
  },
  {
   "cell_type": "markdown",
   "metadata": {},
   "source": [
    "Получим общую информацию о таблице:"
   ]
  },
  {
   "cell_type": "code",
   "execution_count": 4,
   "metadata": {},
   "outputs": [
    {
     "name": "stdout",
     "output_type": "stream",
     "text": [
      "<class 'pandas.core.frame.DataFrame'>\n",
      "RangeIndex: 21525 entries, 0 to 21524\n",
      "Data columns (total 12 columns):\n",
      "children            21525 non-null int64\n",
      "days_employed       19351 non-null float64\n",
      "dob_years           21525 non-null int64\n",
      "education           21525 non-null object\n",
      "education_id        21525 non-null int64\n",
      "family_status       21525 non-null object\n",
      "family_status_id    21525 non-null int64\n",
      "gender              21525 non-null object\n",
      "income_type         21525 non-null object\n",
      "debt                21525 non-null int64\n",
      "total_income        19351 non-null float64\n",
      "purpose             21525 non-null object\n",
      "dtypes: float64(2), int64(5), object(5)\n",
      "memory usage: 2.0+ MB\n"
     ]
    }
   ],
   "source": [
    "df.info() # получим общую информацию о таблице df"
   ]
  },
  {
   "cell_type": "markdown",
   "metadata": {},
   "source": [
    "Выведем первые 10 строк таблицы:"
   ]
  },
  {
   "cell_type": "code",
   "execution_count": 5,
   "metadata": {},
   "outputs": [
    {
     "data": {
      "text/html": [
       "<div>\n",
       "<style scoped>\n",
       "    .dataframe tbody tr th:only-of-type {\n",
       "        vertical-align: middle;\n",
       "    }\n",
       "\n",
       "    .dataframe tbody tr th {\n",
       "        vertical-align: top;\n",
       "    }\n",
       "\n",
       "    .dataframe thead th {\n",
       "        text-align: right;\n",
       "    }\n",
       "</style>\n",
       "<table border=\"1\" class=\"dataframe\">\n",
       "  <thead>\n",
       "    <tr style=\"text-align: right;\">\n",
       "      <th></th>\n",
       "      <th>children</th>\n",
       "      <th>days_employed</th>\n",
       "      <th>dob_years</th>\n",
       "      <th>education</th>\n",
       "      <th>education_id</th>\n",
       "      <th>family_status</th>\n",
       "      <th>family_status_id</th>\n",
       "      <th>gender</th>\n",
       "      <th>income_type</th>\n",
       "      <th>debt</th>\n",
       "      <th>total_income</th>\n",
       "      <th>purpose</th>\n",
       "    </tr>\n",
       "  </thead>\n",
       "  <tbody>\n",
       "    <tr>\n",
       "      <td>0</td>\n",
       "      <td>1</td>\n",
       "      <td>-8437.673028</td>\n",
       "      <td>42</td>\n",
       "      <td>высшее</td>\n",
       "      <td>0</td>\n",
       "      <td>женат / замужем</td>\n",
       "      <td>0</td>\n",
       "      <td>F</td>\n",
       "      <td>сотрудник</td>\n",
       "      <td>0</td>\n",
       "      <td>253875.639453</td>\n",
       "      <td>покупка жилья</td>\n",
       "    </tr>\n",
       "    <tr>\n",
       "      <td>1</td>\n",
       "      <td>1</td>\n",
       "      <td>-4024.803754</td>\n",
       "      <td>36</td>\n",
       "      <td>среднее</td>\n",
       "      <td>1</td>\n",
       "      <td>женат / замужем</td>\n",
       "      <td>0</td>\n",
       "      <td>F</td>\n",
       "      <td>сотрудник</td>\n",
       "      <td>0</td>\n",
       "      <td>112080.014102</td>\n",
       "      <td>приобретение автомобиля</td>\n",
       "    </tr>\n",
       "    <tr>\n",
       "      <td>2</td>\n",
       "      <td>0</td>\n",
       "      <td>-5623.422610</td>\n",
       "      <td>33</td>\n",
       "      <td>Среднее</td>\n",
       "      <td>1</td>\n",
       "      <td>женат / замужем</td>\n",
       "      <td>0</td>\n",
       "      <td>M</td>\n",
       "      <td>сотрудник</td>\n",
       "      <td>0</td>\n",
       "      <td>145885.952297</td>\n",
       "      <td>покупка жилья</td>\n",
       "    </tr>\n",
       "    <tr>\n",
       "      <td>3</td>\n",
       "      <td>3</td>\n",
       "      <td>-4124.747207</td>\n",
       "      <td>32</td>\n",
       "      <td>среднее</td>\n",
       "      <td>1</td>\n",
       "      <td>женат / замужем</td>\n",
       "      <td>0</td>\n",
       "      <td>M</td>\n",
       "      <td>сотрудник</td>\n",
       "      <td>0</td>\n",
       "      <td>267628.550329</td>\n",
       "      <td>дополнительное образование</td>\n",
       "    </tr>\n",
       "    <tr>\n",
       "      <td>4</td>\n",
       "      <td>0</td>\n",
       "      <td>340266.072047</td>\n",
       "      <td>53</td>\n",
       "      <td>среднее</td>\n",
       "      <td>1</td>\n",
       "      <td>гражданский брак</td>\n",
       "      <td>1</td>\n",
       "      <td>F</td>\n",
       "      <td>пенсионер</td>\n",
       "      <td>0</td>\n",
       "      <td>158616.077870</td>\n",
       "      <td>сыграть свадьбу</td>\n",
       "    </tr>\n",
       "    <tr>\n",
       "      <td>5</td>\n",
       "      <td>0</td>\n",
       "      <td>-926.185831</td>\n",
       "      <td>27</td>\n",
       "      <td>высшее</td>\n",
       "      <td>0</td>\n",
       "      <td>гражданский брак</td>\n",
       "      <td>1</td>\n",
       "      <td>M</td>\n",
       "      <td>компаньон</td>\n",
       "      <td>0</td>\n",
       "      <td>255763.565419</td>\n",
       "      <td>покупка жилья</td>\n",
       "    </tr>\n",
       "    <tr>\n",
       "      <td>6</td>\n",
       "      <td>0</td>\n",
       "      <td>-2879.202052</td>\n",
       "      <td>43</td>\n",
       "      <td>высшее</td>\n",
       "      <td>0</td>\n",
       "      <td>женат / замужем</td>\n",
       "      <td>0</td>\n",
       "      <td>F</td>\n",
       "      <td>компаньон</td>\n",
       "      <td>0</td>\n",
       "      <td>240525.971920</td>\n",
       "      <td>операции с жильем</td>\n",
       "    </tr>\n",
       "    <tr>\n",
       "      <td>7</td>\n",
       "      <td>0</td>\n",
       "      <td>-152.779569</td>\n",
       "      <td>50</td>\n",
       "      <td>СРЕДНЕЕ</td>\n",
       "      <td>1</td>\n",
       "      <td>женат / замужем</td>\n",
       "      <td>0</td>\n",
       "      <td>M</td>\n",
       "      <td>сотрудник</td>\n",
       "      <td>0</td>\n",
       "      <td>135823.934197</td>\n",
       "      <td>образование</td>\n",
       "    </tr>\n",
       "    <tr>\n",
       "      <td>8</td>\n",
       "      <td>2</td>\n",
       "      <td>-6929.865299</td>\n",
       "      <td>35</td>\n",
       "      <td>ВЫСШЕЕ</td>\n",
       "      <td>0</td>\n",
       "      <td>гражданский брак</td>\n",
       "      <td>1</td>\n",
       "      <td>F</td>\n",
       "      <td>сотрудник</td>\n",
       "      <td>0</td>\n",
       "      <td>95856.832424</td>\n",
       "      <td>на проведение свадьбы</td>\n",
       "    </tr>\n",
       "    <tr>\n",
       "      <td>9</td>\n",
       "      <td>0</td>\n",
       "      <td>-2188.756445</td>\n",
       "      <td>41</td>\n",
       "      <td>среднее</td>\n",
       "      <td>1</td>\n",
       "      <td>женат / замужем</td>\n",
       "      <td>0</td>\n",
       "      <td>M</td>\n",
       "      <td>сотрудник</td>\n",
       "      <td>0</td>\n",
       "      <td>144425.938277</td>\n",
       "      <td>покупка жилья для семьи</td>\n",
       "    </tr>\n",
       "  </tbody>\n",
       "</table>\n",
       "</div>"
      ],
      "text/plain": [
       "   children  days_employed  dob_years education  education_id  \\\n",
       "0         1   -8437.673028         42    высшее             0   \n",
       "1         1   -4024.803754         36   среднее             1   \n",
       "2         0   -5623.422610         33   Среднее             1   \n",
       "3         3   -4124.747207         32   среднее             1   \n",
       "4         0  340266.072047         53   среднее             1   \n",
       "5         0    -926.185831         27    высшее             0   \n",
       "6         0   -2879.202052         43    высшее             0   \n",
       "7         0    -152.779569         50   СРЕДНЕЕ             1   \n",
       "8         2   -6929.865299         35    ВЫСШЕЕ             0   \n",
       "9         0   -2188.756445         41   среднее             1   \n",
       "\n",
       "      family_status  family_status_id gender income_type  debt   total_income  \\\n",
       "0   женат / замужем                 0      F   сотрудник     0  253875.639453   \n",
       "1   женат / замужем                 0      F   сотрудник     0  112080.014102   \n",
       "2   женат / замужем                 0      M   сотрудник     0  145885.952297   \n",
       "3   женат / замужем                 0      M   сотрудник     0  267628.550329   \n",
       "4  гражданский брак                 1      F   пенсионер     0  158616.077870   \n",
       "5  гражданский брак                 1      M   компаньон     0  255763.565419   \n",
       "6   женат / замужем                 0      F   компаньон     0  240525.971920   \n",
       "7   женат / замужем                 0      M   сотрудник     0  135823.934197   \n",
       "8  гражданский брак                 1      F   сотрудник     0   95856.832424   \n",
       "9   женат / замужем                 0      M   сотрудник     0  144425.938277   \n",
       "\n",
       "                      purpose  \n",
       "0               покупка жилья  \n",
       "1     приобретение автомобиля  \n",
       "2               покупка жилья  \n",
       "3  дополнительное образование  \n",
       "4             сыграть свадьбу  \n",
       "5               покупка жилья  \n",
       "6           операции с жильем  \n",
       "7                 образование  \n",
       "8       на проведение свадьбы  \n",
       "9     покупка жилья для семьи  "
      ]
     },
     "execution_count": 5,
     "metadata": {},
     "output_type": "execute_result"
    }
   ],
   "source": [
    "df.head(10) # выведем первые 10 строк таблицы df"
   ]
  },
  {
   "cell_type": "markdown",
   "metadata": {},
   "source": [
    "Теперь рассмотрим наши данные.\n",
    "\n",
    "Всего в таблице **11** столбцов, типы данных - *float64* (2), *int64* (5), *object* (5).\n",
    "\n",
    "Исходя из вводных данных в столбцах находится следующая информация:\n",
    "- `children` — количество детей в семье;\n",
    "- `days_employed` — общий трудовой стаж в днях;\n",
    "- `dob_years` — возраст клиента в годах;\n",
    "- `education` — уровень образования клиента;\n",
    "- `education_id` — идентификатор уровня образования;\n",
    "- `family_status` — семейное положение;\n",
    "- `family_status_id` — идентификатор семейного положения;\n",
    "- `gender` — пол клиента;\n",
    "- `income_type` — тип занятости;\n",
    "- `debt` — имел ли задолженность по возврату кредитов;\n",
    "- `total_income` — ежемесячный доход;\n",
    "- `purpose` — цель получения кредита.\n",
    "\n",
    "Всего строк **21525**, однако в столбцах `days_employed` и `total_income` по **19351** значений. Это говорит о том, что *во-первых*, в этих столбцах присутсвуют пропущенные значения, а *во-вторых*, что у отстутствия этих значений может быть общая причина."
   ]
  },
  {
   "cell_type": "markdown",
   "metadata": {},
   "source": [
    "### 1.2 Выводы по первому этапу\n",
    "<a id=\"1-2\"></a>"
   ]
  },
  {
   "cell_type": "markdown",
   "metadata": {},
   "source": [
    "Каждая строка таблицы содержит информацию по отдельному клиенту банка, который обращался за кредитом. С точки зрения поставленной задачи, в первую очередь нас будут интересовать столбцы `children` и `family_status`, однако и в других столбцах может скрываться интересующая нас информация. Для начала нужно разобраться со следующими проблемами в данных: поправить названия столбцов, исследовать и отработать пропущенные значения, привести типы значений к единому формату *(например в столбце `education`)*, а так же вынести их в словари, разобраться с отрицательными значениями в столбце `days_employed` и привести тип данных в столбцах к подходящему."
   ]
  },
  {
   "cell_type": "markdown",
   "metadata": {},
   "source": [
    "[к началу раздела](#1) | [к началу страницы](#top)"
   ]
  },
  {
   "cell_type": "markdown",
   "metadata": {},
   "source": [
    "## Этап 2. Предобработка данных\n",
    "<a id=\"2\"></a>"
   ]
  },
  {
   "cell_type": "markdown",
   "metadata": {},
   "source": [
    "### 2.1 Заголовки и дубликаты\n",
    "<a id=\"2-1\"></a>"
   ]
  },
  {
   "cell_type": "markdown",
   "metadata": {},
   "source": [
    "Для начала обработаем названия столбцов нашей таблицы."
   ]
  },
  {
   "cell_type": "code",
   "execution_count": 6,
   "metadata": {},
   "outputs": [
    {
     "data": {
      "text/plain": [
       "Index(['children', 'days_employed', 'dob_years', 'education', 'education_id',\n",
       "       'family_status', 'family_status_id', 'gender', 'income_type', 'debt',\n",
       "       'total_income', 'purpose'],\n",
       "      dtype='object')"
      ]
     },
     "execution_count": 6,
     "metadata": {},
     "output_type": "execute_result"
    }
   ],
   "source": [
    "df.columns # выведем названия столбцов"
   ]
  },
  {
   "cell_type": "markdown",
   "metadata": {},
   "source": [
    "Видим, что с точки зрения формата проблем нет: названия столбцов написаны в нижнем регистре, с подчёркиваниями вместо пробелов, лишних пробелов или иных символов нет. Однако, названия столбцов не совсем корректно отображают их содержание, поэтому заменим их:"
   ]
  },
  {
   "cell_type": "code",
   "execution_count": 7,
   "metadata": {},
   "outputs": [],
   "source": [
    "# переименуем столбцы\n",
    "df.set_axis(['number_of_children', 'days_employed', 'age_in_years', \n",
    "             'education_level', 'education_level_id', \n",
    "             'family_status', 'family_status_id', 'sex', \n",
    "             'employment_type', 'failed_to_pay_debt', 'monthly_income', \n",
    "             'credit_purpose'], axis = 'columns', inplace = True)"
   ]
  },
  {
   "cell_type": "markdown",
   "metadata": {},
   "source": [
    "Проверим, успешно ли прошло переименование:"
   ]
  },
  {
   "cell_type": "code",
   "execution_count": 8,
   "metadata": {
    "scrolled": true
   },
   "outputs": [
    {
     "data": {
      "text/plain": [
       "Index(['number_of_children', 'days_employed', 'age_in_years',\n",
       "       'education_level', 'education_level_id', 'family_status',\n",
       "       'family_status_id', 'sex', 'employment_type', 'failed_to_pay_debt',\n",
       "       'monthly_income', 'credit_purpose'],\n",
       "      dtype='object')"
      ]
     },
     "execution_count": 8,
     "metadata": {},
     "output_type": "execute_result"
    }
   ],
   "source": [
    "df.columns # еще раз выведем названия столбцов"
   ]
  },
  {
   "cell_type": "markdown",
   "metadata": {},
   "source": [
    "Теперь заголовки столбцов в таблице выглядят так:\n",
    "- `number_of_children` — количество детей в семье;\n",
    "- `days_employed` — общий трудовой стаж в днях;\n",
    "- `age_in_years`  — возраст клиента в годах;\n",
    "- `education_level`  — уровень образования клиента;\n",
    "- `education_level_id` — идентификатор уровня образования;\n",
    "- `family_status` — семейное положение;\n",
    "- `family_status_id` — идентификатор семейного положения;\n",
    "- `sex` — пол клиента;\n",
    "- `employment_type` — тип занятости;\n",
    "- `failed_to_pay_debt` — имел ли задолженность по возврату кредитов;\n",
    "- `monthly_income` — ежемесячный доход;\n",
    "- `credit_purpose` — цель получения кредита."
   ]
  },
  {
   "cell_type": "markdown",
   "metadata": {},
   "source": [
    "Кроме того, перед обработкой остальных данных, приведем все столбцы с типом object (`education_level`, `family_status`, `sex`, `employment_type` и `credit_purpose`) к нижнему регистру:"
   ]
  },
  {
   "cell_type": "code",
   "execution_count": 9,
   "metadata": {},
   "outputs": [],
   "source": [
    "# приводим столбцы к нижнему регистру\n",
    "df['education_level'] = df['education_level'].str.lower()\n",
    "df['family_status'] = df['family_status'].str.lower()\n",
    "df['sex'] = df['sex'].str.lower()\n",
    "df['employment_type'] = df['employment_type'].str.lower()\n",
    "df['credit_purpose'] = df['credit_purpose'].str.lower()"
   ]
  },
  {
   "cell_type": "markdown",
   "metadata": {},
   "source": [
    "### 2.2 Пропущенные значения\n",
    "<a id=\"2-2\"></a>"
   ]
  },
  {
   "cell_type": "markdown",
   "metadata": {},
   "source": [
    "Проверим наличие пропущенных значений в таблице:"
   ]
  },
  {
   "cell_type": "code",
   "execution_count": 10,
   "metadata": {
    "scrolled": true
   },
   "outputs": [
    {
     "data": {
      "text/plain": [
       "number_of_children       0\n",
       "days_employed         2174\n",
       "age_in_years             0\n",
       "education_level          0\n",
       "education_level_id       0\n",
       "family_status            0\n",
       "family_status_id         0\n",
       "sex                      0\n",
       "employment_type          0\n",
       "failed_to_pay_debt       0\n",
       "monthly_income        2174\n",
       "credit_purpose           0\n",
       "dtype: int64"
      ]
     },
     "execution_count": 10,
     "metadata": {},
     "output_type": "execute_result"
    }
   ],
   "source": [
    "df.isnull().sum() # считаем все пропущенные значения"
   ]
  },
  {
   "cell_type": "markdown",
   "metadata": {},
   "source": [
    "Как видим, значения пропущены в столбцах `days_employed` и `monthly_income`. Проверим, связаны ли эти пропуски между собой:"
   ]
  },
  {
   "cell_type": "code",
   "execution_count": 11,
   "metadata": {
    "scrolled": true
   },
   "outputs": [
    {
     "name": "stdout",
     "output_type": "stream",
     "text": [
      "<class 'pandas.core.frame.DataFrame'>\n",
      "Int64Index: 2174 entries, 12 to 21510\n",
      "Data columns (total 12 columns):\n",
      "number_of_children    2174 non-null int64\n",
      "days_employed         0 non-null float64\n",
      "age_in_years          2174 non-null int64\n",
      "education_level       2174 non-null object\n",
      "education_level_id    2174 non-null int64\n",
      "family_status         2174 non-null object\n",
      "family_status_id      2174 non-null int64\n",
      "sex                   2174 non-null object\n",
      "employment_type       2174 non-null object\n",
      "failed_to_pay_debt    2174 non-null int64\n",
      "monthly_income        0 non-null float64\n",
      "credit_purpose        2174 non-null object\n",
      "dtypes: float64(2), int64(5), object(5)\n",
      "memory usage: 220.8+ KB\n"
     ]
    }
   ],
   "source": [
    "# Ищем такие строки в таблице, \n",
    "# чтобы И в столбце days_employed И в столбце monthly_income \n",
    "# были пропущенные значения\n",
    "df[(df['days_employed'].isnull() == True) & \n",
    "   (df['monthly_income'].isnull() == True)].info()"
   ]
  },
  {
   "cell_type": "markdown",
   "metadata": {},
   "source": [
    "Получился DataFrame с **2174** строками. Столько же пропущенных значений в каждом из столбцов `days_employed` и `monthly_income` в оригинальной таблице. То есть, значения в этих столбцах отсутствуют попарно, а строк с отсутвующим значением только в одном из столбцов **нет**. Таким образом, наиболее правдоподобной будет версия, что пропуски в этих значениях имеют общее происхождение."
   ]
  },
  {
   "cell_type": "code",
   "execution_count": 12,
   "metadata": {
    "scrolled": false
   },
   "outputs": [
    {
     "data": {
      "text/html": [
       "<div>\n",
       "<style scoped>\n",
       "    .dataframe tbody tr th:only-of-type {\n",
       "        vertical-align: middle;\n",
       "    }\n",
       "\n",
       "    .dataframe tbody tr th {\n",
       "        vertical-align: top;\n",
       "    }\n",
       "\n",
       "    .dataframe thead th {\n",
       "        text-align: right;\n",
       "    }\n",
       "</style>\n",
       "<table border=\"1\" class=\"dataframe\">\n",
       "  <thead>\n",
       "    <tr style=\"text-align: right;\">\n",
       "      <th></th>\n",
       "      <th>number_of_children</th>\n",
       "      <th>days_employed</th>\n",
       "      <th>age_in_years</th>\n",
       "      <th>education_level</th>\n",
       "      <th>education_level_id</th>\n",
       "      <th>family_status</th>\n",
       "      <th>family_status_id</th>\n",
       "      <th>sex</th>\n",
       "      <th>employment_type</th>\n",
       "      <th>failed_to_pay_debt</th>\n",
       "      <th>monthly_income</th>\n",
       "      <th>credit_purpose</th>\n",
       "    </tr>\n",
       "  </thead>\n",
       "  <tbody>\n",
       "    <tr>\n",
       "      <td>12</td>\n",
       "      <td>0</td>\n",
       "      <td>NaN</td>\n",
       "      <td>65</td>\n",
       "      <td>среднее</td>\n",
       "      <td>1</td>\n",
       "      <td>гражданский брак</td>\n",
       "      <td>1</td>\n",
       "      <td>m</td>\n",
       "      <td>пенсионер</td>\n",
       "      <td>0</td>\n",
       "      <td>NaN</td>\n",
       "      <td>сыграть свадьбу</td>\n",
       "    </tr>\n",
       "    <tr>\n",
       "      <td>26</td>\n",
       "      <td>0</td>\n",
       "      <td>NaN</td>\n",
       "      <td>41</td>\n",
       "      <td>среднее</td>\n",
       "      <td>1</td>\n",
       "      <td>женат / замужем</td>\n",
       "      <td>0</td>\n",
       "      <td>m</td>\n",
       "      <td>госслужащий</td>\n",
       "      <td>0</td>\n",
       "      <td>NaN</td>\n",
       "      <td>образование</td>\n",
       "    </tr>\n",
       "    <tr>\n",
       "      <td>29</td>\n",
       "      <td>0</td>\n",
       "      <td>NaN</td>\n",
       "      <td>63</td>\n",
       "      <td>среднее</td>\n",
       "      <td>1</td>\n",
       "      <td>не женат / не замужем</td>\n",
       "      <td>4</td>\n",
       "      <td>f</td>\n",
       "      <td>пенсионер</td>\n",
       "      <td>0</td>\n",
       "      <td>NaN</td>\n",
       "      <td>строительство жилой недвижимости</td>\n",
       "    </tr>\n",
       "    <tr>\n",
       "      <td>41</td>\n",
       "      <td>0</td>\n",
       "      <td>NaN</td>\n",
       "      <td>50</td>\n",
       "      <td>среднее</td>\n",
       "      <td>1</td>\n",
       "      <td>женат / замужем</td>\n",
       "      <td>0</td>\n",
       "      <td>f</td>\n",
       "      <td>госслужащий</td>\n",
       "      <td>0</td>\n",
       "      <td>NaN</td>\n",
       "      <td>сделка с подержанным автомобилем</td>\n",
       "    </tr>\n",
       "    <tr>\n",
       "      <td>55</td>\n",
       "      <td>0</td>\n",
       "      <td>NaN</td>\n",
       "      <td>54</td>\n",
       "      <td>среднее</td>\n",
       "      <td>1</td>\n",
       "      <td>гражданский брак</td>\n",
       "      <td>1</td>\n",
       "      <td>f</td>\n",
       "      <td>пенсионер</td>\n",
       "      <td>1</td>\n",
       "      <td>NaN</td>\n",
       "      <td>сыграть свадьбу</td>\n",
       "    </tr>\n",
       "    <tr>\n",
       "      <td>65</td>\n",
       "      <td>0</td>\n",
       "      <td>NaN</td>\n",
       "      <td>21</td>\n",
       "      <td>среднее</td>\n",
       "      <td>1</td>\n",
       "      <td>не женат / не замужем</td>\n",
       "      <td>4</td>\n",
       "      <td>m</td>\n",
       "      <td>компаньон</td>\n",
       "      <td>0</td>\n",
       "      <td>NaN</td>\n",
       "      <td>операции с коммерческой недвижимостью</td>\n",
       "    </tr>\n",
       "    <tr>\n",
       "      <td>67</td>\n",
       "      <td>0</td>\n",
       "      <td>NaN</td>\n",
       "      <td>52</td>\n",
       "      <td>высшее</td>\n",
       "      <td>0</td>\n",
       "      <td>женат / замужем</td>\n",
       "      <td>0</td>\n",
       "      <td>f</td>\n",
       "      <td>пенсионер</td>\n",
       "      <td>0</td>\n",
       "      <td>NaN</td>\n",
       "      <td>покупка жилья для семьи</td>\n",
       "    </tr>\n",
       "    <tr>\n",
       "      <td>72</td>\n",
       "      <td>1</td>\n",
       "      <td>NaN</td>\n",
       "      <td>32</td>\n",
       "      <td>высшее</td>\n",
       "      <td>0</td>\n",
       "      <td>женат / замужем</td>\n",
       "      <td>0</td>\n",
       "      <td>m</td>\n",
       "      <td>госслужащий</td>\n",
       "      <td>0</td>\n",
       "      <td>NaN</td>\n",
       "      <td>операции с коммерческой недвижимостью</td>\n",
       "    </tr>\n",
       "    <tr>\n",
       "      <td>82</td>\n",
       "      <td>2</td>\n",
       "      <td>NaN</td>\n",
       "      <td>50</td>\n",
       "      <td>высшее</td>\n",
       "      <td>0</td>\n",
       "      <td>женат / замужем</td>\n",
       "      <td>0</td>\n",
       "      <td>f</td>\n",
       "      <td>сотрудник</td>\n",
       "      <td>0</td>\n",
       "      <td>NaN</td>\n",
       "      <td>жилье</td>\n",
       "    </tr>\n",
       "    <tr>\n",
       "      <td>83</td>\n",
       "      <td>0</td>\n",
       "      <td>NaN</td>\n",
       "      <td>52</td>\n",
       "      <td>среднее</td>\n",
       "      <td>1</td>\n",
       "      <td>женат / замужем</td>\n",
       "      <td>0</td>\n",
       "      <td>m</td>\n",
       "      <td>сотрудник</td>\n",
       "      <td>0</td>\n",
       "      <td>NaN</td>\n",
       "      <td>жилье</td>\n",
       "    </tr>\n",
       "  </tbody>\n",
       "</table>\n",
       "</div>"
      ],
      "text/plain": [
       "    number_of_children  days_employed  age_in_years education_level  \\\n",
       "12                   0            NaN            65         среднее   \n",
       "26                   0            NaN            41         среднее   \n",
       "29                   0            NaN            63         среднее   \n",
       "41                   0            NaN            50         среднее   \n",
       "55                   0            NaN            54         среднее   \n",
       "65                   0            NaN            21         среднее   \n",
       "67                   0            NaN            52          высшее   \n",
       "72                   1            NaN            32          высшее   \n",
       "82                   2            NaN            50          высшее   \n",
       "83                   0            NaN            52         среднее   \n",
       "\n",
       "    education_level_id          family_status  family_status_id sex  \\\n",
       "12                   1       гражданский брак                 1   m   \n",
       "26                   1        женат / замужем                 0   m   \n",
       "29                   1  не женат / не замужем                 4   f   \n",
       "41                   1        женат / замужем                 0   f   \n",
       "55                   1       гражданский брак                 1   f   \n",
       "65                   1  не женат / не замужем                 4   m   \n",
       "67                   0        женат / замужем                 0   f   \n",
       "72                   0        женат / замужем                 0   m   \n",
       "82                   0        женат / замужем                 0   f   \n",
       "83                   1        женат / замужем                 0   m   \n",
       "\n",
       "   employment_type  failed_to_pay_debt  monthly_income  \\\n",
       "12       пенсионер                   0             NaN   \n",
       "26     госслужащий                   0             NaN   \n",
       "29       пенсионер                   0             NaN   \n",
       "41     госслужащий                   0             NaN   \n",
       "55       пенсионер                   1             NaN   \n",
       "65       компаньон                   0             NaN   \n",
       "67       пенсионер                   0             NaN   \n",
       "72     госслужащий                   0             NaN   \n",
       "82       сотрудник                   0             NaN   \n",
       "83       сотрудник                   0             NaN   \n",
       "\n",
       "                           credit_purpose  \n",
       "12                        сыграть свадьбу  \n",
       "26                            образование  \n",
       "29       строительство жилой недвижимости  \n",
       "41       сделка с подержанным автомобилем  \n",
       "55                        сыграть свадьбу  \n",
       "65  операции с коммерческой недвижимостью  \n",
       "67                покупка жилья для семьи  \n",
       "72  операции с коммерческой недвижимостью  \n",
       "82                                  жилье  \n",
       "83                                  жилье  "
      ]
     },
     "execution_count": 12,
     "metadata": {},
     "output_type": "execute_result"
    }
   ],
   "source": [
    "# выведем первые 10 строк с пропущенными значениями на экран\n",
    "df[df.isnull().any(axis = 1)].head(10)"
   ]
  },
  {
   "cell_type": "markdown",
   "metadata": {},
   "source": [
    "При этом, как видно даже из первых 10 строк таблицы, зависимости пропусков от других значений не наблюдается. Все остальные столбцы наполнены разнообразной информацией. Таким образом, эти пропуски случайны. Скорее всего их появление связано с технической неисправностью или с ошибкой оператора базы данных, при этом возможно их появление зависит от какого-то другого параметра, не указанного в этой таблице."
   ]
  },
  {
   "cell_type": "markdown",
   "metadata": {},
   "source": [
    "Теперь заполним пустые значения. Для начала разберемся с ежемесячным доходом (столбец `monthly_income`). Предполагаем, что средний доход за месяц зависит от *пола*, *уровня образования* и *типа занятости*:"
   ]
  },
  {
   "cell_type": "code",
   "execution_count": 13,
   "metadata": {
    "scrolled": false
   },
   "outputs": [
    {
     "name": "stderr",
     "output_type": "stream",
     "text": [
      "/opt/conda/lib/python3.7/site-packages/numpy/lib/nanfunctions.py:1111: RuntimeWarning: Mean of empty slice\n",
      "  return np.nanmean(a, axis, out=out, keepdims=keepdims)\n"
     ]
    }
   ],
   "source": [
    "# применяем к таблице алгоритм заполнения пропущенных значений медианой\n",
    "# по группам с одинаковым полом, уровнем образования и типом занятости\n",
    "for row in df.itertuples(name = None):\n",
    "    if row[11] != row[11]:\n",
    "        df.loc[(df['sex'] == row[8]) & (df['education_level_id'] == row[5]) & (df['employment_type'] == row[9]) & (df['monthly_income'].isnull() == True), 'monthly_income'] = df[(df['sex'] == row[8]) & (df['education_level_id'] == row[5]) & (df['employment_type'] == row[9])]['monthly_income'].median()"
   ]
  },
  {
   "cell_type": "markdown",
   "metadata": {},
   "source": [
    "Далее проверим заполнение значений:"
   ]
  },
  {
   "cell_type": "code",
   "execution_count": 14,
   "metadata": {
    "scrolled": true
   },
   "outputs": [
    {
     "data": {
      "text/plain": [
       "number_of_children       0\n",
       "days_employed         2174\n",
       "age_in_years             0\n",
       "education_level          0\n",
       "education_level_id       0\n",
       "family_status            0\n",
       "family_status_id         0\n",
       "sex                      0\n",
       "employment_type          0\n",
       "failed_to_pay_debt       0\n",
       "monthly_income           1\n",
       "credit_purpose           0\n",
       "dtype: int64"
      ]
     },
     "execution_count": 14,
     "metadata": {},
     "output_type": "execute_result"
    }
   ],
   "source": [
    "df.isnull().sum() # снова посчитаем все пропущенные значения"
   ]
  },
  {
   "cell_type": "markdown",
   "metadata": {},
   "source": [
    "Одна строка всё еще пустая. Почему? Попробуем разобраться - выведем эту строку на экран:"
   ]
  },
  {
   "cell_type": "code",
   "execution_count": 15,
   "metadata": {},
   "outputs": [
    {
     "data": {
      "text/html": [
       "<div>\n",
       "<style scoped>\n",
       "    .dataframe tbody tr th:only-of-type {\n",
       "        vertical-align: middle;\n",
       "    }\n",
       "\n",
       "    .dataframe tbody tr th {\n",
       "        vertical-align: top;\n",
       "    }\n",
       "\n",
       "    .dataframe thead th {\n",
       "        text-align: right;\n",
       "    }\n",
       "</style>\n",
       "<table border=\"1\" class=\"dataframe\">\n",
       "  <thead>\n",
       "    <tr style=\"text-align: right;\">\n",
       "      <th></th>\n",
       "      <th>number_of_children</th>\n",
       "      <th>days_employed</th>\n",
       "      <th>age_in_years</th>\n",
       "      <th>education_level</th>\n",
       "      <th>education_level_id</th>\n",
       "      <th>family_status</th>\n",
       "      <th>family_status_id</th>\n",
       "      <th>sex</th>\n",
       "      <th>employment_type</th>\n",
       "      <th>failed_to_pay_debt</th>\n",
       "      <th>monthly_income</th>\n",
       "      <th>credit_purpose</th>\n",
       "    </tr>\n",
       "  </thead>\n",
       "  <tbody>\n",
       "    <tr>\n",
       "      <td>5936</td>\n",
       "      <td>0</td>\n",
       "      <td>NaN</td>\n",
       "      <td>58</td>\n",
       "      <td>высшее</td>\n",
       "      <td>0</td>\n",
       "      <td>женат / замужем</td>\n",
       "      <td>0</td>\n",
       "      <td>m</td>\n",
       "      <td>предприниматель</td>\n",
       "      <td>0</td>\n",
       "      <td>NaN</td>\n",
       "      <td>покупка жилой недвижимости</td>\n",
       "    </tr>\n",
       "  </tbody>\n",
       "</table>\n",
       "</div>"
      ],
      "text/plain": [
       "      number_of_children  days_employed  age_in_years education_level  \\\n",
       "5936                   0            NaN            58          высшее   \n",
       "\n",
       "      education_level_id    family_status  family_status_id sex  \\\n",
       "5936                   0  женат / замужем                 0   m   \n",
       "\n",
       "      employment_type  failed_to_pay_debt  monthly_income  \\\n",
       "5936  предприниматель                   0             NaN   \n",
       "\n",
       "                  credit_purpose  \n",
       "5936  покупка жилой недвижимости  "
      ]
     },
     "execution_count": 15,
     "metadata": {},
     "output_type": "execute_result"
    }
   ],
   "source": [
    "# выведем на экран строку с пропущенным значением\n",
    "df[df['monthly_income'].isnull()]"
   ]
  },
  {
   "cell_type": "markdown",
   "metadata": {},
   "source": [
    "Очевидно, что мужчины с высшим образованием в таблице встречаются, значит нам попался уникальный предприниматель. Посмотрим встречаются ли ещё предприниматели в таблице:"
   ]
  },
  {
   "cell_type": "code",
   "execution_count": 16,
   "metadata": {
    "scrolled": true
   },
   "outputs": [
    {
     "data": {
      "text/html": [
       "<div>\n",
       "<style scoped>\n",
       "    .dataframe tbody tr th:only-of-type {\n",
       "        vertical-align: middle;\n",
       "    }\n",
       "\n",
       "    .dataframe tbody tr th {\n",
       "        vertical-align: top;\n",
       "    }\n",
       "\n",
       "    .dataframe thead th {\n",
       "        text-align: right;\n",
       "    }\n",
       "</style>\n",
       "<table border=\"1\" class=\"dataframe\">\n",
       "  <thead>\n",
       "    <tr style=\"text-align: right;\">\n",
       "      <th></th>\n",
       "      <th>number_of_children</th>\n",
       "      <th>days_employed</th>\n",
       "      <th>age_in_years</th>\n",
       "      <th>education_level</th>\n",
       "      <th>education_level_id</th>\n",
       "      <th>family_status</th>\n",
       "      <th>family_status_id</th>\n",
       "      <th>sex</th>\n",
       "      <th>employment_type</th>\n",
       "      <th>failed_to_pay_debt</th>\n",
       "      <th>monthly_income</th>\n",
       "      <th>credit_purpose</th>\n",
       "    </tr>\n",
       "  </thead>\n",
       "  <tbody>\n",
       "    <tr>\n",
       "      <td>5936</td>\n",
       "      <td>0</td>\n",
       "      <td>NaN</td>\n",
       "      <td>58</td>\n",
       "      <td>высшее</td>\n",
       "      <td>0</td>\n",
       "      <td>женат / замужем</td>\n",
       "      <td>0</td>\n",
       "      <td>m</td>\n",
       "      <td>предприниматель</td>\n",
       "      <td>0</td>\n",
       "      <td>NaN</td>\n",
       "      <td>покупка жилой недвижимости</td>\n",
       "    </tr>\n",
       "    <tr>\n",
       "      <td>18697</td>\n",
       "      <td>0</td>\n",
       "      <td>-520.848083</td>\n",
       "      <td>27</td>\n",
       "      <td>высшее</td>\n",
       "      <td>0</td>\n",
       "      <td>гражданский брак</td>\n",
       "      <td>1</td>\n",
       "      <td>f</td>\n",
       "      <td>предприниматель</td>\n",
       "      <td>0</td>\n",
       "      <td>499163.144947</td>\n",
       "      <td>на проведение свадьбы</td>\n",
       "    </tr>\n",
       "  </tbody>\n",
       "</table>\n",
       "</div>"
      ],
      "text/plain": [
       "       number_of_children  days_employed  age_in_years education_level  \\\n",
       "5936                    0            NaN            58          высшее   \n",
       "18697                   0    -520.848083            27          высшее   \n",
       "\n",
       "       education_level_id     family_status  family_status_id sex  \\\n",
       "5936                    0   женат / замужем                 0   m   \n",
       "18697                   0  гражданский брак                 1   f   \n",
       "\n",
       "       employment_type  failed_to_pay_debt  monthly_income  \\\n",
       "5936   предприниматель                   0             NaN   \n",
       "18697  предприниматель                   0   499163.144947   \n",
       "\n",
       "                   credit_purpose  \n",
       "5936   покупка жилой недвижимости  \n",
       "18697       на проведение свадьбы  "
      ]
     },
     "execution_count": 16,
     "metadata": {},
     "output_type": "execute_result"
    }
   ],
   "source": [
    "# выведем на экран всех предпринимателей\n",
    "df[df['employment_type'] == 'предприниматель']"
   ]
  },
  {
   "cell_type": "markdown",
   "metadata": {},
   "source": [
    "Всего два предпринимателя на **21525** строк! К сожалению, применение любого метода заполнения приведет к значительному искажению информации по категории *предприниматели*, поэтому пропущенное значение лучше не заполнять. Однако, и удаление строчки тоже не лучший вариант, так мы потеряем значения по другим столбцам. Поэтому, пожалуй, наиболее адекватным вариантом будет оставить эту строчку как есть."
   ]
  },
  {
   "cell_type": "markdown",
   "metadata": {},
   "source": [
    "Теперь приступим к заполнению пропущенных значений в столбце `days_employed`. Мы можем просто приравнять пропущенные значения в этом столбце к нулю, но можем и подумать ещё 🤔."
   ]
  },
  {
   "cell_type": "markdown",
   "metadata": {},
   "source": [
    "Поэтому попробуем другой вариант. Напишем функцию, которая подставляет стаж в незаполненные строки. Средним значением возьмём половину стажа для конкретного возраста с учетом непрерывной работы с 18 лет. Воспользуемся правилом 3 сигм: наши значения в подавляющем большинстве случаев не должны превысить допустимые, значит 3σ будет равно разницей между Максимальным значением стажа и средним. Отсюда найдём σ, разделив эту разницу на 3."
   ]
  },
  {
   "cell_type": "code",
   "execution_count": 17,
   "metadata": {},
   "outputs": [],
   "source": [
    "# функция для заполнения случайными значениями на основе распределения Гаусса\n",
    "def autogauss(df):\n",
    "    if df['days_employed'] != df['days_employed']:\n",
    "        mn = (df['age_in_years'] - 18) * 365 / 2\n",
    "        sigma = mn / 3\n",
    "        return random.gauss(mn, sigma) * -1\n",
    "    else:\n",
    "        return df['days_employed']"
   ]
  },
  {
   "cell_type": "code",
   "execution_count": 18,
   "metadata": {},
   "outputs": [],
   "source": [
    "# применяем функцию к таблице\n",
    "df['days_employed'] = df.apply(autogauss, axis=1)"
   ]
  },
  {
   "cell_type": "markdown",
   "metadata": {},
   "source": [
    "Проверим, получилось ли заполнить пропущенные значения:"
   ]
  },
  {
   "cell_type": "code",
   "execution_count": 19,
   "metadata": {
    "scrolled": true
   },
   "outputs": [
    {
     "data": {
      "text/plain": [
       "number_of_children    0\n",
       "days_employed         0\n",
       "age_in_years          0\n",
       "education_level       0\n",
       "education_level_id    0\n",
       "family_status         0\n",
       "family_status_id      0\n",
       "sex                   0\n",
       "employment_type       0\n",
       "failed_to_pay_debt    0\n",
       "monthly_income        1\n",
       "credit_purpose        0\n",
       "dtype: int64"
      ]
     },
     "execution_count": 19,
     "metadata": {},
     "output_type": "execute_result"
    }
   ],
   "source": [
    "df.isnull().sum() # и ещё раз подсчитаем количество пропущенных значений"
   ]
  },
  {
   "cell_type": "markdown",
   "metadata": {},
   "source": [
    "На этом этапе мы завершили обработку пропущенных значений. Однако есть еще несколько моментов, требующих нашего внимания."
   ]
  },
  {
   "cell_type": "markdown",
   "metadata": {},
   "source": [
    "[к началу страницы](#top)"
   ]
  },
  {
   "cell_type": "markdown",
   "metadata": {},
   "source": [
    "### 2.3 Аномальные значения\n",
    "<a id=\"2-3\"></a>"
   ]
  },
  {
   "cell_type": "markdown",
   "metadata": {},
   "source": [
    "Кроме собственно пропущенных, *пустых* значений, в таблице присутствуют и *аномальные* значения, которые противоречат здравому смыслу и выглядят выбивающимися из общей картины (отрицательное или большое количество детей, отрицательный или слишком большой трудовой стаж)."
   ]
  },
  {
   "cell_type": "markdown",
   "metadata": {},
   "source": [
    "Возьмём, например, количество детей (столбец `number_of_children`):"
   ]
  },
  {
   "cell_type": "code",
   "execution_count": 20,
   "metadata": {
    "scrolled": true
   },
   "outputs": [
    {
     "data": {
      "text/html": [
       "<div>\n",
       "<style scoped>\n",
       "    .dataframe tbody tr th:only-of-type {\n",
       "        vertical-align: middle;\n",
       "    }\n",
       "\n",
       "    .dataframe tbody tr th {\n",
       "        vertical-align: top;\n",
       "    }\n",
       "\n",
       "    .dataframe thead th {\n",
       "        text-align: right;\n",
       "    }\n",
       "</style>\n",
       "<table border=\"1\" class=\"dataframe\">\n",
       "  <thead>\n",
       "    <tr style=\"text-align: right;\">\n",
       "      <th></th>\n",
       "      <th>count</th>\n",
       "      <th>mean</th>\n",
       "    </tr>\n",
       "    <tr>\n",
       "      <th>groups</th>\n",
       "      <th></th>\n",
       "      <th></th>\n",
       "    </tr>\n",
       "  </thead>\n",
       "  <tbody>\n",
       "    <tr>\n",
       "      <td>(-999, -1]</td>\n",
       "      <td>47</td>\n",
       "      <td>-1.00000</td>\n",
       "    </tr>\n",
       "    <tr>\n",
       "      <td>(-1, 0]</td>\n",
       "      <td>14149</td>\n",
       "      <td>0.00000</td>\n",
       "    </tr>\n",
       "    <tr>\n",
       "      <td>(0, 5]</td>\n",
       "      <td>7253</td>\n",
       "      <td>1.39625</td>\n",
       "    </tr>\n",
       "    <tr>\n",
       "      <td>(5, 999]</td>\n",
       "      <td>76</td>\n",
       "      <td>20.00000</td>\n",
       "    </tr>\n",
       "  </tbody>\n",
       "</table>\n",
       "</div>"
      ],
      "text/plain": [
       "            count      mean\n",
       "groups                     \n",
       "(-999, -1]     47  -1.00000\n",
       "(-1, 0]     14149   0.00000\n",
       "(0, 5]       7253   1.39625\n",
       "(5, 999]       76  20.00000"
      ]
     },
     "execution_count": 20,
     "metadata": {},
     "output_type": "execute_result"
    }
   ],
   "source": [
    "# создадим сводную таблицу и разделим на промежутки\n",
    "df['groups'] = pd.cut(df['number_of_children'],[-999,-1,0,5,999])\n",
    "# посчитаем количество значений и среднее по указанным промежуткам\n",
    "df.groupby('groups')['number_of_children'].agg(['count','mean'])"
   ]
  },
  {
   "cell_type": "markdown",
   "metadata": {},
   "source": [
    "Видно, что подавляющее большинство значений находятся в рамках разумного, однако в **47** случаях количество детей отрицательное (при этом ровно *-1*), а в **76** случаях - ровно 20. Уберём эти аномалии и приравняем оба этих значения к нулю."
   ]
  },
  {
   "cell_type": "code",
   "execution_count": 21,
   "metadata": {},
   "outputs": [],
   "source": [
    "# заменим значения ниже нуля на ноль\n",
    "df.loc[(df['number_of_children'] < 0), 'number_of_children'] = 0\n",
    "# заменим значения равные 20 на ноль\n",
    "df.loc[(df['number_of_children'] == 20), 'number_of_children'] = 0"
   ]
  },
  {
   "cell_type": "markdown",
   "metadata": {},
   "source": [
    "Снова проверим распределение значений:"
   ]
  },
  {
   "cell_type": "code",
   "execution_count": 22,
   "metadata": {},
   "outputs": [
    {
     "data": {
      "text/html": [
       "<div>\n",
       "<style scoped>\n",
       "    .dataframe tbody tr th:only-of-type {\n",
       "        vertical-align: middle;\n",
       "    }\n",
       "\n",
       "    .dataframe tbody tr th {\n",
       "        vertical-align: top;\n",
       "    }\n",
       "\n",
       "    .dataframe thead th {\n",
       "        text-align: right;\n",
       "    }\n",
       "</style>\n",
       "<table border=\"1\" class=\"dataframe\">\n",
       "  <thead>\n",
       "    <tr style=\"text-align: right;\">\n",
       "      <th></th>\n",
       "      <th>count</th>\n",
       "      <th>mean</th>\n",
       "    </tr>\n",
       "    <tr>\n",
       "      <th>groups</th>\n",
       "      <th></th>\n",
       "      <th></th>\n",
       "    </tr>\n",
       "  </thead>\n",
       "  <tbody>\n",
       "    <tr>\n",
       "      <td>(-999, -1]</td>\n",
       "      <td>0</td>\n",
       "      <td>NaN</td>\n",
       "    </tr>\n",
       "    <tr>\n",
       "      <td>(-1, 0]</td>\n",
       "      <td>14272</td>\n",
       "      <td>0.00000</td>\n",
       "    </tr>\n",
       "    <tr>\n",
       "      <td>(0, 5]</td>\n",
       "      <td>7253</td>\n",
       "      <td>1.39625</td>\n",
       "    </tr>\n",
       "    <tr>\n",
       "      <td>(5, 999]</td>\n",
       "      <td>0</td>\n",
       "      <td>NaN</td>\n",
       "    </tr>\n",
       "  </tbody>\n",
       "</table>\n",
       "</div>"
      ],
      "text/plain": [
       "            count     mean\n",
       "groups                    \n",
       "(-999, -1]      0      NaN\n",
       "(-1, 0]     14272  0.00000\n",
       "(0, 5]       7253  1.39625\n",
       "(5, 999]        0      NaN"
      ]
     },
     "execution_count": 22,
     "metadata": {},
     "output_type": "execute_result"
    }
   ],
   "source": [
    "# создадим сводную таблицу и разделим на промежутки\n",
    "df['groups'] = pd.cut(df['number_of_children'],[-999,-1,0,5,999])\n",
    "# посчитаем количество значений и среднее по указанным промежуткам\n",
    "df.groupby('groups')['number_of_children'].agg(['count','mean'])"
   ]
  },
  {
   "cell_type": "markdown",
   "metadata": {},
   "source": [
    "Мы преобразовали аномальные значения, и теперь распределение выглядит адекватно."
   ]
  },
  {
   "cell_type": "markdown",
   "metadata": {},
   "source": [
    "Возьмём следующий столбец `days_employed`:"
   ]
  },
  {
   "cell_type": "code",
   "execution_count": 23,
   "metadata": {
    "scrolled": false
   },
   "outputs": [
    {
     "data": {
      "text/html": [
       "<div>\n",
       "<style scoped>\n",
       "    .dataframe tbody tr th:only-of-type {\n",
       "        vertical-align: middle;\n",
       "    }\n",
       "\n",
       "    .dataframe tbody tr th {\n",
       "        vertical-align: top;\n",
       "    }\n",
       "\n",
       "    .dataframe thead th {\n",
       "        text-align: right;\n",
       "    }\n",
       "</style>\n",
       "<table border=\"1\" class=\"dataframe\">\n",
       "  <thead>\n",
       "    <tr style=\"text-align: right;\">\n",
       "      <th></th>\n",
       "      <th>count</th>\n",
       "      <th>mean</th>\n",
       "      <th>median</th>\n",
       "      <th>min</th>\n",
       "      <th>max</th>\n",
       "    </tr>\n",
       "    <tr>\n",
       "      <th>groups</th>\n",
       "      <th></th>\n",
       "      <th></th>\n",
       "      <th></th>\n",
       "      <th></th>\n",
       "      <th></th>\n",
       "    </tr>\n",
       "  </thead>\n",
       "  <tbody>\n",
       "    <tr>\n",
       "      <td>(-999999, -1]</td>\n",
       "      <td>18067</td>\n",
       "      <td>40.299828</td>\n",
       "      <td>40.0</td>\n",
       "      <td>0.0</td>\n",
       "      <td>75.0</td>\n",
       "    </tr>\n",
       "    <tr>\n",
       "      <td>(-1, 0]</td>\n",
       "      <td>0</td>\n",
       "      <td>NaN</td>\n",
       "      <td>NaN</td>\n",
       "      <td>NaN</td>\n",
       "      <td>NaN</td>\n",
       "    </tr>\n",
       "    <tr>\n",
       "      <td>(0, 999999]</td>\n",
       "      <td>3458</td>\n",
       "      <td>58.933777</td>\n",
       "      <td>60.0</td>\n",
       "      <td>0.0</td>\n",
       "      <td>74.0</td>\n",
       "    </tr>\n",
       "  </tbody>\n",
       "</table>\n",
       "</div>"
      ],
      "text/plain": [
       "               count       mean  median  min   max\n",
       "groups                                            \n",
       "(-999999, -1]  18067  40.299828    40.0  0.0  75.0\n",
       "(-1, 0]            0        NaN     NaN  NaN   NaN\n",
       "(0, 999999]     3458  58.933777    60.0  0.0  74.0"
      ]
     },
     "execution_count": 23,
     "metadata": {},
     "output_type": "execute_result"
    }
   ],
   "source": [
    "# создадим сводную таблицу и разделим на промежутки\n",
    "df['groups'] = pd.cut(df['days_employed'],[-999999,-1,0,999999])\n",
    "# посчитаем количество значений и среднее по указанным промежуткам\n",
    "#df.groupby('groups')['days_employed'].agg(['count','mean','median','min','max'])\n",
    "df.groupby('groups')['age_in_years'].agg(['count','mean','median','min','max'])"
   ]
  },
  {
   "cell_type": "markdown",
   "metadata": {},
   "source": [
    "Также взглянем на гистограмму:"
   ]
  },
  {
   "cell_type": "code",
   "execution_count": 24,
   "metadata": {
    "scrolled": true
   },
   "outputs": [
    {
     "data": {
      "image/png": "[encoded data removed]",
      "text/plain": [
       "<Figure size 432x288 with 1 Axes>"
      ]
     },
     "metadata": {
      "needs_background": "light"
     },
     "output_type": "display_data"
    }
   ],
   "source": [
    "df['days_employed'].hist() # построим гистограмму\n",
    "plt.title('Распределение стажа по категориям', fontsize=15)\n",
    "plt.xlabel('Стаж, дней', fontsize=12, color='blue')\n",
    "plt.ylabel('Количество значений, шт', fontsize=12, color='blue')\n",
    "plt.grid(True)"
   ]
  },
  {
   "cell_type": "markdown",
   "metadata": {},
   "source": [
    "Видим ещё одно аномальное распределение. Подавляющее большинство значений находятся в промежутке от **-19000** до **0**, но при этом **3445** значения оказались положительными и на порядок больше по модулю. Допустим, что действительный стаж оказался по каким-то причинам отрицательным числом."
   ]
  },
  {
   "cell_type": "markdown",
   "metadata": {},
   "source": [
    "Возьмём самое большое по модулю значение из первой группы:"
   ]
  },
  {
   "cell_type": "code",
   "execution_count": 25,
   "metadata": {},
   "outputs": [
    {
     "data": {
      "text/plain": [
       "50.38068466027397"
      ]
     },
     "execution_count": 25,
     "metadata": {},
     "output_type": "execute_result"
    }
   ],
   "source": [
    "18388.949901 / 365 # переведем дни в годы"
   ]
  },
  {
   "cell_type": "markdown",
   "metadata": {},
   "source": [
    "Стаж в **50** лет кажется значительным, но при этом допустимым. Всё-таки это наибольшее по модулю число в этой группе."
   ]
  },
  {
   "cell_type": "markdown",
   "metadata": {},
   "source": [
    "Теперь посмотрим на наименьшее число из второй группы:"
   ]
  },
  {
   "cell_type": "code",
   "execution_count": 26,
   "metadata": {},
   "outputs": [
    {
     "data": {
      "text/plain": [
       "900.6266317945204"
      ]
     },
     "execution_count": 26,
     "metadata": {},
     "output_type": "execute_result"
    }
   ],
   "source": [
    "328728.720605 / 365 # переведем дни в годы"
   ]
  },
  {
   "cell_type": "markdown",
   "metadata": {},
   "source": [
    "**900** лет! Это определённо нечеловеческий стаж. Значения из второй группы явным образом аномальны, поэтому первоначальной идеей было приведение их к нулевому значению. Однако, если покопаться глубже, то можно обнаружить, что для людей определённого возраста и меньше значения отрицательные, но по модулю приемлемые, а для людей старше этого возраста значения очень большие, можно предположить, что большие значения представлены в часах, если их привести к годам, то все будет ок, поэтому сделаем немного по-другому."
   ]
  },
  {
   "cell_type": "markdown",
   "metadata": {},
   "source": [
    "Проверим:"
   ]
  },
  {
   "cell_type": "code",
   "execution_count": 27,
   "metadata": {
    "scrolled": true
   },
   "outputs": [
    {
     "data": {
      "text/plain": [
       "37.52610965810502"
      ]
     },
     "execution_count": 27,
     "metadata": {},
     "output_type": "execute_result"
    }
   ],
   "source": [
    "328728.720605 / (24*365) # переведём в часы в годы"
   ]
  },
  {
   "cell_type": "markdown",
   "metadata": {},
   "source": [
    "Действительно, получается намного более правдиво. Теперь это можно назвать стажем. Получается, этих людей записывали в другом формате &mdash; возможно это устаревший формат, либо данные некорректно перенесены из другой системы. Напишем функцию, преобазующую стаж в нормальный формат:"
   ]
  },
  {
   "cell_type": "code",
   "execution_count": 28,
   "metadata": {},
   "outputs": [],
   "source": [
    "# функция для перевода значений из часов в дни\n",
    "def hours_to_days(df):\n",
    "    if df['days_employed'] > 0:\n",
    "        return df['days_employed'] / -24\n",
    "    else:\n",
    "        return df['days_employed']"
   ]
  },
  {
   "cell_type": "markdown",
   "metadata": {},
   "source": [
    "Предварительно посмотрим как значения распределены на графике:"
   ]
  },
  {
   "cell_type": "code",
   "execution_count": 29,
   "metadata": {},
   "outputs": [
    {
     "data": {
      "image/png": "[encoded data removed]",
      "text/plain": [
       "<Figure size 432x288 with 1 Axes>"
      ]
     },
     "metadata": {
      "needs_background": "light"
     },
     "output_type": "display_data"
    }
   ],
   "source": [
    "# строим scatter-график\n",
    "df.plot.scatter(x='age_in_years', y='days_employed')\n",
    "plt.title('Зависимость стажа и возраста', fontsize=15)\n",
    "plt.xlabel('Возраст, лет', fontsize=12, color='blue')\n",
    "plt.ylabel('Стаж, дней', fontsize=12, color='blue')\n",
    "plt.grid(True)"
   ]
  },
  {
   "cell_type": "markdown",
   "metadata": {},
   "source": [
    "Теперь применим её к таблице:"
   ]
  },
  {
   "cell_type": "code",
   "execution_count": 30,
   "metadata": {},
   "outputs": [],
   "source": [
    "# применяем функцию к таблице\n",
    "df['days_employed'] = df.apply(hours_to_days, axis=1)"
   ]
  },
  {
   "cell_type": "markdown",
   "metadata": {},
   "source": [
    "Посмотрим, как изменился наш график:"
   ]
  },
  {
   "cell_type": "code",
   "execution_count": 31,
   "metadata": {
    "scrolled": true
   },
   "outputs": [
    {
     "data": {
      "image/png": "[encoded data removed]",
      "text/plain": [
       "<Figure size 432x288 with 1 Axes>"
      ]
     },
     "metadata": {
      "needs_background": "light"
     },
     "output_type": "display_data"
    }
   ],
   "source": [
    "# строим scatter-график\n",
    "df.plot.scatter(x='age_in_years', y='days_employed')\n",
    "plt.title('Зависимость стажа и возраста', fontsize=15)\n",
    "plt.xlabel('Возраст, лет', fontsize=12, color='blue')\n",
    "plt.ylabel('Стаж, дней', fontsize=12, color='blue')\n",
    "plt.grid(True)"
   ]
  },
  {
   "cell_type": "markdown",
   "metadata": {},
   "source": [
    "Видим, что у нас есть две группы значений, которые сильно выбиваются из общего ряда. Для начала раберёмся с той группой, где возраст равен нулю. Изначально мы проставляли возраст по медиане соответствующего типа занятости. В этот раз попробуем использовать стаж для предположения возраста. Посмотрим коэффициенты корреляции:"
   ]
  },
  {
   "cell_type": "code",
   "execution_count": 32,
   "metadata": {},
   "outputs": [
    {
     "data": {
      "text/html": [
       "<div>\n",
       "<style scoped>\n",
       "    .dataframe tbody tr th:only-of-type {\n",
       "        vertical-align: middle;\n",
       "    }\n",
       "\n",
       "    .dataframe tbody tr th {\n",
       "        vertical-align: top;\n",
       "    }\n",
       "\n",
       "    .dataframe thead th {\n",
       "        text-align: right;\n",
       "    }\n",
       "</style>\n",
       "<table border=\"1\" class=\"dataframe\">\n",
       "  <thead>\n",
       "    <tr style=\"text-align: right;\">\n",
       "      <th></th>\n",
       "      <th>number_of_children</th>\n",
       "      <th>days_employed</th>\n",
       "      <th>age_in_years</th>\n",
       "      <th>education_level_id</th>\n",
       "      <th>family_status_id</th>\n",
       "      <th>failed_to_pay_debt</th>\n",
       "      <th>monthly_income</th>\n",
       "    </tr>\n",
       "  </thead>\n",
       "  <tbody>\n",
       "    <tr>\n",
       "      <td>number_of_children</td>\n",
       "      <td>1.000000</td>\n",
       "      <td>0.239070</td>\n",
       "      <td>-0.310068</td>\n",
       "      <td>-0.027572</td>\n",
       "      <td>-0.157682</td>\n",
       "      <td>0.024951</td>\n",
       "      <td>0.033421</td>\n",
       "    </tr>\n",
       "    <tr>\n",
       "      <td>days_employed</td>\n",
       "      <td>0.239070</td>\n",
       "      <td>1.000000</td>\n",
       "      <td>-0.636058</td>\n",
       "      <td>-0.068826</td>\n",
       "      <td>0.023330</td>\n",
       "      <td>0.067546</td>\n",
       "      <td>0.117393</td>\n",
       "    </tr>\n",
       "    <tr>\n",
       "      <td>age_in_years</td>\n",
       "      <td>-0.310068</td>\n",
       "      <td>-0.636058</td>\n",
       "      <td>1.000000</td>\n",
       "      <td>0.067467</td>\n",
       "      <td>-0.069988</td>\n",
       "      <td>-0.069620</td>\n",
       "      <td>-0.060361</td>\n",
       "    </tr>\n",
       "    <tr>\n",
       "      <td>education_level_id</td>\n",
       "      <td>-0.027572</td>\n",
       "      <td>-0.068826</td>\n",
       "      <td>0.067467</td>\n",
       "      <td>1.000000</td>\n",
       "      <td>0.007876</td>\n",
       "      <td>0.052906</td>\n",
       "      <td>-0.183424</td>\n",
       "    </tr>\n",
       "    <tr>\n",
       "      <td>family_status_id</td>\n",
       "      <td>-0.157682</td>\n",
       "      <td>0.023330</td>\n",
       "      <td>-0.069988</td>\n",
       "      <td>0.007876</td>\n",
       "      <td>1.000000</td>\n",
       "      <td>0.020611</td>\n",
       "      <td>-0.007899</td>\n",
       "    </tr>\n",
       "    <tr>\n",
       "      <td>failed_to_pay_debt</td>\n",
       "      <td>0.024951</td>\n",
       "      <td>0.067546</td>\n",
       "      <td>-0.069620</td>\n",
       "      <td>0.052906</td>\n",
       "      <td>0.020611</td>\n",
       "      <td>1.000000</td>\n",
       "      <td>-0.012327</td>\n",
       "    </tr>\n",
       "    <tr>\n",
       "      <td>monthly_income</td>\n",
       "      <td>0.033421</td>\n",
       "      <td>0.117393</td>\n",
       "      <td>-0.060361</td>\n",
       "      <td>-0.183424</td>\n",
       "      <td>-0.007899</td>\n",
       "      <td>-0.012327</td>\n",
       "      <td>1.000000</td>\n",
       "    </tr>\n",
       "  </tbody>\n",
       "</table>\n",
       "</div>"
      ],
      "text/plain": [
       "                    number_of_children  days_employed  age_in_years  \\\n",
       "number_of_children            1.000000       0.239070     -0.310068   \n",
       "days_employed                 0.239070       1.000000     -0.636058   \n",
       "age_in_years                 -0.310068      -0.636058      1.000000   \n",
       "education_level_id           -0.027572      -0.068826      0.067467   \n",
       "family_status_id             -0.157682       0.023330     -0.069988   \n",
       "failed_to_pay_debt            0.024951       0.067546     -0.069620   \n",
       "monthly_income                0.033421       0.117393     -0.060361   \n",
       "\n",
       "                    education_level_id  family_status_id  failed_to_pay_debt  \\\n",
       "number_of_children           -0.027572         -0.157682            0.024951   \n",
       "days_employed                -0.068826          0.023330            0.067546   \n",
       "age_in_years                  0.067467         -0.069988           -0.069620   \n",
       "education_level_id            1.000000          0.007876            0.052906   \n",
       "family_status_id              0.007876          1.000000            0.020611   \n",
       "failed_to_pay_debt            0.052906          0.020611            1.000000   \n",
       "monthly_income               -0.183424         -0.007899           -0.012327   \n",
       "\n",
       "                    monthly_income  \n",
       "number_of_children        0.033421  \n",
       "days_employed             0.117393  \n",
       "age_in_years             -0.060361  \n",
       "education_level_id       -0.183424  \n",
       "family_status_id         -0.007899  \n",
       "failed_to_pay_debt       -0.012327  \n",
       "monthly_income            1.000000  "
      ]
     },
     "execution_count": 32,
     "metadata": {},
     "output_type": "execute_result"
    }
   ],
   "source": [
    "# вызываем таблицу с коэффициентами корреляции\n",
    "df.corr()"
   ]
  },
  {
   "cell_type": "markdown",
   "metadata": {},
   "source": [
    "Как видим, корреляция между возрастом и стажем на порядок выше, чем между возрастом и типом занятости, значит мы на верном пути!\n",
    "\n",
    "Напишем функцию для предположения возраста. Функция будет заменять нулевой возраст на псевдослучайное значение между максимальным возрастом и минимальным возрастом для имеющегося стажа:"
   ]
  },
  {
   "cell_type": "code",
   "execution_count": 33,
   "metadata": {},
   "outputs": [],
   "source": [
    "# определяем \"константу\" с максимальным возрастом\n",
    "MAX_AGE = df['age_in_years'].max()\n",
    "\n",
    "# создаём функцию для замены нулевого возраста\n",
    "def zero_to_age(df):\n",
    "    if df['age_in_years'] == 0:\n",
    "        min = int(df['days_employed'] / -365 + 18)\n",
    "        max = MAX_AGE\n",
    "        return random.randint(min,max)\n",
    "    else:\n",
    "        return df['age_in_years']"
   ]
  },
  {
   "cell_type": "markdown",
   "metadata": {},
   "source": [
    "Применим функцию на таблице:"
   ]
  },
  {
   "cell_type": "code",
   "execution_count": 34,
   "metadata": {},
   "outputs": [],
   "source": [
    "# применяем функцию к таблице\n",
    "df['age_in_years'] = df.apply(zero_to_age, axis=1)"
   ]
  },
  {
   "cell_type": "markdown",
   "metadata": {},
   "source": [
    "В очередной раз взглянем на график:"
   ]
  },
  {
   "cell_type": "code",
   "execution_count": 35,
   "metadata": {
    "scrolled": true
   },
   "outputs": [
    {
     "data": {
      "image/png": "[encoded data removed]",
      "text/plain": [
       "<Figure size 432x288 with 1 Axes>"
      ]
     },
     "metadata": {
      "needs_background": "light"
     },
     "output_type": "display_data"
    }
   ],
   "source": [
    "# строим scatter-график\n",
    "df.plot.scatter(x='age_in_years', y='days_employed')\n",
    "plt.title('Зависимость стажа и возраста', fontsize=15)\n",
    "plt.xlabel('Возраст, лет', fontsize=12, color='blue')\n",
    "plt.ylabel('Стаж, дней', fontsize=12, color='blue')\n",
    "plt.grid(True)"
   ]
  },
  {
   "cell_type": "markdown",
   "metadata": {},
   "source": [
    "Теперь график выглядит намного лучше! Осталась одна группа, которая не вписывается в рамки. Попробуем с ней разобраться. \n",
    "\n",
    "Для начала создадим новый столбец, в котором посчитаем разницу между возрастом и стажем:"
   ]
  },
  {
   "cell_type": "code",
   "execution_count": 36,
   "metadata": {},
   "outputs": [],
   "source": [
    "# создаём столбец с разницей возраста и стажа\n",
    "df['delta'] = df['age_in_years'] - (18 + df['days_employed'] / -365)"
   ]
  },
  {
   "cell_type": "markdown",
   "metadata": {},
   "source": [
    "Теперь посчитаем количество строк, в которых стаж больше возраста."
   ]
  },
  {
   "cell_type": "code",
   "execution_count": 37,
   "metadata": {
    "scrolled": true
   },
   "outputs": [
    {
     "data": {
      "text/plain": [
       "number_of_children    2122\n",
       "days_employed         2122\n",
       "age_in_years          2122\n",
       "education_level       2122\n",
       "education_level_id    2122\n",
       "family_status         2122\n",
       "family_status_id      2122\n",
       "sex                   2122\n",
       "employment_type       2122\n",
       "failed_to_pay_debt    2122\n",
       "monthly_income        2122\n",
       "credit_purpose        2122\n",
       "groups                2122\n",
       "delta                 2122\n",
       "dtype: int64"
      ]
     },
     "execution_count": 37,
     "metadata": {},
     "output_type": "execute_result"
    }
   ],
   "source": [
    "# считаем количество строк где стаж больше возраста\n",
    "df[df['delta'] < 0].count()"
   ]
  },
  {
   "cell_type": "markdown",
   "metadata": {},
   "source": [
    "Заодно посмотрим на средние и крайние значения:"
   ]
  },
  {
   "cell_type": "code",
   "execution_count": 38,
   "metadata": {},
   "outputs": [
    {
     "data": {
      "text/plain": [
       "mean    -4.643844\n",
       "min    -36.451731\n",
       "max     -0.000338\n",
       "Name: delta, dtype: float64"
      ]
     },
     "execution_count": 38,
     "metadata": {},
     "output_type": "execute_result"
    }
   ],
   "source": [
    "# выводим среднее, наименьшее и наибольшие значения для строк где стаж юольше возраста\n",
    "df[df['delta'] < 0]['delta'].agg(['mean','min','max'])"
   ]
  },
  {
   "cell_type": "markdown",
   "metadata": {},
   "source": [
    "Возможно в этих значениях присутствует ошибка, другой вариант &mdash; часть значений может относиться к тем, у кого стаж засчитывается с коэффициентом. С другой стороны, если стаж превышает возраст аж на 36 лет, то это аномалия.\n",
    "\n",
    "Попробуем расправиться с этими значениями таким образом: \"отзеркалим\" все возможные значения, то есть сделаем стаж меньше на то же значение, на которое стаж первышал возраст. Если же стаж в таком случае окажется отрицательным, тогда просто вычтем из стажа разницу с возрастом."
   ]
  },
  {
   "cell_type": "code",
   "execution_count": 39,
   "metadata": {},
   "outputs": [],
   "source": [
    "# создаём функцию для преобразования значений находящихся за пределами допустимых\n",
    "def overemployment(df):\n",
    "    if (df['delta'] < 0) & (df['days_employed'] < (df['delta'] * 2 * 365)):\n",
    "        return df['days_employed'] - (df['delta'] * 2 * 365)\n",
    "    elif (df['delta'] < 0) & (df['days_employed'] > (df['delta'] * 2 * 365)):\n",
    "        return (df['days_employed'] - (df['delta'] * 365))\n",
    "    else:\n",
    "        return df['days_employed']"
   ]
  },
  {
   "cell_type": "markdown",
   "metadata": {},
   "source": [
    "Применим эту функцию к таблице:"
   ]
  },
  {
   "cell_type": "code",
   "execution_count": 40,
   "metadata": {},
   "outputs": [],
   "source": [
    "# применяем функцию к таблице\n",
    "df['days_employed'] = df.apply(overemployment, axis=1)"
   ]
  },
  {
   "cell_type": "markdown",
   "metadata": {},
   "source": [
    "И взглянем на график:"
   ]
  },
  {
   "cell_type": "code",
   "execution_count": 41,
   "metadata": {
    "scrolled": true
   },
   "outputs": [
    {
     "data": {
      "image/png": "[encoded data removed]",
      "text/plain": [
       "<Figure size 432x288 with 1 Axes>"
      ]
     },
     "metadata": {
      "needs_background": "light"
     },
     "output_type": "display_data"
    }
   ],
   "source": [
    "# строим scatter-график\n",
    "df.plot.scatter(x='age_in_years', y='days_employed')\n",
    "plt.title('Зависимость стажа и возраста', fontsize=15)\n",
    "plt.xlabel('Возраст, лет', fontsize=12, color='blue')\n",
    "plt.ylabel('Стаж, дней', fontsize=12, color='blue')\n",
    "plt.grid(True)"
   ]
  },
  {
   "cell_type": "markdown",
   "metadata": {},
   "source": [
    "Отлично! Мы избавились от аномальных значений, но значения трудового стажа всё ещё отрицательные. Преобразуем же значения:"
   ]
  },
  {
   "cell_type": "code",
   "execution_count": 42,
   "metadata": {},
   "outputs": [],
   "source": [
    "# берём значения столбца по модулю\n",
    "df['days_employed'] = df['days_employed'].abs()"
   ]
  },
  {
   "cell_type": "markdown",
   "metadata": {},
   "source": [
    "Ещё раз взглянем на график:"
   ]
  },
  {
   "cell_type": "code",
   "execution_count": 43,
   "metadata": {
    "scrolled": false
   },
   "outputs": [
    {
     "data": {
      "image/png": "[encoded data removed]",
      "text/plain": [
       "<Figure size 432x288 with 1 Axes>"
      ]
     },
     "metadata": {
      "needs_background": "light"
     },
     "output_type": "display_data"
    }
   ],
   "source": [
    "# строим scatter-график\n",
    "df.plot.scatter(x='age_in_years', y='days_employed')\n",
    "plt.title('Зависимость стажа и возраста', fontsize=15)\n",
    "plt.xlabel('Возраст, лет', fontsize=12, color='blue')\n",
    "plt.ylabel('Стаж, дней', fontsize=12, color='blue')\n",
    "plt.grid(True)"
   ]
  },
  {
   "cell_type": "markdown",
   "metadata": {},
   "source": [
    "Таким образом, мы разобрались с пропущенными значениями."
   ]
  },
  {
   "cell_type": "markdown",
   "metadata": {},
   "source": [
    "[к началу страницы](#top)"
   ]
  },
  {
   "cell_type": "markdown",
   "metadata": {},
   "source": [
    "### 2.4 Изменение типа данных\n",
    "<a id=\"2-4\"></a>"
   ]
  },
  {
   "cell_type": "markdown",
   "metadata": {},
   "source": [
    "Снова обратимся к общей информации по таблице:"
   ]
  },
  {
   "cell_type": "code",
   "execution_count": 44,
   "metadata": {
    "scrolled": false
   },
   "outputs": [
    {
     "name": "stdout",
     "output_type": "stream",
     "text": [
      "<class 'pandas.core.frame.DataFrame'>\n",
      "RangeIndex: 21525 entries, 0 to 21524\n",
      "Data columns (total 14 columns):\n",
      "number_of_children    21525 non-null int64\n",
      "days_employed         21525 non-null float64\n",
      "age_in_years          21525 non-null int64\n",
      "education_level       21525 non-null object\n",
      "education_level_id    21525 non-null int64\n",
      "family_status         21525 non-null object\n",
      "family_status_id      21525 non-null int64\n",
      "sex                   21525 non-null object\n",
      "employment_type       21525 non-null object\n",
      "failed_to_pay_debt    21525 non-null int64\n",
      "monthly_income        21524 non-null float64\n",
      "credit_purpose        21525 non-null object\n",
      "groups                21525 non-null category\n",
      "delta                 21525 non-null float64\n",
      "dtypes: category(1), float64(3), int64(5), object(5)\n",
      "memory usage: 2.2+ MB\n"
     ]
    }
   ],
   "source": [
    "df.info() # получим общую информацию о таблице df"
   ]
  },
  {
   "cell_type": "markdown",
   "metadata": {},
   "source": [
    "Избавимся от лишнего столбца `groups`:"
   ]
  },
  {
   "cell_type": "code",
   "execution_count": 45,
   "metadata": {
    "scrolled": true
   },
   "outputs": [],
   "source": [
    "# удаляем лишний столбец\n",
    "df.drop('groups', axis = 1, inplace = True)"
   ]
  },
  {
   "cell_type": "markdown",
   "metadata": {},
   "source": [
    "Проверяем, удалился ли столбец:"
   ]
  },
  {
   "cell_type": "code",
   "execution_count": 46,
   "metadata": {
    "scrolled": false
   },
   "outputs": [
    {
     "name": "stdout",
     "output_type": "stream",
     "text": [
      "<class 'pandas.core.frame.DataFrame'>\n",
      "RangeIndex: 21525 entries, 0 to 21524\n",
      "Data columns (total 13 columns):\n",
      "number_of_children    21525 non-null int64\n",
      "days_employed         21525 non-null float64\n",
      "age_in_years          21525 non-null int64\n",
      "education_level       21525 non-null object\n",
      "education_level_id    21525 non-null int64\n",
      "family_status         21525 non-null object\n",
      "family_status_id      21525 non-null int64\n",
      "sex                   21525 non-null object\n",
      "employment_type       21525 non-null object\n",
      "failed_to_pay_debt    21525 non-null int64\n",
      "monthly_income        21524 non-null float64\n",
      "credit_purpose        21525 non-null object\n",
      "delta                 21525 non-null float64\n",
      "dtypes: float64(3), int64(5), object(5)\n",
      "memory usage: 2.1+ MB\n"
     ]
    }
   ],
   "source": [
    "df.info() # получим общую информацию о таблице df"
   ]
  },
  {
   "cell_type": "markdown",
   "metadata": {},
   "source": [
    "Отлично! Теперь взглянем на типы данных:"
   ]
  },
  {
   "cell_type": "markdown",
   "metadata": {},
   "source": [
    "Возьмём столбцы с типом данных *int*:"
   ]
  },
  {
   "cell_type": "raw",
   "metadata": {},
   "source": [
    " 0   number_of_children  21525 non-null  int64  \n",
    " 4   education_level_id  21525 non-null  int64  \n",
    " 6   family_status_id    21525 non-null  int64  \n",
    " 9   failed_to_pay_debt  21525 non-null  int64"
   ]
  },
  {
   "cell_type": "markdown",
   "metadata": {},
   "source": [
    "В целом, выглядит логично, количество детей, id - всё это целые числа. Взглянем на столбец должников:"
   ]
  },
  {
   "cell_type": "code",
   "execution_count": 47,
   "metadata": {
    "scrolled": true
   },
   "outputs": [
    {
     "data": {
      "text/plain": [
       "failed_to_pay_debt\n",
       "0    19784\n",
       "1     1741\n",
       "Name: failed_to_pay_debt, dtype: int64"
      ]
     },
     "execution_count": 47,
     "metadata": {},
     "output_type": "execute_result"
    }
   ],
   "source": [
    "# посчитаем количество значений по категориям\n",
    "df.groupby('failed_to_pay_debt')['failed_to_pay_debt'].count()"
   ]
  },
  {
   "cell_type": "markdown",
   "metadata": {},
   "source": [
    "Всего два значения, которые даже по смыслу напрашиваются на замену на тип данных *boolean*. Так давайте так и сделаем:"
   ]
  },
  {
   "cell_type": "code",
   "execution_count": 48,
   "metadata": {},
   "outputs": [],
   "source": [
    "# преобразуем тип данных\n",
    "df['failed_to_pay_debt'] = df['failed_to_pay_debt'].astype('bool')"
   ]
  },
  {
   "cell_type": "markdown",
   "metadata": {},
   "source": [
    "Посмотрим, получилось ли изменить тип данных:"
   ]
  },
  {
   "cell_type": "code",
   "execution_count": 49,
   "metadata": {
    "scrolled": true
   },
   "outputs": [
    {
     "name": "stdout",
     "output_type": "stream",
     "text": [
      "<class 'pandas.core.frame.DataFrame'>\n",
      "RangeIndex: 21525 entries, 0 to 21524\n",
      "Data columns (total 13 columns):\n",
      "number_of_children    21525 non-null int64\n",
      "days_employed         21525 non-null float64\n",
      "age_in_years          21525 non-null int64\n",
      "education_level       21525 non-null object\n",
      "education_level_id    21525 non-null int64\n",
      "family_status         21525 non-null object\n",
      "family_status_id      21525 non-null int64\n",
      "sex                   21525 non-null object\n",
      "employment_type       21525 non-null object\n",
      "failed_to_pay_debt    21525 non-null bool\n",
      "monthly_income        21524 non-null float64\n",
      "credit_purpose        21525 non-null object\n",
      "delta                 21525 non-null float64\n",
      "dtypes: bool(1), float64(3), int64(4), object(5)\n",
      "memory usage: 2.0+ MB\n"
     ]
    }
   ],
   "source": [
    "df.info() # получим общую информацию о таблице df"
   ]
  },
  {
   "cell_type": "markdown",
   "metadata": {},
   "source": [
    "Взглянем и на сами значения:"
   ]
  },
  {
   "cell_type": "code",
   "execution_count": 50,
   "metadata": {},
   "outputs": [
    {
     "data": {
      "text/plain": [
       "failed_to_pay_debt\n",
       "False    19784\n",
       "True      1741\n",
       "Name: failed_to_pay_debt, dtype: int64"
      ]
     },
     "execution_count": 50,
     "metadata": {},
     "output_type": "execute_result"
    }
   ],
   "source": [
    "# посчитаем количество значений по категориям\n",
    "df.groupby('failed_to_pay_debt')['failed_to_pay_debt'].count()"
   ]
  },
  {
   "cell_type": "markdown",
   "metadata": {},
   "source": [
    "Тип данных изменился, теперь взглянем на столбцы с типом данных *float*:"
   ]
  },
  {
   "cell_type": "raw",
   "metadata": {},
   "source": [
    " 1   days_employed       21525 non-null  float64\n",
    " 2   age_in_years        21525 non-null  float64\n",
    " 10  monthly_income      21524 non-null  float64"
   ]
  },
  {
   "cell_type": "markdown",
   "metadata": {},
   "source": [
    "Видно, что для дней и годов тип данных *float* не очень то и подходит, для дохода допустимо использовать *float*. К тому же у нас есть пропущенное значение **NaN**, которое не применяется в тип данных *int*. Изменим тип данных столбцов `days_employed`, `age_in_years`  на *int*:"
   ]
  },
  {
   "cell_type": "code",
   "execution_count": 51,
   "metadata": {},
   "outputs": [],
   "source": [
    "# преобразуем тип данных\n",
    "df['days_employed'] = df['days_employed'].astype('int')\n",
    "df['age_in_years'] = df['age_in_years'].astype('int')"
   ]
  },
  {
   "cell_type": "markdown",
   "metadata": {},
   "source": [
    "Посмотрим общую информацию по таблице:"
   ]
  },
  {
   "cell_type": "code",
   "execution_count": 52,
   "metadata": {
    "scrolled": true
   },
   "outputs": [
    {
     "name": "stdout",
     "output_type": "stream",
     "text": [
      "<class 'pandas.core.frame.DataFrame'>\n",
      "RangeIndex: 21525 entries, 0 to 21524\n",
      "Data columns (total 13 columns):\n",
      "number_of_children    21525 non-null int64\n",
      "days_employed         21525 non-null int64\n",
      "age_in_years          21525 non-null int64\n",
      "education_level       21525 non-null object\n",
      "education_level_id    21525 non-null int64\n",
      "family_status         21525 non-null object\n",
      "family_status_id      21525 non-null int64\n",
      "sex                   21525 non-null object\n",
      "employment_type       21525 non-null object\n",
      "failed_to_pay_debt    21525 non-null bool\n",
      "monthly_income        21524 non-null float64\n",
      "credit_purpose        21525 non-null object\n",
      "delta                 21525 non-null float64\n",
      "dtypes: bool(1), float64(2), int64(5), object(5)\n",
      "memory usage: 2.0+ MB\n"
     ]
    }
   ],
   "source": [
    "df.info() # получим общую информацию о таблице df"
   ]
  },
  {
   "cell_type": "markdown",
   "metadata": {},
   "source": [
    "На этом мы заканчиваем преобразование типов данных и переходим к лемматизации и категорированию."
   ]
  },
  {
   "cell_type": "markdown",
   "metadata": {},
   "source": [
    "### 2.5 Лемматизация данных\n",
    "<a id=\"2-5\"></a>"
   ]
  },
  {
   "cell_type": "markdown",
   "metadata": {},
   "source": [
    "Нам необходимо сгруппировать различные цели получения кредита для более наглядного восприятия данных. Посмотрим сколько на текущий момент содержится в таблице различных целей получения кредита:"
   ]
  },
  {
   "cell_type": "code",
   "execution_count": 53,
   "metadata": {},
   "outputs": [
    {
     "data": {
      "text/plain": [
       "38"
      ]
     },
     "execution_count": 53,
     "metadata": {},
     "output_type": "execute_result"
    }
   ],
   "source": [
    "df.groupby('credit_purpose')['credit_purpose'].count().count() # считаем количество категорий"
   ]
  },
  {
   "cell_type": "markdown",
   "metadata": {},
   "source": [
    "Целых 38 целей! Давайте посмотрим с какими же целями клиенты обращаются за дополнительным финансированием в банк:"
   ]
  },
  {
   "cell_type": "code",
   "execution_count": 54,
   "metadata": {
    "scrolled": false
   },
   "outputs": [
    {
     "data": {
      "text/plain": [
       "credit_purpose\n",
       "автомобили                                478\n",
       "автомобиль                                495\n",
       "высшее образование                        453\n",
       "дополнительное образование                462\n",
       "жилье                                     647\n",
       "заняться высшим образованием              496\n",
       "заняться образованием                     412\n",
       "на покупку автомобиля                     472\n",
       "на покупку подержанного автомобиля        479\n",
       "на покупку своего автомобиля              505\n",
       "на проведение свадьбы                     777\n",
       "недвижимость                              634\n",
       "образование                               447\n",
       "операции с жильем                         653\n",
       "операции с коммерческой недвижимостью     651\n",
       "операции с недвижимостью                  676\n",
       "операции со своей недвижимостью           630\n",
       "покупка жилой недвижимости                607\n",
       "покупка жилья                             647\n",
       "покупка жилья для сдачи                   653\n",
       "покупка жилья для семьи                   641\n",
       "покупка коммерческой недвижимости         664\n",
       "покупка недвижимости                      624\n",
       "покупка своего жилья                      620\n",
       "получение высшего образования             426\n",
       "получение дополнительного образования     447\n",
       "получение образования                     443\n",
       "приобретение автомобиля                   462\n",
       "профильное образование                    436\n",
       "ремонт жилью                              612\n",
       "свадьба                                   797\n",
       "свой автомобиль                           480\n",
       "сделка с автомобилем                      455\n",
       "сделка с подержанным автомобилем          489\n",
       "строительство жилой недвижимости          626\n",
       "строительство недвижимости                620\n",
       "строительство собственной недвижимости    635\n",
       "сыграть свадьбу                           774\n",
       "Name: credit_purpose, dtype: int64"
      ]
     },
     "execution_count": 54,
     "metadata": {},
     "output_type": "execute_result"
    }
   ],
   "source": [
    "df.groupby('credit_purpose')['credit_purpose'].count() # выводим на экран список категорий"
   ]
  },
  {
   "cell_type": "markdown",
   "metadata": {},
   "source": [
    "Оказывается не так уж и разнообразны предпочтения у клиентов банка. 38 разных формулировок похожих запросов. Попробуем сократить категории с помощью лемматизации:"
   ]
  },
  {
   "cell_type": "code",
   "execution_count": 55,
   "metadata": {
    "scrolled": false
   },
   "outputs": [
    {
     "data": {
      "text/plain": [
       "[(' ', 96),\n",
       " ('покупка', 10),\n",
       " ('недвижимость', 10),\n",
       " ('автомобиль', 9),\n",
       " ('образование', 9),\n",
       " ('жилье', 7),\n",
       " ('с', 5),\n",
       " ('на', 4),\n",
       " ('свой', 4),\n",
       " ('операция', 4),\n",
       " ('высокий', 3),\n",
       " ('свадьба', 3),\n",
       " ('получение', 3),\n",
       " ('строительство', 3),\n",
       " ('дополнительный', 2),\n",
       " ('заниматься', 2),\n",
       " ('подержать', 2),\n",
       " ('коммерческий', 2),\n",
       " ('жилой', 2),\n",
       " ('для', 2),\n",
       " ('сделка', 2),\n",
       " ('проведение', 1),\n",
       " ('со', 1),\n",
       " ('сдача', 1),\n",
       " ('семья', 1),\n",
       " ('приобретение', 1),\n",
       " ('профильный', 1),\n",
       " ('ремонт', 1),\n",
       " ('собственный', 1),\n",
       " ('сыграть', 1),\n",
       " ('\\n', 1)]"
      ]
     },
     "execution_count": 55,
     "metadata": {},
     "output_type": "execute_result"
    }
   ],
   "source": [
    "# сохраняем столбец с категориями в переменной purpose\n",
    "purpose = df.groupby('credit_purpose')['credit_purpose'].count()\n",
    "# создаём пустой список cats\n",
    "cats = []\n",
    "# склеиваем все категории в 1 список\n",
    "for i, v in purpose.iteritems():\n",
    "    cats.append(i)\n",
    "# считаем леммы в получившемся списке    \n",
    "Counter(m.lemmatize(' '.join(cats))).most_common()"
   ]
  },
  {
   "cell_type": "markdown",
   "metadata": {},
   "source": [
    "В итоге у нас остаётся всего 4 уникальные категории (и одна подобная по смыслу):"
   ]
  },
  {
   "cell_type": "markdown",
   "metadata": {},
   "source": [
    "- недвижимость (жилье) \n",
    "- автомобиль\n",
    "- образование\n",
    "- свадьба"
   ]
  },
  {
   "cell_type": "markdown",
   "metadata": {},
   "source": [
    "Создадим словарь для обобщения 38 целей кредита в 4 категории:"
   ]
  },
  {
   "cell_type": "code",
   "execution_count": 56,
   "metadata": {
    "scrolled": true
   },
   "outputs": [
    {
     "name": "stdout",
     "output_type": "stream",
     "text": [
      "{'автомобили': 'автомобиль', 'автомобиль': 'автомобиль', 'высшее образование': 'образование', 'дополнительное образование': 'образование', 'жилье': 'недвижимость', 'заняться высшим образованием': 'образование', 'заняться образованием': 'образование', 'на покупку автомобиля': 'автомобиль', 'на покупку подержанного автомобиля': 'автомобиль', 'на покупку своего автомобиля': 'автомобиль', 'на проведение свадьбы': 'свадьба', 'недвижимость': 'недвижимость', 'образование': 'образование', 'операции с жильем': 'недвижимость', 'операции с коммерческой недвижимостью': 'недвижимость', 'операции с недвижимостью': 'недвижимость', 'операции со своей недвижимостью': 'недвижимость', 'покупка жилой недвижимости': 'недвижимость', 'покупка жилья': 'недвижимость', 'покупка жилья для сдачи': 'недвижимость', 'покупка жилья для семьи': 'недвижимость', 'покупка коммерческой недвижимости': 'недвижимость', 'покупка недвижимости': 'недвижимость', 'покупка своего жилья': 'недвижимость', 'получение высшего образования': 'образование', 'получение дополнительного образования': 'образование', 'получение образования': 'образование', 'приобретение автомобиля': 'автомобиль', 'профильное образование': 'образование', 'ремонт жилью': 'недвижимость', 'свадьба': 'свадьба', 'свой автомобиль': 'автомобиль', 'сделка с автомобилем': 'автомобиль', 'сделка с подержанным автомобилем': 'автомобиль', 'строительство жилой недвижимости': 'недвижимость', 'строительство недвижимости': 'недвижимость', 'строительство собственной недвижимости': 'недвижимость', 'сыграть свадьбу': 'свадьба'}\n"
     ]
    }
   ],
   "source": [
    "# создадим пустой словарь\n",
    "dict = {}\n",
    "# для каждой категории подберём обобщение\n",
    "for i, v in purpose.iteritems():\n",
    "    if 'недвижимость' in m.lemmatize(i) or 'жилье' in m.lemmatize(i):\n",
    "        dict[i] = 'недвижимость'\n",
    "    elif 'автомобиль' in m.lemmatize(i):\n",
    "        dict[i] = 'автомобиль'\n",
    "    elif 'образование' in m.lemmatize(i):\n",
    "        dict[i] = 'образование'\n",
    "    elif 'свадьба' in m.lemmatize(i):\n",
    "        dict[i] = 'свадьба'\n",
    "    else:\n",
    "        dict[i] = 'прочее'\n",
    "# выведем словарь на экран\n",
    "print(dict)"
   ]
  },
  {
   "cell_type": "markdown",
   "metadata": {},
   "source": [
    "Заменим на основе получившегося словаря столбец `credit_purpose`:"
   ]
  },
  {
   "cell_type": "code",
   "execution_count": 57,
   "metadata": {},
   "outputs": [],
   "source": [
    "# заменим значения в столбце 'credit_purpose' на основании словаря\n",
    "df.replace(to_replace = dict, value = None, inplace = True)"
   ]
  },
  {
   "cell_type": "markdown",
   "metadata": {},
   "source": [
    "Взглянем снова на этот столбец:"
   ]
  },
  {
   "cell_type": "code",
   "execution_count": 58,
   "metadata": {
    "scrolled": false
   },
   "outputs": [
    {
     "data": {
      "text/html": [
       "<div>\n",
       "<style scoped>\n",
       "    .dataframe tbody tr th:only-of-type {\n",
       "        vertical-align: middle;\n",
       "    }\n",
       "\n",
       "    .dataframe tbody tr th {\n",
       "        vertical-align: top;\n",
       "    }\n",
       "\n",
       "    .dataframe thead th {\n",
       "        text-align: right;\n",
       "    }\n",
       "</style>\n",
       "<table border=\"1\" class=\"dataframe\">\n",
       "  <thead>\n",
       "    <tr style=\"text-align: right;\">\n",
       "      <th></th>\n",
       "      <th>number_of_children</th>\n",
       "      <th>days_employed</th>\n",
       "      <th>age_in_years</th>\n",
       "      <th>education_level</th>\n",
       "      <th>education_level_id</th>\n",
       "      <th>family_status</th>\n",
       "      <th>family_status_id</th>\n",
       "      <th>sex</th>\n",
       "      <th>employment_type</th>\n",
       "      <th>failed_to_pay_debt</th>\n",
       "      <th>monthly_income</th>\n",
       "      <th>delta</th>\n",
       "    </tr>\n",
       "    <tr>\n",
       "      <th>credit_purpose</th>\n",
       "      <th></th>\n",
       "      <th></th>\n",
       "      <th></th>\n",
       "      <th></th>\n",
       "      <th></th>\n",
       "      <th></th>\n",
       "      <th></th>\n",
       "      <th></th>\n",
       "      <th></th>\n",
       "      <th></th>\n",
       "      <th></th>\n",
       "      <th></th>\n",
       "    </tr>\n",
       "  </thead>\n",
       "  <tbody>\n",
       "    <tr>\n",
       "      <td>автомобиль</td>\n",
       "      <td>4315</td>\n",
       "      <td>4315</td>\n",
       "      <td>4315</td>\n",
       "      <td>4315</td>\n",
       "      <td>4315</td>\n",
       "      <td>4315</td>\n",
       "      <td>4315</td>\n",
       "      <td>4315</td>\n",
       "      <td>4315</td>\n",
       "      <td>4315</td>\n",
       "      <td>4315</td>\n",
       "      <td>4315</td>\n",
       "    </tr>\n",
       "    <tr>\n",
       "      <td>недвижимость</td>\n",
       "      <td>10840</td>\n",
       "      <td>10840</td>\n",
       "      <td>10840</td>\n",
       "      <td>10840</td>\n",
       "      <td>10840</td>\n",
       "      <td>10840</td>\n",
       "      <td>10840</td>\n",
       "      <td>10840</td>\n",
       "      <td>10840</td>\n",
       "      <td>10840</td>\n",
       "      <td>10839</td>\n",
       "      <td>10840</td>\n",
       "    </tr>\n",
       "    <tr>\n",
       "      <td>образование</td>\n",
       "      <td>4022</td>\n",
       "      <td>4022</td>\n",
       "      <td>4022</td>\n",
       "      <td>4022</td>\n",
       "      <td>4022</td>\n",
       "      <td>4022</td>\n",
       "      <td>4022</td>\n",
       "      <td>4022</td>\n",
       "      <td>4022</td>\n",
       "      <td>4022</td>\n",
       "      <td>4022</td>\n",
       "      <td>4022</td>\n",
       "    </tr>\n",
       "    <tr>\n",
       "      <td>свадьба</td>\n",
       "      <td>2348</td>\n",
       "      <td>2348</td>\n",
       "      <td>2348</td>\n",
       "      <td>2348</td>\n",
       "      <td>2348</td>\n",
       "      <td>2348</td>\n",
       "      <td>2348</td>\n",
       "      <td>2348</td>\n",
       "      <td>2348</td>\n",
       "      <td>2348</td>\n",
       "      <td>2348</td>\n",
       "      <td>2348</td>\n",
       "    </tr>\n",
       "  </tbody>\n",
       "</table>\n",
       "</div>"
      ],
      "text/plain": [
       "                number_of_children  days_employed  age_in_years  \\\n",
       "credit_purpose                                                    \n",
       "автомобиль                    4315           4315          4315   \n",
       "недвижимость                 10840          10840         10840   \n",
       "образование                   4022           4022          4022   \n",
       "свадьба                       2348           2348          2348   \n",
       "\n",
       "                education_level  education_level_id  family_status  \\\n",
       "credit_purpose                                                       \n",
       "автомобиль                 4315                4315           4315   \n",
       "недвижимость              10840               10840          10840   \n",
       "образование                4022                4022           4022   \n",
       "свадьба                    2348                2348           2348   \n",
       "\n",
       "                family_status_id    sex  employment_type  failed_to_pay_debt  \\\n",
       "credit_purpose                                                                 \n",
       "автомобиль                  4315   4315             4315                4315   \n",
       "недвижимость               10840  10840            10840               10840   \n",
       "образование                 4022   4022             4022                4022   \n",
       "свадьба                     2348   2348             2348                2348   \n",
       "\n",
       "                monthly_income  delta  \n",
       "credit_purpose                         \n",
       "автомобиль                4315   4315  \n",
       "недвижимость             10839  10840  \n",
       "образование               4022   4022  \n",
       "свадьба                   2348   2348  "
      ]
     },
     "execution_count": 58,
     "metadata": {},
     "output_type": "execute_result"
    }
   ],
   "source": [
    "# сгруппирруем по категориям\n",
    "df.groupby('credit_purpose').count()"
   ]
  },
  {
   "cell_type": "markdown",
   "metadata": {},
   "source": [
    "Таким образом мы лемматизировали и категорировали данные по столбцу `credit_purpose`. Теперь займемся категорированием и других столбцов."
   ]
  },
  {
   "cell_type": "markdown",
   "metadata": {},
   "source": [
    "### 2.6 Категорирование данных\n",
    "<a id=\"2-6\"></a>"
   ]
  },
  {
   "cell_type": "markdown",
   "metadata": {},
   "source": [
    "В таблице есть две пары столбцов которые относят клиентов банка к какой-либо категории: `education_level`/`education_level_id` и `family_status`/`family_status_id`. Мы спокойно можем избавиться от столбцов значений и оставить только столбцы с ключами (*id*)."
   ]
  },
  {
   "cell_type": "markdown",
   "metadata": {},
   "source": [
    "Для уровня образования создадим словарь в переменной `education_dict`:"
   ]
  },
  {
   "cell_type": "code",
   "execution_count": 59,
   "metadata": {
    "scrolled": false
   },
   "outputs": [
    {
     "data": {
      "text/html": [
       "<div>\n",
       "<style scoped>\n",
       "    .dataframe tbody tr th:only-of-type {\n",
       "        vertical-align: middle;\n",
       "    }\n",
       "\n",
       "    .dataframe tbody tr th {\n",
       "        vertical-align: top;\n",
       "    }\n",
       "\n",
       "    .dataframe thead th {\n",
       "        text-align: right;\n",
       "    }\n",
       "</style>\n",
       "<table border=\"1\" class=\"dataframe\">\n",
       "  <thead>\n",
       "    <tr style=\"text-align: right;\">\n",
       "      <th></th>\n",
       "      <th>education_level_id</th>\n",
       "      <th>education_level</th>\n",
       "    </tr>\n",
       "  </thead>\n",
       "  <tbody>\n",
       "    <tr>\n",
       "      <td>0</td>\n",
       "      <td>0</td>\n",
       "      <td>высшее</td>\n",
       "    </tr>\n",
       "    <tr>\n",
       "      <td>1</td>\n",
       "      <td>1</td>\n",
       "      <td>среднее</td>\n",
       "    </tr>\n",
       "    <tr>\n",
       "      <td>2</td>\n",
       "      <td>2</td>\n",
       "      <td>неоконченное высшее</td>\n",
       "    </tr>\n",
       "    <tr>\n",
       "      <td>3</td>\n",
       "      <td>3</td>\n",
       "      <td>начальное</td>\n",
       "    </tr>\n",
       "    <tr>\n",
       "      <td>4</td>\n",
       "      <td>4</td>\n",
       "      <td>ученая степень</td>\n",
       "    </tr>\n",
       "  </tbody>\n",
       "</table>\n",
       "</div>"
      ],
      "text/plain": [
       "   education_level_id      education_level\n",
       "0                   0               высшее\n",
       "1                   1              среднее\n",
       "2                   2  неоконченное высшее\n",
       "3                   3            начальное\n",
       "4                   4       ученая степень"
      ]
     },
     "execution_count": 59,
     "metadata": {},
     "output_type": "execute_result"
    }
   ],
   "source": [
    "# добавим в переменную education_dict столбцы 'education_level' и 'education_level_id' из основной таблицы\n",
    "education_dict = df[['education_level_id', 'education_level']]\n",
    "# избавимся от дубликатов\n",
    "education_dict = education_dict.drop_duplicates().reset_index(drop = True)\n",
    "# выведем словарь на экран\n",
    "education_dict"
   ]
  },
  {
   "cell_type": "markdown",
   "metadata": {},
   "source": [
    "Теперь сделаем такой же словарь для семейного положения:"
   ]
  },
  {
   "cell_type": "code",
   "execution_count": 60,
   "metadata": {},
   "outputs": [
    {
     "data": {
      "text/html": [
       "<div>\n",
       "<style scoped>\n",
       "    .dataframe tbody tr th:only-of-type {\n",
       "        vertical-align: middle;\n",
       "    }\n",
       "\n",
       "    .dataframe tbody tr th {\n",
       "        vertical-align: top;\n",
       "    }\n",
       "\n",
       "    .dataframe thead th {\n",
       "        text-align: right;\n",
       "    }\n",
       "</style>\n",
       "<table border=\"1\" class=\"dataframe\">\n",
       "  <thead>\n",
       "    <tr style=\"text-align: right;\">\n",
       "      <th></th>\n",
       "      <th>family_status_id</th>\n",
       "      <th>family_status</th>\n",
       "    </tr>\n",
       "  </thead>\n",
       "  <tbody>\n",
       "    <tr>\n",
       "      <td>0</td>\n",
       "      <td>0</td>\n",
       "      <td>женат / замужем</td>\n",
       "    </tr>\n",
       "    <tr>\n",
       "      <td>1</td>\n",
       "      <td>1</td>\n",
       "      <td>гражданский брак</td>\n",
       "    </tr>\n",
       "    <tr>\n",
       "      <td>2</td>\n",
       "      <td>2</td>\n",
       "      <td>вдовец / вдова</td>\n",
       "    </tr>\n",
       "    <tr>\n",
       "      <td>3</td>\n",
       "      <td>3</td>\n",
       "      <td>в разводе</td>\n",
       "    </tr>\n",
       "    <tr>\n",
       "      <td>4</td>\n",
       "      <td>4</td>\n",
       "      <td>не женат / не замужем</td>\n",
       "    </tr>\n",
       "  </tbody>\n",
       "</table>\n",
       "</div>"
      ],
      "text/plain": [
       "   family_status_id          family_status\n",
       "0                 0        женат / замужем\n",
       "1                 1       гражданский брак\n",
       "2                 2         вдовец / вдова\n",
       "3                 3              в разводе\n",
       "4                 4  не женат / не замужем"
      ]
     },
     "execution_count": 60,
     "metadata": {},
     "output_type": "execute_result"
    }
   ],
   "source": [
    "# добавим в переменную family_status_dict столбцы 'family_status' и 'family_status_id' из основной таблицы\n",
    "family_status_dict = df[['family_status_id', 'family_status']]\n",
    "# избавимся от дубликатов\n",
    "family_status_dict = family_status_dict.drop_duplicates().reset_index(drop = True)\n",
    "# выведем словарь на экран\n",
    "family_status_dict"
   ]
  },
  {
   "cell_type": "markdown",
   "metadata": {},
   "source": [
    "Теперь уберём столбцы с названиями этих категорий из основной таблицы:"
   ]
  },
  {
   "cell_type": "code",
   "execution_count": 61,
   "metadata": {},
   "outputs": [],
   "source": [
    "# уберём из основной таблицы названия категорий по уровню образования и семейному положению\n",
    "df = df[['number_of_children', 'days_employed', 'age_in_years', 'education_level_id', 'family_status_id', 'sex', 'employment_type', 'failed_to_pay_debt', 'monthly_income', 'credit_purpose']]"
   ]
  },
  {
   "cell_type": "markdown",
   "metadata": {},
   "source": [
    "Взглянем на информацию о таблице:"
   ]
  },
  {
   "cell_type": "code",
   "execution_count": 62,
   "metadata": {
    "scrolled": true
   },
   "outputs": [
    {
     "name": "stdout",
     "output_type": "stream",
     "text": [
      "<class 'pandas.core.frame.DataFrame'>\n",
      "RangeIndex: 21525 entries, 0 to 21524\n",
      "Data columns (total 10 columns):\n",
      "number_of_children    21525 non-null int64\n",
      "days_employed         21525 non-null int64\n",
      "age_in_years          21525 non-null int64\n",
      "education_level_id    21525 non-null int64\n",
      "family_status_id      21525 non-null int64\n",
      "sex                   21525 non-null object\n",
      "employment_type       21525 non-null object\n",
      "failed_to_pay_debt    21525 non-null bool\n",
      "monthly_income        21524 non-null float64\n",
      "credit_purpose        21525 non-null object\n",
      "dtypes: bool(1), float64(1), int64(5), object(3)\n",
      "memory usage: 1.5+ MB\n"
     ]
    }
   ],
   "source": [
    "df.info() # получим общую информацию о таблице df"
   ]
  },
  {
   "cell_type": "markdown",
   "metadata": {},
   "source": [
    "Кроме этих столбцов у нас есть еще два столбца, которые можно категорировать. Например, по количеству детей можно выделить категории бездетных (0 детей), малодетных (от 0 до 3 детей) и многодетных (3 и более детей). Для этого опишем специальную функцию:"
   ]
  },
  {
   "cell_type": "code",
   "execution_count": 63,
   "metadata": {},
   "outputs": [],
   "source": [
    "# определим функцию для категоризации в зависимости от количества детей\n",
    "def children_categorizer(row):\n",
    "    if row['number_of_children'] == 0:\n",
    "        return 0\n",
    "    elif (row['number_of_children'] > 0) and (row['number_of_children'] < 3):\n",
    "        return 1\n",
    "    elif (row['number_of_children'] >= 3):\n",
    "        return 2"
   ]
  },
  {
   "cell_type": "markdown",
   "metadata": {},
   "source": [
    "Теперь применим эту функцию к таблице и сохраним результат в отдельный столбец `number_of_children_id`:"
   ]
  },
  {
   "cell_type": "code",
   "execution_count": 64,
   "metadata": {},
   "outputs": [
    {
     "name": "stderr",
     "output_type": "stream",
     "text": [
      "/opt/conda/lib/python3.7/site-packages/ipykernel_launcher.py:2: SettingWithCopyWarning: \n",
      "A value is trying to be set on a copy of a slice from a DataFrame.\n",
      "Try using .loc[row_indexer,col_indexer] = value instead\n",
      "\n",
      "See the caveats in the documentation: http://pandas.pydata.org/pandas-docs/stable/user_guide/indexing.html#returning-a-view-versus-a-copy\n",
      "  \n"
     ]
    }
   ],
   "source": [
    "# применим функцию к таблице и сохраним результат в новый столбец\n",
    "df['number_of_children_id'] = df.apply(children_categorizer, axis = 1)"
   ]
  },
  {
   "cell_type": "markdown",
   "metadata": {},
   "source": [
    "Проверим, получилось ли создать новый столбец. Выведем на экран сгруппированную по категориям сводку:"
   ]
  },
  {
   "cell_type": "code",
   "execution_count": 65,
   "metadata": {
    "scrolled": true
   },
   "outputs": [
    {
     "data": {
      "text/plain": [
       "number_of_children_id\n",
       "0    14272\n",
       "1     6873\n",
       "2      380\n",
       "Name: number_of_children_id, dtype: int64"
      ]
     },
     "execution_count": 65,
     "metadata": {},
     "output_type": "execute_result"
    }
   ],
   "source": [
    "# выведем на экран новые категории\n",
    "df.groupby('number_of_children_id')['number_of_children_id'].count()"
   ]
  },
  {
   "cell_type": "markdown",
   "metadata": {},
   "source": [
    "Теперь, чтобы понять что обозначают id из нового столбца, создадим словарь:"
   ]
  },
  {
   "cell_type": "code",
   "execution_count": 66,
   "metadata": {
    "scrolled": true
   },
   "outputs": [
    {
     "data": {
      "text/html": [
       "<div>\n",
       "<style scoped>\n",
       "    .dataframe tbody tr th:only-of-type {\n",
       "        vertical-align: middle;\n",
       "    }\n",
       "\n",
       "    .dataframe tbody tr th {\n",
       "        vertical-align: top;\n",
       "    }\n",
       "\n",
       "    .dataframe thead th {\n",
       "        text-align: right;\n",
       "    }\n",
       "</style>\n",
       "<table border=\"1\" class=\"dataframe\">\n",
       "  <thead>\n",
       "    <tr style=\"text-align: right;\">\n",
       "      <th></th>\n",
       "      <th>number_of_children_id</th>\n",
       "      <th>number_of_children_type</th>\n",
       "    </tr>\n",
       "  </thead>\n",
       "  <tbody>\n",
       "    <tr>\n",
       "      <td>0</td>\n",
       "      <td>0</td>\n",
       "      <td>бездетный(ая)</td>\n",
       "    </tr>\n",
       "    <tr>\n",
       "      <td>1</td>\n",
       "      <td>1</td>\n",
       "      <td>малодетный(ая)</td>\n",
       "    </tr>\n",
       "    <tr>\n",
       "      <td>2</td>\n",
       "      <td>2</td>\n",
       "      <td>многодетный(ая)</td>\n",
       "    </tr>\n",
       "  </tbody>\n",
       "</table>\n",
       "</div>"
      ],
      "text/plain": [
       "   number_of_children_id number_of_children_type\n",
       "0                      0           бездетный(ая)\n",
       "1                      1          малодетный(ая)\n",
       "2                      2         многодетный(ая)"
      ]
     },
     "execution_count": 66,
     "metadata": {},
     "output_type": "execute_result"
    }
   ],
   "source": [
    "# создадим таблицу-словарь\n",
    "number_of_children_dict = pd.DataFrame.from_dict({\n",
    "    'number_of_children_id': [0, 1, 2], \n",
    "    'number_of_children_type': ['бездетный(ая)', 'малодетный(ая)', 'многодетный(ая)']\n",
    "})\n",
    "# и выведем её на экран\n",
    "number_of_children_dict"
   ]
  },
  {
   "cell_type": "markdown",
   "metadata": {},
   "source": [
    "Также мы можем провести категорирование по столбцу `monthly_income`. В первом варианте используем квантили для стандартного нормального распределения:"
   ]
  },
  {
   "cell_type": "code",
   "execution_count": 67,
   "metadata": {},
   "outputs": [],
   "source": [
    "# присвоим переменным q0-q5 значения, характерные для нормального распределения\n",
    "q0 = df['monthly_income'].min()\n",
    "q1 = df['monthly_income'].quantile(q=0.025)\n",
    "q2 = df['monthly_income'].quantile(q=0.16)\n",
    "q3 = df['monthly_income'].quantile(q=0.84)\n",
    "q4 = df['monthly_income'].quantile(q=0.975)\n",
    "q5 = df['monthly_income'].max()"
   ]
  },
  {
   "cell_type": "markdown",
   "metadata": {},
   "source": [
    "На основе квантилей разобьём всех клиентов на 5 групп:"
   ]
  },
  {
   "cell_type": "code",
   "execution_count": 68,
   "metadata": {},
   "outputs": [
    {
     "name": "stderr",
     "output_type": "stream",
     "text": [
      "/opt/conda/lib/python3.7/site-packages/ipykernel_launcher.py:2: SettingWithCopyWarning: \n",
      "A value is trying to be set on a copy of a slice from a DataFrame.\n",
      "Try using .loc[row_indexer,col_indexer] = value instead\n",
      "\n",
      "See the caveats in the documentation: http://pandas.pydata.org/pandas-docs/stable/user_guide/indexing.html#returning-a-view-versus-a-copy\n",
      "  \n"
     ]
    },
    {
     "data": {
      "text/html": [
       "<div>\n",
       "<style scoped>\n",
       "    .dataframe tbody tr th:only-of-type {\n",
       "        vertical-align: middle;\n",
       "    }\n",
       "\n",
       "    .dataframe tbody tr th {\n",
       "        vertical-align: top;\n",
       "    }\n",
       "\n",
       "    .dataframe thead th {\n",
       "        text-align: right;\n",
       "    }\n",
       "</style>\n",
       "<table border=\"1\" class=\"dataframe\">\n",
       "  <thead>\n",
       "    <tr style=\"text-align: right;\">\n",
       "      <th></th>\n",
       "      <th>count</th>\n",
       "      <th>mean</th>\n",
       "      <th>median</th>\n",
       "      <th>min</th>\n",
       "      <th>max</th>\n",
       "    </tr>\n",
       "    <tr>\n",
       "      <th>income_groups</th>\n",
       "      <th></th>\n",
       "      <th></th>\n",
       "      <th></th>\n",
       "      <th></th>\n",
       "      <th></th>\n",
       "    </tr>\n",
       "  </thead>\n",
       "  <tbody>\n",
       "    <tr>\n",
       "      <td>(20667.263, 54214.429]</td>\n",
       "      <td>539</td>\n",
       "      <td>45083.317611</td>\n",
       "      <td>47395.440364</td>\n",
       "      <td>20667.263793</td>\n",
       "      <td>5.421382e+04</td>\n",
       "    </tr>\n",
       "    <tr>\n",
       "      <td>(54214.429, 90939.015]</td>\n",
       "      <td>2905</td>\n",
       "      <td>75403.119554</td>\n",
       "      <td>76935.177494</td>\n",
       "      <td>54221.913003</td>\n",
       "      <td>9.093789e+04</td>\n",
       "    </tr>\n",
       "    <tr>\n",
       "      <td>(90939.015, 232667.162]</td>\n",
       "      <td>14636</td>\n",
       "      <td>149418.995672</td>\n",
       "      <td>144881.784198</td>\n",
       "      <td>90939.542659</td>\n",
       "      <td>2.326626e+05</td>\n",
       "    </tr>\n",
       "    <tr>\n",
       "      <td>(232667.162, 398549.838]</td>\n",
       "      <td>2905</td>\n",
       "      <td>287228.823817</td>\n",
       "      <td>276232.574400</td>\n",
       "      <td>232676.916792</td>\n",
       "      <td>3.980370e+05</td>\n",
       "    </tr>\n",
       "    <tr>\n",
       "      <td>(398549.838, 2265604.029]</td>\n",
       "      <td>539</td>\n",
       "      <td>546324.342386</td>\n",
       "      <td>477983.633851</td>\n",
       "      <td>398591.419329</td>\n",
       "      <td>2.265604e+06</td>\n",
       "    </tr>\n",
       "  </tbody>\n",
       "</table>\n",
       "</div>"
      ],
      "text/plain": [
       "                           count           mean         median            min  \\\n",
       "income_groups                                                                   \n",
       "(20667.263, 54214.429]       539   45083.317611   47395.440364   20667.263793   \n",
       "(54214.429, 90939.015]      2905   75403.119554   76935.177494   54221.913003   \n",
       "(90939.015, 232667.162]    14636  149418.995672  144881.784198   90939.542659   \n",
       "(232667.162, 398549.838]    2905  287228.823817  276232.574400  232676.916792   \n",
       "(398549.838, 2265604.029]    539  546324.342386  477983.633851  398591.419329   \n",
       "\n",
       "                                    max  \n",
       "income_groups                            \n",
       "(20667.263, 54214.429]     5.421382e+04  \n",
       "(54214.429, 90939.015]     9.093789e+04  \n",
       "(90939.015, 232667.162]    2.326626e+05  \n",
       "(232667.162, 398549.838]   3.980370e+05  \n",
       "(398549.838, 2265604.029]  2.265604e+06  "
      ]
     },
     "execution_count": 68,
     "metadata": {},
     "output_type": "execute_result"
    }
   ],
   "source": [
    "# создадим сводную таблицу и разделим на промежутки\n",
    "df['income_groups'] = pd.cut(df['monthly_income'], [q0, q1, q2, q3, q4, q5], include_lowest = True)\n",
    "# посчитаем количество значений и среднее по указанным промежуткам\n",
    "df.groupby('income_groups')['monthly_income'].agg(['count','mean','median','min','max'])"
   ]
  },
  {
   "cell_type": "markdown",
   "metadata": {},
   "source": [
    "Определим функцию для категорирования клиентов:"
   ]
  },
  {
   "cell_type": "code",
   "execution_count": 69,
   "metadata": {},
   "outputs": [],
   "source": [
    "# определим функцию, которая возвращает id группы на основании значения ежемесячного дохода\n",
    "def income_categorizer(row):\n",
    "    if row['monthly_income'] < q1:\n",
    "        return 0\n",
    "    elif (row['monthly_income'] >= q1) and (row['monthly_income'] < q2):\n",
    "        return 1\n",
    "    elif (row['monthly_income'] >= q2) and (row['monthly_income'] < q3):\n",
    "        return 2\n",
    "    elif (row['monthly_income'] >= q3) and (row['monthly_income'] < q4):\n",
    "        return 3\n",
    "    elif (row['monthly_income'] >= q4):\n",
    "        return 4\n",
    "    else:\n",
    "        return 5"
   ]
  },
  {
   "cell_type": "markdown",
   "metadata": {},
   "source": [
    "Применим функцию к таблице и сохраним результат в столбце `monthly_income_id`:"
   ]
  },
  {
   "cell_type": "code",
   "execution_count": 70,
   "metadata": {},
   "outputs": [],
   "source": [
    "# присваиваем столбцу результат применения функции к таблице\n",
    "df['monthly_income_id'] = df.apply(income_categorizer, axis = 1)"
   ]
  },
  {
   "cell_type": "markdown",
   "metadata": {},
   "source": [
    "Проверим, получилось ли создать новый столбец. Выведем на экран сгруппированную по категориям сводку:"
   ]
  },
  {
   "cell_type": "code",
   "execution_count": 71,
   "metadata": {
    "scrolled": true
   },
   "outputs": [
    {
     "data": {
      "text/plain": [
       "monthly_income_id\n",
       "0      539\n",
       "1     2905\n",
       "2    14636\n",
       "3     2905\n",
       "4      539\n",
       "5        1\n",
       "Name: monthly_income_id, dtype: int64"
      ]
     },
     "execution_count": 71,
     "metadata": {},
     "output_type": "execute_result"
    }
   ],
   "source": [
    "# выведем на экран результат присвоения новых id\n",
    "df.groupby('monthly_income_id')['monthly_income_id'].count()"
   ]
  },
  {
   "cell_type": "markdown",
   "metadata": {},
   "source": [
    "Создадим словарь, сохраним в переменной `monthly_income_dict` и выведем его на экран:"
   ]
  },
  {
   "cell_type": "code",
   "execution_count": 72,
   "metadata": {
    "scrolled": true
   },
   "outputs": [
    {
     "data": {
      "text/html": [
       "<div>\n",
       "<style scoped>\n",
       "    .dataframe tbody tr th:only-of-type {\n",
       "        vertical-align: middle;\n",
       "    }\n",
       "\n",
       "    .dataframe tbody tr th {\n",
       "        vertical-align: top;\n",
       "    }\n",
       "\n",
       "    .dataframe thead th {\n",
       "        text-align: right;\n",
       "    }\n",
       "</style>\n",
       "<table border=\"1\" class=\"dataframe\">\n",
       "  <thead>\n",
       "    <tr style=\"text-align: right;\">\n",
       "      <th></th>\n",
       "      <th>monthly_income_id</th>\n",
       "      <th>monthly_income_type</th>\n",
       "    </tr>\n",
       "  </thead>\n",
       "  <tbody>\n",
       "    <tr>\n",
       "      <td>0</td>\n",
       "      <td>0</td>\n",
       "      <td>низкий</td>\n",
       "    </tr>\n",
       "    <tr>\n",
       "      <td>1</td>\n",
       "      <td>1</td>\n",
       "      <td>ниже среднего</td>\n",
       "    </tr>\n",
       "    <tr>\n",
       "      <td>2</td>\n",
       "      <td>2</td>\n",
       "      <td>средний</td>\n",
       "    </tr>\n",
       "    <tr>\n",
       "      <td>3</td>\n",
       "      <td>3</td>\n",
       "      <td>выше среднего</td>\n",
       "    </tr>\n",
       "    <tr>\n",
       "      <td>4</td>\n",
       "      <td>4</td>\n",
       "      <td>высокий</td>\n",
       "    </tr>\n",
       "    <tr>\n",
       "      <td>5</td>\n",
       "      <td>5</td>\n",
       "      <td>неизвестно</td>\n",
       "    </tr>\n",
       "  </tbody>\n",
       "</table>\n",
       "</div>"
      ],
      "text/plain": [
       "   monthly_income_id monthly_income_type\n",
       "0                  0              низкий\n",
       "1                  1       ниже среднего\n",
       "2                  2             средний\n",
       "3                  3       выше среднего\n",
       "4                  4             высокий\n",
       "5                  5          неизвестно"
      ]
     },
     "execution_count": 72,
     "metadata": {},
     "output_type": "execute_result"
    }
   ],
   "source": [
    "# создадим таблицу-словарь\n",
    "monthly_income_dict = pd.DataFrame.from_dict({\n",
    "    'monthly_income_id': [0, 1, 2, 3, 4, 5], \n",
    "    'monthly_income_type': ['низкий', 'ниже среднего', 'средний', 'выше среднего', 'высокий', 'неизвестно']\n",
    "})\n",
    "# и выведем её на экран\n",
    "monthly_income_dict"
   ]
  },
  {
   "cell_type": "markdown",
   "metadata": {},
   "source": [
    "Это не единственный вариант категорирования по доходу. Можем, например воспользоваться [моделью](https://isp.hse.ru/data/2019/10/04/1541835897/03%20Natalia%20Tikhinova_03-10-2019_RU.pdf) доходной стратификации массовых слоев российского общества, и взять показатели для основных групп:"
   ]
  },
  {
   "cell_type": "code",
   "execution_count": 73,
   "metadata": {
    "scrolled": true
   },
   "outputs": [],
   "source": [
    "# найдём медианное значение дохода\n",
    "p_median = df['monthly_income'].median()\n",
    "# присвоим переменным p0-p7 значения границ групп относительно медианы\n",
    "p0 = df['monthly_income'].min()\n",
    "p1 = p_median * 0.25\n",
    "p2 = p_median * 0.5\n",
    "p3 = p_median * 0.75\n",
    "p4 = p_median * 1.25\n",
    "p5 = p_median * 2\n",
    "p6 = p_median * 4\n",
    "p7 = df['monthly_income'].max()"
   ]
  },
  {
   "cell_type": "markdown",
   "metadata": {},
   "source": [
    "Также создадим сводную таблицу:"
   ]
  },
  {
   "cell_type": "code",
   "execution_count": 74,
   "metadata": {
    "scrolled": true
   },
   "outputs": [
    {
     "data": {
      "text/html": [
       "<div>\n",
       "<style scoped>\n",
       "    .dataframe tbody tr th:only-of-type {\n",
       "        vertical-align: middle;\n",
       "    }\n",
       "\n",
       "    .dataframe tbody tr th {\n",
       "        vertical-align: top;\n",
       "    }\n",
       "\n",
       "    .dataframe thead th {\n",
       "        text-align: right;\n",
       "    }\n",
       "</style>\n",
       "<table border=\"1\" class=\"dataframe\">\n",
       "  <thead>\n",
       "    <tr style=\"text-align: right;\">\n",
       "      <th></th>\n",
       "      <th>count</th>\n",
       "      <th>mean</th>\n",
       "      <th>median</th>\n",
       "      <th>min</th>\n",
       "      <th>max</th>\n",
       "    </tr>\n",
       "    <tr>\n",
       "      <th>income_strats</th>\n",
       "      <th></th>\n",
       "      <th></th>\n",
       "      <th></th>\n",
       "      <th></th>\n",
       "      <th></th>\n",
       "    </tr>\n",
       "  </thead>\n",
       "  <tbody>\n",
       "    <tr>\n",
       "      <td>(20667.263, 36220.446]</td>\n",
       "      <td>77</td>\n",
       "      <td>31191.557304</td>\n",
       "      <td>32329.183971</td>\n",
       "      <td>20667.263793</td>\n",
       "      <td>3.608049e+04</td>\n",
       "    </tr>\n",
       "    <tr>\n",
       "      <td>(36220.446, 72440.892]</td>\n",
       "      <td>1581</td>\n",
       "      <td>59389.495605</td>\n",
       "      <td>61416.476816</td>\n",
       "      <td>36260.320487</td>\n",
       "      <td>7.243994e+04</td>\n",
       "    </tr>\n",
       "    <tr>\n",
       "      <td>(72440.892, 108661.338]</td>\n",
       "      <td>3837</td>\n",
       "      <td>91729.331266</td>\n",
       "      <td>92118.679313</td>\n",
       "      <td>72448.508178</td>\n",
       "      <td>1.086451e+05</td>\n",
       "    </tr>\n",
       "    <tr>\n",
       "      <td>(108661.338, 181102.23]</td>\n",
       "      <td>9259</td>\n",
       "      <td>141070.883439</td>\n",
       "      <td>140633.996300</td>\n",
       "      <td>108662.711954</td>\n",
       "      <td>1.810982e+05</td>\n",
       "    </tr>\n",
       "    <tr>\n",
       "      <td>(181102.23, 289763.568]</td>\n",
       "      <td>5108</td>\n",
       "      <td>222380.006795</td>\n",
       "      <td>216956.399209</td>\n",
       "      <td>181109.922091</td>\n",
       "      <td>2.897556e+05</td>\n",
       "    </tr>\n",
       "    <tr>\n",
       "      <td>(289763.568, 579527.137]</td>\n",
       "      <td>1536</td>\n",
       "      <td>367824.721732</td>\n",
       "      <td>347632.422621</td>\n",
       "      <td>289851.239252</td>\n",
       "      <td>5.790051e+05</td>\n",
       "    </tr>\n",
       "    <tr>\n",
       "      <td>(579527.137, 2265604.029]</td>\n",
       "      <td>126</td>\n",
       "      <td>823633.343734</td>\n",
       "      <td>694093.559357</td>\n",
       "      <td>579594.432759</td>\n",
       "      <td>2.265604e+06</td>\n",
       "    </tr>\n",
       "  </tbody>\n",
       "</table>\n",
       "</div>"
      ],
      "text/plain": [
       "                           count           mean         median            min  \\\n",
       "income_strats                                                                   \n",
       "(20667.263, 36220.446]        77   31191.557304   32329.183971   20667.263793   \n",
       "(36220.446, 72440.892]      1581   59389.495605   61416.476816   36260.320487   \n",
       "(72440.892, 108661.338]     3837   91729.331266   92118.679313   72448.508178   \n",
       "(108661.338, 181102.23]     9259  141070.883439  140633.996300  108662.711954   \n",
       "(181102.23, 289763.568]     5108  222380.006795  216956.399209  181109.922091   \n",
       "(289763.568, 579527.137]    1536  367824.721732  347632.422621  289851.239252   \n",
       "(579527.137, 2265604.029]    126  823633.343734  694093.559357  579594.432759   \n",
       "\n",
       "                                    max  \n",
       "income_strats                            \n",
       "(20667.263, 36220.446]     3.608049e+04  \n",
       "(36220.446, 72440.892]     7.243994e+04  \n",
       "(72440.892, 108661.338]    1.086451e+05  \n",
       "(108661.338, 181102.23]    1.810982e+05  \n",
       "(181102.23, 289763.568]    2.897556e+05  \n",
       "(289763.568, 579527.137]   5.790051e+05  \n",
       "(579527.137, 2265604.029]  2.265604e+06  "
      ]
     },
     "execution_count": 74,
     "metadata": {},
     "output_type": "execute_result"
    }
   ],
   "source": [
    "# создадим сводную таблицу и разделим на промежутки\n",
    "df['income_strats'] = pd.cut(df['monthly_income'], [p0, p1, p2, p3, p4, p5, p6, p7], include_lowest = True)\n",
    "# посчитаем количество значений и среднее по указанным промежуткам\n",
    "df.groupby('income_strats')['monthly_income'].agg(['count','mean','median','min','max'])"
   ]
  },
  {
   "cell_type": "markdown",
   "metadata": {},
   "source": [
    "Опишем функцию для такого варианта категорирования:"
   ]
  },
  {
   "cell_type": "code",
   "execution_count": 75,
   "metadata": {},
   "outputs": [],
   "source": [
    "# определим функцию, которая возвращает id страты на основании значения ежемесячного дохода\n",
    "def income_stratificator(row):\n",
    "    if row['monthly_income'] < p1:\n",
    "        return 0\n",
    "    elif (row['monthly_income'] >= p1) and (row['monthly_income'] < p2):\n",
    "        return 1\n",
    "    elif (row['monthly_income'] >= p2) and (row['monthly_income'] < p3):\n",
    "        return 2\n",
    "    elif (row['monthly_income'] >= p3) and (row['monthly_income'] < p4):\n",
    "        return 3\n",
    "    elif (row['monthly_income'] >= p4) and (row['monthly_income'] < p5):\n",
    "        return 4\n",
    "    elif (row['monthly_income'] >= p5) and (row['monthly_income'] < p6):\n",
    "        return 5\n",
    "    elif (row['monthly_income'] >= p6):\n",
    "        return 6\n",
    "    else:\n",
    "        return 7"
   ]
  },
  {
   "cell_type": "markdown",
   "metadata": {},
   "source": [
    "Применим функцию к таблице и сохраним результат в столбец `income_strat_id`:"
   ]
  },
  {
   "cell_type": "code",
   "execution_count": 76,
   "metadata": {},
   "outputs": [],
   "source": [
    "# присваиваем столбцу результат применения функции к таблице\n",
    "df['income_strat_id'] = df.apply(income_stratificator, axis = 1)"
   ]
  },
  {
   "cell_type": "markdown",
   "metadata": {},
   "source": [
    "Выведем новый вариант категорирования на экран:"
   ]
  },
  {
   "cell_type": "code",
   "execution_count": 77,
   "metadata": {
    "scrolled": false
   },
   "outputs": [
    {
     "data": {
      "text/plain": [
       "income_strat_id\n",
       "0      77\n",
       "1    1581\n",
       "2    3837\n",
       "3    9259\n",
       "4    5108\n",
       "5    1536\n",
       "6     126\n",
       "7       1\n",
       "Name: income_strat_id, dtype: int64"
      ]
     },
     "execution_count": 77,
     "metadata": {},
     "output_type": "execute_result"
    }
   ],
   "source": [
    "# выведем на экран результат присвоения новых id\n",
    "df.groupby('income_strat_id')['income_strat_id'].count()"
   ]
  },
  {
   "cell_type": "markdown",
   "metadata": {},
   "source": [
    "Создадим под новую классификацию словарь:"
   ]
  },
  {
   "cell_type": "code",
   "execution_count": 78,
   "metadata": {
    "scrolled": true
   },
   "outputs": [
    {
     "data": {
      "text/html": [
       "<div>\n",
       "<style scoped>\n",
       "    .dataframe tbody tr th:only-of-type {\n",
       "        vertical-align: middle;\n",
       "    }\n",
       "\n",
       "    .dataframe tbody tr th {\n",
       "        vertical-align: top;\n",
       "    }\n",
       "\n",
       "    .dataframe thead th {\n",
       "        text-align: right;\n",
       "    }\n",
       "</style>\n",
       "<table border=\"1\" class=\"dataframe\">\n",
       "  <thead>\n",
       "    <tr style=\"text-align: right;\">\n",
       "      <th></th>\n",
       "      <th>income_strat_id</th>\n",
       "      <th>income_strat_type</th>\n",
       "    </tr>\n",
       "  </thead>\n",
       "  <tbody>\n",
       "    <tr>\n",
       "      <td>0</td>\n",
       "      <td>0</td>\n",
       "      <td>нищие</td>\n",
       "    </tr>\n",
       "    <tr>\n",
       "      <td>1</td>\n",
       "      <td>1</td>\n",
       "      <td>нуждающиеся</td>\n",
       "    </tr>\n",
       "    <tr>\n",
       "      <td>2</td>\n",
       "      <td>2</td>\n",
       "      <td>бедные</td>\n",
       "    </tr>\n",
       "    <tr>\n",
       "      <td>3</td>\n",
       "      <td>3</td>\n",
       "      <td>медианная группа</td>\n",
       "    </tr>\n",
       "    <tr>\n",
       "      <td>4</td>\n",
       "      <td>4</td>\n",
       "      <td>среднедоходные</td>\n",
       "    </tr>\n",
       "    <tr>\n",
       "      <td>5</td>\n",
       "      <td>5</td>\n",
       "      <td>обеспеченные</td>\n",
       "    </tr>\n",
       "    <tr>\n",
       "      <td>6</td>\n",
       "      <td>6</td>\n",
       "      <td>состоятельные</td>\n",
       "    </tr>\n",
       "    <tr>\n",
       "      <td>7</td>\n",
       "      <td>7</td>\n",
       "      <td>неизвестно</td>\n",
       "    </tr>\n",
       "  </tbody>\n",
       "</table>\n",
       "</div>"
      ],
      "text/plain": [
       "   income_strat_id income_strat_type\n",
       "0                0             нищие\n",
       "1                1       нуждающиеся\n",
       "2                2            бедные\n",
       "3                3  медианная группа\n",
       "4                4    среднедоходные\n",
       "5                5      обеспеченные\n",
       "6                6     состоятельные\n",
       "7                7        неизвестно"
      ]
     },
     "execution_count": 78,
     "metadata": {},
     "output_type": "execute_result"
    }
   ],
   "source": [
    "# создадим таблицу-словарь\n",
    "income_strat_dict = pd.DataFrame.from_dict({\n",
    "    'income_strat_id': [0, 1, 2, 3, 4, 5, 6, 7], \n",
    "    'income_strat_type': ['нищие', 'нуждающиеся', 'бедные', 'медианная группа', 'среднедоходные', 'обеспеченные', 'состоятельные', 'неизвестно']\n",
    "})\n",
    "# и выведем её на экран\n",
    "income_strat_dict"
   ]
  },
  {
   "cell_type": "markdown",
   "metadata": {},
   "source": [
    "Отлично! Теперь можно двигаться дальше."
   ]
  },
  {
   "cell_type": "markdown",
   "metadata": {},
   "source": [
    "### 2.7 Выводы\n",
    "<a id=\"2-7\"></a>"
   ]
  },
  {
   "cell_type": "markdown",
   "metadata": {},
   "source": [
    "На этапе предобработки в данных обнаружились проблемы с названиями столбцов, пропуски и дубликаты. Их удаление позволит провести анализ точнее. Поскольку сведения важно сохранить для анализа, мы не удаляли все пропущенные значения, а заполнили пропущенный месячный доход и трудовой стаж. Имена столбцов теперь корректны и удобны для дальнейшей работы. Также, мы провели категорирование по столбцам с количеством детей и с ежемесячным доходом. Вывели дублирующиеся столбцы в словари, а столбец с целью кредита лемматизировали и категорировали."
   ]
  },
  {
   "cell_type": "markdown",
   "metadata": {},
   "source": [
    "[к началу раздела](#2) | [к началу страницы](#top)"
   ]
  },
  {
   "cell_type": "markdown",
   "metadata": {},
   "source": [
    "## 3. Проверка гипотез\n",
    "<a id=\"3\"></a>"
   ]
  },
  {
   "cell_type": "markdown",
   "metadata": {},
   "source": [
    "Теперь нам необходимо использовать предобработанные данные для ответа на следующие вопросы:\n",
    "* Есть ли зависимость между наличием детей и возвратом кредита в срок?\n",
    "* Есть ли зависимость между семейным положением и возвратом кредита в срок?\n",
    "* Есть ли зависимость между уровнем дохода и возвратом кредита в срок?\n",
    "* Как разные цели кредита влияют на его возврат в срок?\n",
    "\n",
    "Для начала оценим среднюю вероятность невозврата кредита в срок для всех клиентов:"
   ]
  },
  {
   "cell_type": "code",
   "execution_count": 79,
   "metadata": {},
   "outputs": [
    {
     "name": "stdout",
     "output_type": "stream",
     "text": [
      "Средняя вероятность невозврата кредита в срок: 8.09%\n"
     ]
    }
   ],
   "source": [
    "# выведем на экран строку и отформатируем среднее по столбцу `failed_to_pay_debt` в процентах с двумя знаками после запятой\n",
    "print('Средняя вероятность невозврата кредита в срок: {:.2%}'.format(df['failed_to_pay_debt'].mean()))"
   ]
  },
  {
   "cell_type": "markdown",
   "metadata": {},
   "source": [
    "Теперь посмотрим как зависит вероятность невозврата кредита в срок от различных параметров."
   ]
  },
  {
   "cell_type": "markdown",
   "metadata": {},
   "source": [
    "### 3.1 Как влияет наличие детей на возврат кредита в срок?\n",
    "<a id=\"3-1\"></a>"
   ]
  },
  {
   "cell_type": "markdown",
   "metadata": {},
   "source": [
    "Мы уже разделили клиентов на три категории в зависимости от количества детей. Теперь посмотрим какая вероятность невозврата кредита в срок для каждой из категорий:"
   ]
  },
  {
   "cell_type": "code",
   "execution_count": 80,
   "metadata": {
    "scrolled": true
   },
   "outputs": [
    {
     "data": {
      "text/html": [
       "<div>\n",
       "<style scoped>\n",
       "    .dataframe tbody tr th:only-of-type {\n",
       "        vertical-align: middle;\n",
       "    }\n",
       "\n",
       "    .dataframe tbody tr th {\n",
       "        vertical-align: top;\n",
       "    }\n",
       "\n",
       "    .dataframe thead th {\n",
       "        text-align: right;\n",
       "    }\n",
       "</style>\n",
       "<table border=\"1\" class=\"dataframe\">\n",
       "  <thead>\n",
       "    <tr style=\"text-align: right;\">\n",
       "      <th></th>\n",
       "      <th>count</th>\n",
       "      <th>mean</th>\n",
       "      <th>number_of_children_type</th>\n",
       "    </tr>\n",
       "    <tr>\n",
       "      <th>number_of_children_id</th>\n",
       "      <th></th>\n",
       "      <th></th>\n",
       "      <th></th>\n",
       "    </tr>\n",
       "  </thead>\n",
       "  <tbody>\n",
       "    <tr>\n",
       "      <td>1</td>\n",
       "      <td>6873</td>\n",
       "      <td>0.092827</td>\n",
       "      <td>малодетный(ая)</td>\n",
       "    </tr>\n",
       "    <tr>\n",
       "      <td>2</td>\n",
       "      <td>380</td>\n",
       "      <td>0.081579</td>\n",
       "      <td>многодетный(ая)</td>\n",
       "    </tr>\n",
       "    <tr>\n",
       "      <td>0</td>\n",
       "      <td>14272</td>\n",
       "      <td>0.075112</td>\n",
       "      <td>бездетный(ая)</td>\n",
       "    </tr>\n",
       "  </tbody>\n",
       "</table>\n",
       "</div>"
      ],
      "text/plain": [
       "                       count      mean number_of_children_type\n",
       "number_of_children_id                                         \n",
       "1                       6873  0.092827          малодетный(ая)\n",
       "2                        380  0.081579         многодетный(ая)\n",
       "0                      14272  0.075112           бездетный(ая)"
      ]
     },
     "execution_count": 80,
     "metadata": {},
     "output_type": "execute_result"
    }
   ],
   "source": [
    "# создаём сводную таблицу и сохраняем её в переменную\n",
    "children_guess = df.groupby('number_of_children_id')['failed_to_pay_debt'].agg(['count', 'mean'])\n",
    "# добавляем столбец с названиями групп\n",
    "children_guess['number_of_children_type'] = number_of_children_dict['number_of_children_type']\n",
    "# сортируем значения в порядке убывания\n",
    "children_guess.sort_values(by = ['mean'], ascending = False)"
   ]
  },
  {
   "cell_type": "markdown",
   "metadata": {},
   "source": [
    "Как видим, клиенты с детьми в среднем не возвращают долг в срок чаще, чем бездетные. При этом вероятность невозврата и для малодетных и для многодетных клиентов выше средней.\n",
    "\n",
    "Рассмотрим ситуацию по конкретному количеству детей, а не по группам:"
   ]
  },
  {
   "cell_type": "code",
   "execution_count": 81,
   "metadata": {
    "scrolled": false
   },
   "outputs": [
    {
     "data": {
      "text/html": [
       "<div>\n",
       "<style scoped>\n",
       "    .dataframe tbody tr th:only-of-type {\n",
       "        vertical-align: middle;\n",
       "    }\n",
       "\n",
       "    .dataframe tbody tr th {\n",
       "        vertical-align: top;\n",
       "    }\n",
       "\n",
       "    .dataframe thead th {\n",
       "        text-align: right;\n",
       "    }\n",
       "</style>\n",
       "<table border=\"1\" class=\"dataframe\">\n",
       "  <thead>\n",
       "    <tr style=\"text-align: right;\">\n",
       "      <th></th>\n",
       "      <th>count</th>\n",
       "      <th>mean</th>\n",
       "    </tr>\n",
       "    <tr>\n",
       "      <th>number_of_children</th>\n",
       "      <th></th>\n",
       "      <th></th>\n",
       "    </tr>\n",
       "  </thead>\n",
       "  <tbody>\n",
       "    <tr>\n",
       "      <td>4</td>\n",
       "      <td>41</td>\n",
       "      <td>0.097561</td>\n",
       "    </tr>\n",
       "    <tr>\n",
       "      <td>2</td>\n",
       "      <td>2055</td>\n",
       "      <td>0.094404</td>\n",
       "    </tr>\n",
       "    <tr>\n",
       "      <td>1</td>\n",
       "      <td>4818</td>\n",
       "      <td>0.092154</td>\n",
       "    </tr>\n",
       "    <tr>\n",
       "      <td>3</td>\n",
       "      <td>330</td>\n",
       "      <td>0.081818</td>\n",
       "    </tr>\n",
       "    <tr>\n",
       "      <td>0</td>\n",
       "      <td>14272</td>\n",
       "      <td>0.075112</td>\n",
       "    </tr>\n",
       "    <tr>\n",
       "      <td>5</td>\n",
       "      <td>9</td>\n",
       "      <td>0.000000</td>\n",
       "    </tr>\n",
       "  </tbody>\n",
       "</table>\n",
       "</div>"
      ],
      "text/plain": [
       "                    count      mean\n",
       "number_of_children                 \n",
       "4                      41  0.097561\n",
       "2                    2055  0.094404\n",
       "1                    4818  0.092154\n",
       "3                     330  0.081818\n",
       "0                   14272  0.075112\n",
       "5                       9  0.000000"
      ]
     },
     "execution_count": 81,
     "metadata": {},
     "output_type": "execute_result"
    }
   ],
   "source": [
    "# создаём сводную таблицу и сортируем в порядке убывания\n",
    "df.groupby('number_of_children')['failed_to_pay_debt'].agg(['count', 'mean']).sort_values(by = ['mean'], ascending = False)"
   ]
  },
  {
   "cell_type": "markdown",
   "metadata": {},
   "source": [
    "Кроме того, построим график для наглядности:"
   ]
  },
  {
   "cell_type": "code",
   "execution_count": 82,
   "metadata": {},
   "outputs": [
    {
     "data": {
      "image/png": "[encoded data removed]",
      "text/plain": [
       "<Figure size 432x288 with 1 Axes>"
      ]
     },
     "metadata": {
      "needs_background": "light"
     },
     "output_type": "display_data"
    }
   ],
   "source": [
    "# строим график на основании сводной таблицы\n",
    "ax = df.groupby('number_of_children')['failed_to_pay_debt'].agg(['mean']).plot()\n",
    "plt.title('Зависимость невыплаты кредита от количества детей', fontsize=15)\n",
    "plt.xlabel('Детей, человек', fontsize=12, color='blue')\n",
    "plt.ylabel('Вероятность невыплаты, %', fontsize=12, color='blue')\n",
    "ax.yaxis.set_major_formatter(mtick.PercentFormatter(1.0))\n",
    "plt.grid(True)\n",
    "plt.legend().remove()"
   ]
  },
  {
   "cell_type": "markdown",
   "metadata": {},
   "source": [
    "Как видим, ситуация практически не поменялась: почти все клиенты с детьми не возвращали долг в срок чаще, чем в среднем по всем клиентам. Но есть уникальная группа из 9 клиентов с 5ю детьми: они расплатились в срок в 100% случаев. К сожалению, такого количества наблюдений недостаточно, чтобы сказать что 5 детей благотврно влияют на способность расплатиться в срок. Кроме того, появилась и другая группа из 41 клиента с 4-мя детми с наиболее высоким процентом невозврата кредита. Опять же, количество клиентов с 4 детьми является слишком маленьким чтобы однозначно говорить о негативном влиянии конкретно 4 детей на кредитоспособность клиента."
   ]
  },
  {
   "cell_type": "markdown",
   "metadata": {},
   "source": [
    "#### Вывод"
   ]
  },
  {
   "cell_type": "markdown",
   "metadata": {},
   "source": [
    "В целом можно сказать, что клиенты без детей скорее оплатят кредит в срок, чем клиенты с детьми. При этом клиенты без детей &mdash; единственная группа, которая возвращает долг с вероятностью выше средней. Так же можно с большей погрешностью сказать, что клиенты у которых 1-2 ребёнка с меньшей вероятностью вернут кредит в срок, чем клиенты с 3 и более детьми."
   ]
  },
  {
   "cell_type": "markdown",
   "metadata": {},
   "source": [
    "### 3.2 С какой веротностью вернут кредит в срок клиенты с разным семейным положением?\n",
    "<a id=\"3-2\"></a>"
   ]
  },
  {
   "cell_type": "markdown",
   "metadata": {},
   "source": [
    "Теперь оценим зависимость возврата кредита в срок от семейного положения клиента.\n",
    "\n",
    "Построим сводную таблицу:"
   ]
  },
  {
   "cell_type": "code",
   "execution_count": 83,
   "metadata": {},
   "outputs": [
    {
     "data": {
      "text/html": [
       "<div>\n",
       "<style scoped>\n",
       "    .dataframe tbody tr th:only-of-type {\n",
       "        vertical-align: middle;\n",
       "    }\n",
       "\n",
       "    .dataframe tbody tr th {\n",
       "        vertical-align: top;\n",
       "    }\n",
       "\n",
       "    .dataframe thead th {\n",
       "        text-align: right;\n",
       "    }\n",
       "</style>\n",
       "<table border=\"1\" class=\"dataframe\">\n",
       "  <thead>\n",
       "    <tr style=\"text-align: right;\">\n",
       "      <th></th>\n",
       "      <th>count</th>\n",
       "      <th>mean</th>\n",
       "      <th>family_status</th>\n",
       "    </tr>\n",
       "    <tr>\n",
       "      <th>family_status_id</th>\n",
       "      <th></th>\n",
       "      <th></th>\n",
       "      <th></th>\n",
       "    </tr>\n",
       "  </thead>\n",
       "  <tbody>\n",
       "    <tr>\n",
       "      <td>4</td>\n",
       "      <td>2813</td>\n",
       "      <td>0.097405</td>\n",
       "      <td>не женат / не замужем</td>\n",
       "    </tr>\n",
       "    <tr>\n",
       "      <td>1</td>\n",
       "      <td>4177</td>\n",
       "      <td>0.092890</td>\n",
       "      <td>гражданский брак</td>\n",
       "    </tr>\n",
       "    <tr>\n",
       "      <td>0</td>\n",
       "      <td>12380</td>\n",
       "      <td>0.075202</td>\n",
       "      <td>женат / замужем</td>\n",
       "    </tr>\n",
       "    <tr>\n",
       "      <td>3</td>\n",
       "      <td>1195</td>\n",
       "      <td>0.071130</td>\n",
       "      <td>в разводе</td>\n",
       "    </tr>\n",
       "    <tr>\n",
       "      <td>2</td>\n",
       "      <td>960</td>\n",
       "      <td>0.065625</td>\n",
       "      <td>вдовец / вдова</td>\n",
       "    </tr>\n",
       "  </tbody>\n",
       "</table>\n",
       "</div>"
      ],
      "text/plain": [
       "                  count      mean          family_status\n",
       "family_status_id                                        \n",
       "4                  2813  0.097405  не женат / не замужем\n",
       "1                  4177  0.092890       гражданский брак\n",
       "0                 12380  0.075202        женат / замужем\n",
       "3                  1195  0.071130              в разводе\n",
       "2                   960  0.065625         вдовец / вдова"
      ]
     },
     "execution_count": 83,
     "metadata": {},
     "output_type": "execute_result"
    }
   ],
   "source": [
    "# создаём сводную таблицу и сохраняем её в переменную\n",
    "family_guess = df.groupby('family_status_id')['failed_to_pay_debt'].agg(['count', 'mean'])\n",
    "# добавляем столбец с названиями групп\n",
    "family_guess['family_status'] = family_status_dict['family_status']\n",
    "# сортируем значения в порядке убывания\n",
    "family_guess.sort_values(by = ['mean'], ascending = False)"
   ]
  },
  {
   "cell_type": "markdown",
   "metadata": {},
   "source": [
    "#### Вывод"
   ]
  },
  {
   "cell_type": "markdown",
   "metadata": {},
   "source": [
    "Видим, что те клиенты, которые не состояли в брачных отношениях или не зарегистрировали их официально показывают вероятность не расплатиться в срок выше средней. Клиенты, состоящие или состоявшие в браке, показывают повышенную относительно средней вероятность вернуть кредит вовремя. При этом вдовцы и вдовы оказались надёжнее разведённых клиентов, а они, в свою очередь, надёжнее клиентов, состоящих в браке."
   ]
  },
  {
   "cell_type": "markdown",
   "metadata": {},
   "source": [
    "### 3.3 Кто вероятнее расплатится в срок - бедный или богатый?\n",
    "<a id=\"3-3\"></a>"
   ]
  },
  {
   "cell_type": "markdown",
   "metadata": {},
   "source": [
    "Проверим, как зависит вероятность расплатится в срок от дохода клиента в месяц. Посмотрим на сводную таблицу по группам по уровню дохода:"
   ]
  },
  {
   "cell_type": "code",
   "execution_count": 84,
   "metadata": {},
   "outputs": [
    {
     "data": {
      "text/html": [
       "<div>\n",
       "<style scoped>\n",
       "    .dataframe tbody tr th:only-of-type {\n",
       "        vertical-align: middle;\n",
       "    }\n",
       "\n",
       "    .dataframe tbody tr th {\n",
       "        vertical-align: top;\n",
       "    }\n",
       "\n",
       "    .dataframe thead th {\n",
       "        text-align: right;\n",
       "    }\n",
       "</style>\n",
       "<table border=\"1\" class=\"dataframe\">\n",
       "  <thead>\n",
       "    <tr style=\"text-align: right;\">\n",
       "      <th></th>\n",
       "      <th>count</th>\n",
       "      <th>mean</th>\n",
       "      <th>monthly_income_type</th>\n",
       "    </tr>\n",
       "    <tr>\n",
       "      <th>monthly_income_id</th>\n",
       "      <th></th>\n",
       "      <th></th>\n",
       "      <th></th>\n",
       "    </tr>\n",
       "  </thead>\n",
       "  <tbody>\n",
       "    <tr>\n",
       "      <td>2</td>\n",
       "      <td>14636</td>\n",
       "      <td>0.084244</td>\n",
       "      <td>средний</td>\n",
       "    </tr>\n",
       "    <tr>\n",
       "      <td>1</td>\n",
       "      <td>2905</td>\n",
       "      <td>0.081583</td>\n",
       "      <td>ниже среднего</td>\n",
       "    </tr>\n",
       "    <tr>\n",
       "      <td>3</td>\n",
       "      <td>2905</td>\n",
       "      <td>0.070568</td>\n",
       "      <td>выше среднего</td>\n",
       "    </tr>\n",
       "    <tr>\n",
       "      <td>0</td>\n",
       "      <td>539</td>\n",
       "      <td>0.063080</td>\n",
       "      <td>низкий</td>\n",
       "    </tr>\n",
       "    <tr>\n",
       "      <td>4</td>\n",
       "      <td>539</td>\n",
       "      <td>0.059369</td>\n",
       "      <td>высокий</td>\n",
       "    </tr>\n",
       "  </tbody>\n",
       "</table>\n",
       "</div>"
      ],
      "text/plain": [
       "                   count      mean monthly_income_type\n",
       "monthly_income_id                                     \n",
       "2                  14636  0.084244             средний\n",
       "1                   2905  0.081583       ниже среднего\n",
       "3                   2905  0.070568       выше среднего\n",
       "0                    539  0.063080              низкий\n",
       "4                    539  0.059369             высокий"
      ]
     },
     "execution_count": 84,
     "metadata": {},
     "output_type": "execute_result"
    }
   ],
   "source": [
    "# создаём сводную таблицу и сохраняем её в переменную\n",
    "monthly_income_guess = df.groupby('monthly_income_id')['failed_to_pay_debt'].agg(['count', 'mean'])\n",
    "# добавляем столбец с названиями групп\n",
    "monthly_income_guess['monthly_income_type'] = monthly_income_dict['monthly_income_type']\n",
    "# сортируем значения в порядке убывания, убираем строку с отсутствующим доходом\n",
    "monthly_income_guess.sort_values(by = ['mean'], ascending = False).drop([5])"
   ]
  },
  {
   "cell_type": "markdown",
   "metadata": {},
   "source": [
    "Также построим график:"
   ]
  },
  {
   "cell_type": "code",
   "execution_count": 85,
   "metadata": {},
   "outputs": [
    {
     "data": {
      "image/png": "[encoded data removed]",
      "text/plain": [
       "<Figure size 432x288 with 1 Axes>"
      ]
     },
     "metadata": {
      "needs_background": "light"
     },
     "output_type": "display_data"
    }
   ],
   "source": [
    "# строим график на основании сводной таблицы\n",
    "ax = monthly_income_guess['mean'].drop([5]).plot()\n",
    "plt.title('Зависимость невыплаты кредита от уровня дохода', fontsize=15)\n",
    "plt.xlabel('Группа дохода', fontsize=12, color='blue')\n",
    "plt.xticks(ticks = [0, 1, 2, 3, 4], labels = ['низкий', 'ниже среднего', 'средний', 'выше среднего', 'высокий'])\n",
    "plt.ylabel('Вероятность невыплаты, %', fontsize=12, color='blue')\n",
    "ax.yaxis.set_major_formatter(mtick.PercentFormatter(1.0))\n",
    "plt.grid(True)\n",
    "plt.legend().remove()"
   ]
  },
  {
   "cell_type": "markdown",
   "metadata": {},
   "source": [
    "Видим, что ближе к среднему уровню дохода увеличивается вероятность невыплаты кредита в срок. При этом при среднем доходе и доходе ниже среднего вероятность невыплаты оказывается выше средней.\n",
    "\n",
    "Взглянем и на другой вариант распределения:"
   ]
  },
  {
   "cell_type": "code",
   "execution_count": 86,
   "metadata": {},
   "outputs": [
    {
     "data": {
      "text/html": [
       "<div>\n",
       "<style scoped>\n",
       "    .dataframe tbody tr th:only-of-type {\n",
       "        vertical-align: middle;\n",
       "    }\n",
       "\n",
       "    .dataframe tbody tr th {\n",
       "        vertical-align: top;\n",
       "    }\n",
       "\n",
       "    .dataframe thead th {\n",
       "        text-align: right;\n",
       "    }\n",
       "</style>\n",
       "<table border=\"1\" class=\"dataframe\">\n",
       "  <thead>\n",
       "    <tr style=\"text-align: right;\">\n",
       "      <th></th>\n",
       "      <th>count</th>\n",
       "      <th>mean</th>\n",
       "      <th>income_strat_type</th>\n",
       "    </tr>\n",
       "    <tr>\n",
       "      <th>income_strat_id</th>\n",
       "      <th></th>\n",
       "      <th></th>\n",
       "      <th></th>\n",
       "    </tr>\n",
       "  </thead>\n",
       "  <tbody>\n",
       "    <tr>\n",
       "      <td>3</td>\n",
       "      <td>9259</td>\n",
       "      <td>0.087158</td>\n",
       "      <td>медианная группа</td>\n",
       "    </tr>\n",
       "    <tr>\n",
       "      <td>2</td>\n",
       "      <td>3837</td>\n",
       "      <td>0.084180</td>\n",
       "      <td>бедные</td>\n",
       "    </tr>\n",
       "    <tr>\n",
       "      <td>4</td>\n",
       "      <td>5108</td>\n",
       "      <td>0.073806</td>\n",
       "      <td>среднедоходные</td>\n",
       "    </tr>\n",
       "    <tr>\n",
       "      <td>5</td>\n",
       "      <td>1536</td>\n",
       "      <td>0.072917</td>\n",
       "      <td>обеспеченные</td>\n",
       "    </tr>\n",
       "    <tr>\n",
       "      <td>1</td>\n",
       "      <td>1581</td>\n",
       "      <td>0.069576</td>\n",
       "      <td>нуждающиеся</td>\n",
       "    </tr>\n",
       "    <tr>\n",
       "      <td>6</td>\n",
       "      <td>126</td>\n",
       "      <td>0.063492</td>\n",
       "      <td>состоятельные</td>\n",
       "    </tr>\n",
       "    <tr>\n",
       "      <td>0</td>\n",
       "      <td>77</td>\n",
       "      <td>0.051948</td>\n",
       "      <td>нищие</td>\n",
       "    </tr>\n",
       "  </tbody>\n",
       "</table>\n",
       "</div>"
      ],
      "text/plain": [
       "                 count      mean income_strat_type\n",
       "income_strat_id                                   \n",
       "3                 9259  0.087158  медианная группа\n",
       "2                 3837  0.084180            бедные\n",
       "4                 5108  0.073806    среднедоходные\n",
       "5                 1536  0.072917      обеспеченные\n",
       "1                 1581  0.069576       нуждающиеся\n",
       "6                  126  0.063492     состоятельные\n",
       "0                   77  0.051948             нищие"
      ]
     },
     "execution_count": 86,
     "metadata": {},
     "output_type": "execute_result"
    }
   ],
   "source": [
    "# создаём сводную таблицу и сохраняем её в переменную\n",
    "income_strat_guess = df.groupby('income_strat_id')['failed_to_pay_debt'].agg(['count', 'mean'])\n",
    "# добавляем столбец с названиями групп\n",
    "income_strat_guess['income_strat_type'] = income_strat_dict['income_strat_type']\n",
    "# сортируем значения в порядке убывания, убираем строку с отсутствующим доходом\n",
    "income_strat_guess.sort_values(by = ['mean'], ascending = False).drop([7])"
   ]
  },
  {
   "cell_type": "markdown",
   "metadata": {},
   "source": [
    "И на график этого распределения:"
   ]
  },
  {
   "cell_type": "code",
   "execution_count": 87,
   "metadata": {},
   "outputs": [
    {
     "data": {
      "image/png": "[encoded data removed]",
      "text/plain": [
       "<Figure size 432x288 with 1 Axes>"
      ]
     },
     "metadata": {
      "needs_background": "light"
     },
     "output_type": "display_data"
    }
   ],
   "source": [
    "# строим график на основании сводной таблицы\n",
    "ax = df.groupby('income_strat_id')['failed_to_pay_debt'].agg(['mean']).drop([7]).plot()\n",
    "plt.title('Зависимость невыплаты кредита от уровня дохода', fontsize=15)\n",
    "plt.xlabel('Группа дохода', fontsize=12, color='blue')\n",
    "plt.xticks(ticks = [0, 1, 2, 3, 4, 5, 6], labels = ['нищие', 'нуждающиеся', 'бедные', 'медианная группа', 'среднедоходные', 'обеспеченные', 'состоятельные'], rotation=45)\n",
    "plt.ylabel('Вероятность невыплаты, %', fontsize=12, color='blue')\n",
    "ax.yaxis.set_major_formatter(mtick.PercentFormatter(1.0))\n",
    "plt.grid(True)\n",
    "plt.legend().remove()"
   ]
  },
  {
   "cell_type": "markdown",
   "metadata": {},
   "source": [
    "Видим аналогичную картину: ближе к средним доходам вероятность невыплаты увеличивается, на краях выше вероятнсоть расплатиться в срок. Аналогично, группа с медианным доходом и группа на уровень ниже оказались с вероятностью не расплатиться выше средней."
   ]
  },
  {
   "cell_type": "markdown",
   "metadata": {},
   "source": [
    "#### Вывод"
   ]
  },
  {
   "cell_type": "markdown",
   "metadata": {},
   "source": [
    "Оказалось, что наименее надёжными оказались клиенты со средними доходами, следом за ними идут клиенты с доходами ниже среднего. При этом дальше вероятность возврата кредита оказалась зеркальной: как бедные, так и богатые люди возвращают долги в срок примерно с одинаковой вероятностью &mdash; и эта вероятность выше средней."
   ]
  },
  {
   "cell_type": "markdown",
   "metadata": {},
   "source": [
    "### 3.4 Свадьба или образование? Автомобиль или недвижимость? Где риски невозврата кредита выше?\n",
    "<a id=\"3-4\"></a>"
   ]
  },
  {
   "cell_type": "markdown",
   "metadata": {},
   "source": [
    "Ответим теперь на последний вопрос: как связаны цели кредита и вероятность его возврата в срок?\n",
    "\n",
    "Построим сводную таблицу:"
   ]
  },
  {
   "cell_type": "code",
   "execution_count": 88,
   "metadata": {
    "scrolled": true
   },
   "outputs": [
    {
     "data": {
      "text/html": [
       "<div>\n",
       "<style scoped>\n",
       "    .dataframe tbody tr th:only-of-type {\n",
       "        vertical-align: middle;\n",
       "    }\n",
       "\n",
       "    .dataframe tbody tr th {\n",
       "        vertical-align: top;\n",
       "    }\n",
       "\n",
       "    .dataframe thead th {\n",
       "        text-align: right;\n",
       "    }\n",
       "</style>\n",
       "<table border=\"1\" class=\"dataframe\">\n",
       "  <thead>\n",
       "    <tr style=\"text-align: right;\">\n",
       "      <th></th>\n",
       "      <th>count</th>\n",
       "      <th>mean</th>\n",
       "    </tr>\n",
       "    <tr>\n",
       "      <th>credit_purpose</th>\n",
       "      <th></th>\n",
       "      <th></th>\n",
       "    </tr>\n",
       "  </thead>\n",
       "  <tbody>\n",
       "    <tr>\n",
       "      <td>автомобиль</td>\n",
       "      <td>4315</td>\n",
       "      <td>0.093395</td>\n",
       "    </tr>\n",
       "    <tr>\n",
       "      <td>образование</td>\n",
       "      <td>4022</td>\n",
       "      <td>0.091994</td>\n",
       "    </tr>\n",
       "    <tr>\n",
       "      <td>свадьба</td>\n",
       "      <td>2348</td>\n",
       "      <td>0.079216</td>\n",
       "    </tr>\n",
       "    <tr>\n",
       "      <td>недвижимость</td>\n",
       "      <td>10840</td>\n",
       "      <td>0.072140</td>\n",
       "    </tr>\n",
       "  </tbody>\n",
       "</table>\n",
       "</div>"
      ],
      "text/plain": [
       "                count      mean\n",
       "credit_purpose                 \n",
       "автомобиль       4315  0.093395\n",
       "образование      4022  0.091994\n",
       "свадьба          2348  0.079216\n",
       "недвижимость    10840  0.072140"
      ]
     },
     "execution_count": 88,
     "metadata": {},
     "output_type": "execute_result"
    }
   ],
   "source": [
    "# создаём сводную таблицу и сортируем в порядке убывания\n",
    "df.groupby('credit_purpose')['failed_to_pay_debt'].agg(['count', 'mean']).sort_values(by = ['mean'], ascending = False)"
   ]
  },
  {
   "cell_type": "markdown",
   "metadata": {},
   "source": [
    "#### Вывод"
   ]
  },
  {
   "cell_type": "markdown",
   "metadata": {},
   "source": [
    "Из таблицы следует, что когда целью кредита выступает автомобиль или образование, риск невозврата кредита в срок возрастает и оказывается выше среднего. При этом, если кредит приобретается для свадьбы или недвижимости, риски наоборот ниже средних."
   ]
  },
  {
   "cell_type": "markdown",
   "metadata": {},
   "source": [
    "[к началу раздела](#3) | [к началу страницы](#top)"
   ]
  },
  {
   "cell_type": "markdown",
   "metadata": {},
   "source": [
    "## Этап 4. Результаты исследования\n",
    "<a id=\"4\"></a>"
   ]
  },
  {
   "cell_type": "markdown",
   "metadata": {},
   "source": [
    "### 4.1 Общие выводы\n",
    "<a id=\"4-1\"></a>"
   ]
  },
  {
   "cell_type": "markdown",
   "metadata": {},
   "source": [
    "В этом исследовании нас интересовали ответы на следующие вопросы:\n",
    "- Есть ли зависимость между наличием детей и возвратом кредита в срок?\n",
    "- Есть ли зависимость между семейным положением и возвратом кредита в срок?\n",
    "- Есть ли зависимость между уровнем дохода и возвратом кредита в срок?\n",
    "- Как разные цели кредита влияют на его возврат в срок?\n",
    "\n",
    "#### Общие результаты\n",
    "\n",
    "Все эти параметры так или иначе связаны с вероятностью невозвращения кредита в срок. При этом не обязательно прямое влияние этих признаков, возможно наличие другого параметра, скрытого, но влияющего и на вероятность возврата кредита и на какой-то из вышеуказанных параметров.\n",
    "\n",
    "При этом можно сказать, что зависимости проявляют себя: ни по одному параметру не было отклонения меньше 1%, не было параметров, по которым между категориями не было различий.\n",
    "\n",
    "Основываясь на результатах исследования, можно сказать, что профиль наиболее рискового клиента: малодетный, не состоящий в браке, со средним доходом, хочет купить автомобиль или оплатить учёбу. Наличие таких признаков не значит, что нужно обязательно отказывать в кредите, однако стоит рассмотреть изменение условий для такого рода клиентов.\n",
    "\n",
    "Кроме того, результаты этого исследования целесообразно учесть при составлении скоринговой модели для оценки кредитоспособности клиентов банка."
   ]
  },
  {
   "cell_type": "markdown",
   "metadata": {},
   "source": [
    "[к началу раздела](#4) | [к началу страницы](#top)"
   ]
  }
 ],
 "metadata": {
  "kernelspec": {
   "display_name": "Python 3",
   "language": "python",
   "name": "python3"
  },
  "language_info": {
   "codemirror_mode": {
    "name": "ipython",
    "version": 3
   },
   "file_extension": ".py",
   "mimetype": "text/x-python",
   "name": "python",
   "nbconvert_exporter": "python",
   "pygments_lexer": "ipython3",
   "version": "3.8.5"
  }
 },
 "nbformat": 4,
 "nbformat_minor": 4
}
