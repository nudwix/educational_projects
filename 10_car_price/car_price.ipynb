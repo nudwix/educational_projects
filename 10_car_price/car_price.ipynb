{
 "cells": [
  {
   "cell_type": "markdown",
   "metadata": {
    "toc": true
   },
   "source": [
    "<h1>Содержание<span class=\"tocSkip\"></span></h1>\n",
    "<div class=\"toc\"><ul class=\"toc-item\"><li><span><a href=\"#Подготовка\" data-toc-modified-id=\"Подготовка-0\"><span class=\"toc-item-num\">0&nbsp;&nbsp;</span>Подготовка</a></span><ul class=\"toc-item\"><li><span><a href=\"#Импорт-библиотек\" data-toc-modified-id=\"Импорт-библиотек-0.1\"><span class=\"toc-item-num\">0.1&nbsp;&nbsp;</span>Импорт библиотек</a></span></li><li><span><a href=\"#Настройка-окружения\" data-toc-modified-id=\"Настройка-окружения-0.2\"><span class=\"toc-item-num\">0.2&nbsp;&nbsp;</span>Настройка окружения</a></span></li></ul></li><li><span><a href=\"#Подготовка-данных\" data-toc-modified-id=\"Подготовка-данных-1\"><span class=\"toc-item-num\">1&nbsp;&nbsp;</span>Подготовка данных</a></span><ul class=\"toc-item\"><li><span><a href=\"#Чтение-файла\" data-toc-modified-id=\"Чтение-файла-1.1\"><span class=\"toc-item-num\">1.1&nbsp;&nbsp;</span>Чтение файла</a></span></li><li><span><a href=\"#Анализ-данных\" data-toc-modified-id=\"Анализ-данных-1.2\"><span class=\"toc-item-num\">1.2&nbsp;&nbsp;</span>Анализ данных</a></span></li><li><span><a href=\"#Предобработка-данных\" data-toc-modified-id=\"Предобработка-данных-1.3\"><span class=\"toc-item-num\">1.3&nbsp;&nbsp;</span>Предобработка данных</a></span></li></ul></li><li><span><a href=\"#Обучение-моделей\" data-toc-modified-id=\"Обучение-моделей-2\"><span class=\"toc-item-num\">2&nbsp;&nbsp;</span>Обучение моделей</a></span><ul class=\"toc-item\"><li><span><a href=\"#Подготовка-выборок\" data-toc-modified-id=\"Подготовка-выборок-2.1\"><span class=\"toc-item-num\">2.1&nbsp;&nbsp;</span>Подготовка выборок</a></span></li><li><span><a href=\"#Простые-модели\" data-toc-modified-id=\"Простые-модели-2.2\"><span class=\"toc-item-num\">2.2&nbsp;&nbsp;</span>Простые модели</a></span></li><li><span><a href=\"#Градиентный-бустинг\" data-toc-modified-id=\"Градиентный-бустинг-2.3\"><span class=\"toc-item-num\">2.3&nbsp;&nbsp;</span>Градиентный бустинг</a></span></li><li><span><a href=\"#Подбор-гиперпараметров\" data-toc-modified-id=\"Подбор-гиперпараметров-2.4\"><span class=\"toc-item-num\">2.4&nbsp;&nbsp;</span>Подбор гиперпараметров</a></span></li></ul></li><li><span><a href=\"#Анализ-моделей\" data-toc-modified-id=\"Анализ-моделей-3\"><span class=\"toc-item-num\">3&nbsp;&nbsp;</span>Анализ моделей</a></span><ul class=\"toc-item\"><li><span><a href=\"#Подготовка-таблицы\" data-toc-modified-id=\"Подготовка-таблицы-3.1\"><span class=\"toc-item-num\">3.1&nbsp;&nbsp;</span>Подготовка таблицы</a></span></li><li><span><a href=\"#Оценка-эффективности-моделей\" data-toc-modified-id=\"Оценка-эффективности-моделей-3.2\"><span class=\"toc-item-num\">3.2&nbsp;&nbsp;</span>Оценка эффективности моделей</a></span></li></ul></li><li><span><a href=\"#Результаты-исследования\" data-toc-modified-id=\"Результаты-исследования-4\"><span class=\"toc-item-num\">4&nbsp;&nbsp;</span>Результаты исследования</a></span><ul class=\"toc-item\"><li><span><a href=\"#Общие-выводы\" data-toc-modified-id=\"Общие-выводы-4.1\"><span class=\"toc-item-num\">4.1&nbsp;&nbsp;</span>Общие выводы</a></span></li><li><span><a href=\"#Чек-лист-проверки\" data-toc-modified-id=\"Чек-лист-проверки-4.2\"><span class=\"toc-item-num\">4.2&nbsp;&nbsp;</span>Чек-лист проверки</a></span></li></ul></li></ul></div>"
   ]
  },
  {
   "cell_type": "markdown",
   "metadata": {},
   "source": [
    "<a id=\"top\"></a>\n",
    "# Предсказание стоимости автомобиля\n",
    "<p>\n",
    "<div align=\"right\"><b>Спринт 10 | Когорта ДС13 | Артур Урусов</b></div>"
   ]
  },
  {
   "cell_type": "markdown",
   "metadata": {},
   "source": [
    "<blockquote>\n",
    "<p>Сервис по продаже автомобилей с пробегом «Не бит, не крашен» разрабатывает приложение для привлечения новых клиентов. В нём можно быстро узнать рыночную стоимость своего автомобиля. В вашем распоряжении исторические данные: технические характеристики, комплектации и цены автомобилей. Вам нужно построить модель для определения стоимости. \n",
    "\n",
    "<p>Заказчику важны:\n",
    "\n",
    "- качество предсказания;\n",
    "- скорость предсказания;\n",
    "- время обучения.\n",
    "</blockquote>"
   ]
  },
  {
   "cell_type": "markdown",
   "metadata": {},
   "source": [
    "## Подготовка"
   ]
  },
  {
   "cell_type": "markdown",
   "metadata": {},
   "source": [
    "### Импорт библиотек"
   ]
  },
  {
   "cell_type": "code",
   "execution_count": null,
   "metadata": {},
   "outputs": [],
   "source": [
    "import platform\n",
    "import time\n",
    "import warnings\n",
    "import numpy as np\n",
    "import pandas as pd\n",
    "import matplotlib.pyplot as plt\n",
    "import seaborn as sns\n",
    "from sklearn.model_selection import train_test_split, RandomizedSearchCV\n",
    "from sklearn.metrics import make_scorer, mean_squared_error\n",
    "from sklearn.linear_model import LinearRegression\n",
    "from sklearn.dummy import DummyRegressor\n",
    "from sklearn.preprocessing import OrdinalEncoder, normalize\n",
    "from catboost import CatBoostRegressor\n",
    "import lightgbm as lgb\n",
    "import xgboost as xgb"
   ]
  },
  {
   "cell_type": "markdown",
   "metadata": {},
   "source": [
    "### Настройка окружения"
   ]
  },
  {
   "cell_type": "code",
   "execution_count": null,
   "metadata": {},
   "outputs": [],
   "source": [
    "STATE = 42\n",
    "STATS_COLUMNS = ['model', 'train_score', 'test_score', 'train_time', 'prediction_time']\n",
    "warnings.simplefilter('ignore')"
   ]
  },
  {
   "cell_type": "markdown",
   "metadata": {},
   "source": [
    "## Подготовка данных"
   ]
  },
  {
   "cell_type": "markdown",
   "metadata": {},
   "source": [
    "### Чтение файла"
   ]
  },
  {
   "cell_type": "markdown",
   "metadata": {},
   "source": [
    "Для начала сохраним данные из файла в датафрейм.\n",
    "\n",
    "Выведем информацию и первые пять строк:"
   ]
  },
  {
   "cell_type": "code",
   "execution_count": null,
   "metadata": {
    "scrolled": false
   },
   "outputs": [],
   "source": [
    "if platform.system() == 'Windows':\n",
    "    # прочитаем файл с данными и сохраним в df (Windows)\n",
    "    df = pd.read_csv('datasets\\autos.csv')\n",
    "else:\n",
    "    # прочитаем файл с данными с сохраним в df (UNIX-like)\n",
    "    df = pd.read_csv('/datasets/autos.csv')\n",
    "df.info()\n",
    "df.head()"
   ]
  },
  {
   "cell_type": "markdown",
   "metadata": {},
   "source": [
    "Опишем данные:\n",
    "- Признаки:\n",
    "    - `DateCrawled` — дата скачивания анкеты из базы;\n",
    "    - `VehicleType` — тип автомобильного кузова;\n",
    "    - `RegistrationYear` — год регистрации автомобиля;\n",
    "    - `Gearbox` — тип коробки передач;\n",
    "    - `Power` — мощность (л. с.);\n",
    "    - `Model` — модель автомобиля;\n",
    "    - `Kilometer` — пробег (км);\n",
    "    - `RegistrationMonth` — месяц регистрации автомобиля;\n",
    "    - `FuelType` — тип топлива;\n",
    "    - `Brand` — марка автомобиля;\n",
    "    - `NotRepaired` — была машина в ремонте или нет;\n",
    "    - `DateCreated` — дата создания анкеты;\n",
    "    - `NumberOfPictures` — количество фотографий автомобиля;\n",
    "    - `PostalCode` — почтовый индекс владельца анкеты (пользователя);\n",
    "    - `LastSeen` — дата последней активности пользователя.\n",
    "\n",
    "- Целевой признак:\n",
    "    - `Price` — цена (евро)."
   ]
  },
  {
   "cell_type": "markdown",
   "metadata": {},
   "source": [
    "### Анализ данных"
   ]
  },
  {
   "cell_type": "markdown",
   "metadata": {},
   "source": [
    "Далее проведём беглый анализ данных, для начала построим графики:"
   ]
  },
  {
   "cell_type": "code",
   "execution_count": null,
   "metadata": {},
   "outputs": [],
   "source": [
    "sns.pairplot(df.sample(3500, random_state=STATE))\n",
    "plt.show()"
   ]
  },
  {
   "cell_type": "markdown",
   "metadata": {},
   "source": [
    "На графиках не видно каких-то зависимостей. Однако, заметим, что признак `NumberOfPictures` состоит из единственного значения, а в признаках `RegistrationYear` и `Power` присутствуют неестественно большие значения.\n",
    "\n",
    "Выведем основную статистическую инофрмацию по данным:"
   ]
  },
  {
   "cell_type": "code",
   "execution_count": null,
   "metadata": {},
   "outputs": [],
   "source": [
    "df.describe(include='all', percentiles=[.025, .1, .25, .5, .75, .9, .975])"
   ]
  },
  {
   "cell_type": "markdown",
   "metadata": {},
   "source": [
    "Тут так же видим, что признак `NumberOfPictures` состоит из единственного значения, а в признаках `RegistrationYear` и `Power` присутствуют неестественно большие значения. Кроме того, в этих признаках присутствуют и неестественно малые значения. "
   ]
  },
  {
   "cell_type": "markdown",
   "metadata": {},
   "source": [
    "Выведем таблицу корреляции признаков:"
   ]
  },
  {
   "cell_type": "code",
   "execution_count": null,
   "metadata": {},
   "outputs": [],
   "source": [
    "df.corr()"
   ]
  },
  {
   "cell_type": "markdown",
   "metadata": {},
   "source": [
    "В данных нет сильно коррелирующих между собой признаков."
   ]
  },
  {
   "cell_type": "markdown",
   "metadata": {},
   "source": [
    "### Предобработка данных"
   ]
  },
  {
   "cell_type": "markdown",
   "metadata": {},
   "source": [
    "Займёмся подготовкой данных к обучению моделей.\n",
    "\n",
    "Для начала переведем даты из текстового формата в формат `datetime`:"
   ]
  },
  {
   "cell_type": "code",
   "execution_count": null,
   "metadata": {},
   "outputs": [],
   "source": [
    "df['LastSeen'] = pd.to_datetime(df['LastSeen'], format='%Y-%m-%dT%H:%M:%S')\n",
    "df['DateCreated'] = pd.to_datetime(df['DateCreated'], format='%Y-%m-%dT%H:%M:%S')\n",
    "df['DateCrawled'] = pd.to_datetime(df['DateCrawled'], format='%Y-%m-%dT%H:%M:%S')\n",
    "df.info()"
   ]
  },
  {
   "cell_type": "markdown",
   "metadata": {},
   "source": [
    "Проверим временные диапазоны датафрейма:"
   ]
  },
  {
   "cell_type": "code",
   "execution_count": null,
   "metadata": {
    "scrolled": true
   },
   "outputs": [],
   "source": [
    "for el in df.select_dtypes(include='datetime').columns:\n",
    "    print(f'{el}: с {df[el].min()} по {df[el].max()}')"
   ]
  },
  {
   "cell_type": "markdown",
   "metadata": {},
   "source": [
    "Видим, что последние значения в датафрейме датируются апрелем 2016 года, значит все данные после этой даты являются некорректными."
   ]
  },
  {
   "cell_type": "markdown",
   "metadata": {},
   "source": [
    "Избавимся от бесполезных столбцов с количеством фотографий (где все значения равны нулю) и с индексами (это категориальная переменная, которая содержит слишком много значений и практически не несёт смысла в контексте исследования):"
   ]
  },
  {
   "cell_type": "code",
   "execution_count": null,
   "metadata": {},
   "outputs": [],
   "source": [
    "df.drop(['NumberOfPictures', 'PostalCode'], axis=1, inplace=True)"
   ]
  },
  {
   "cell_type": "markdown",
   "metadata": {},
   "source": [
    "Заполним значения типа кузова, типа топлива и типа КПП самыми популярными значениями для каждой модели:"
   ]
  },
  {
   "cell_type": "code",
   "execution_count": null,
   "metadata": {},
   "outputs": [],
   "source": [
    "for model in df.Model[df.Model.notnull()].unique():\n",
    "    vtype = df.VehicleType[df.Model == model].value_counts().idxmax()\n",
    "    ftype = df.FuelType[df.Model == model].value_counts().idxmax()\n",
    "    gbox = df.Gearbox[df.Model == model].value_counts().idxmax()\n",
    "    \n",
    "    df.VehicleType[(df.Model == model) & (df.VehicleType.isnull())] = vtype\n",
    "    df.FuelType[(df.Model == model) & (df.FuelType.isnull())] = ftype\n",
    "    df.Gearbox[(df.Model == model) & (df.Gearbox.isnull())] = gbox"
   ]
  },
  {
   "cell_type": "markdown",
   "metadata": {},
   "source": [
    "Сделаем выборку данных по следующим параметрам:\n",
    "- мощность с 1 персентиля до 99 персентиля;\n",
    "- год с 1888 по апрель 2016;\n",
    "- цена от 100 евро до 99 персентиля;\n",
    "- с заполненными:\n",
    "    - типом кузова;\n",
    "    - типом топлива;\n",
    "    - типом КПП;\n",
    "    - показателем ремонта или его отсутствия.\n",
    "    \n",
    "Для пропущенных значений моделей поставим значение `other`."
   ]
  },
  {
   "cell_type": "code",
   "execution_count": null,
   "metadata": {},
   "outputs": [],
   "source": [
    "data = df.query(\n",
    "    'Power.quantile(.01) <= Power <= Power.quantile(.99) and \\\n",
    "     (1888 <= RegistrationYear < 2016 or \\\n",
    "         RegistrationYear == 2016 and RegistrationMonth < 4) and \\\n",
    "     100 <= Price <= Price.quantile(.99) and \\\n",
    "     NotRepaired == NotRepaired and \\\n",
    "     FuelType == FuelType and \\\n",
    "     Gearbox == Gearbox and \\\n",
    "     VehicleType == VehicleType')\n",
    "\n",
    "data.Model.fillna('other', inplace=True)\n",
    "\n",
    "print(f'Размер выборки: {data.shape[0] / df.shape[0]:.2%}\\n')\n",
    "data.info()"
   ]
  },
  {
   "cell_type": "markdown",
   "metadata": {},
   "source": [
    "Получаем выборку размером около 73% с заполнением данных на 100%. Ещё раз построим график:"
   ]
  },
  {
   "cell_type": "code",
   "execution_count": null,
   "metadata": {},
   "outputs": [],
   "source": [
    "sns.pairplot(data.sample(2500, random_state=STATE))\n",
    "plt.show()"
   ]
  },
  {
   "cell_type": "markdown",
   "metadata": {},
   "source": [
    "Данные выглядят чище, но явных зависимостей всё ещё не видно."
   ]
  },
  {
   "cell_type": "markdown",
   "metadata": {},
   "source": [
    "## Обучение моделей"
   ]
  },
  {
   "cell_type": "markdown",
   "metadata": {},
   "source": [
    "### Подготовка выборок"
   ]
  },
  {
   "cell_type": "markdown",
   "metadata": {},
   "source": [
    "Теперь сделаем выборки для обучения моделей.\n",
    "\n",
    "Для начала выделим целевой признак, и отберём категориальные (добавим к ним ещё месяц регистрации):"
   ]
  },
  {
   "cell_type": "code",
   "execution_count": null,
   "metadata": {},
   "outputs": [],
   "source": [
    "target = ['Price']\n",
    "features = data.columns.drop(target)\n",
    "cat_features = data[features].select_dtypes(include='object').columns\n",
    "cat_features = cat_features.append(pd.Index(['RegistrationMonth']))"
   ]
  },
  {
   "cell_type": "markdown",
   "metadata": {},
   "source": [
    "Далее преобразуем тип данных категориальных признаков:"
   ]
  },
  {
   "cell_type": "code",
   "execution_count": null,
   "metadata": {},
   "outputs": [],
   "source": [
    "for cat in cat_features:\n",
    "    data[cat] = data[cat].astype('category')\n",
    "data.info()"
   ]
  },
  {
   "cell_type": "markdown",
   "metadata": {},
   "source": [
    "Напишем функцию для преобразования даты в числовое значение:"
   ]
  },
  {
   "cell_type": "code",
   "execution_count": null,
   "metadata": {},
   "outputs": [],
   "source": [
    "def to_unixtime(Series):\n",
    "    return (Series - pd.Timestamp(\"1970-01-01\")) // pd.Timedelta('1s')"
   ]
  },
  {
   "cell_type": "markdown",
   "metadata": {},
   "source": [
    "И создадим копию с преобразованными датами:"
   ]
  },
  {
   "cell_type": "code",
   "execution_count": null,
   "metadata": {},
   "outputs": [],
   "source": [
    "data_unix = data.copy()\n",
    "data_unix['DateCrawled'] = to_unixtime(data['DateCrawled'])\n",
    "data_unix['DateCreated'] = to_unixtime(data['DateCreated'])\n",
    "data_unix['LastSeen'] = to_unixtime(data['LastSeen'])\n",
    "data_unix.info()"
   ]
  },
  {
   "cell_type": "markdown",
   "metadata": {},
   "source": [
    "Так как только Catboost работает с категориальными данными напрямую, создадим дополнительную выборку в которой перекодируем их в числовые значения:"
   ]
  },
  {
   "cell_type": "code",
   "execution_count": null,
   "metadata": {
    "scrolled": false
   },
   "outputs": [],
   "source": [
    "data_ord = data_unix.copy()\n",
    "encoder = OrdinalEncoder(dtype='int64')\n",
    "data_ord[cat_features] = pd.DataFrame(\n",
    "    encoder.fit_transform(data_ord[cat_features]), \n",
    "    columns=cat_features, index=data_ord.index)\n",
    "for cat in cat_features:\n",
    "    data_ord[cat] = data_ord[cat].astype('category')\n",
    "\n",
    "data_ord.info()"
   ]
  },
  {
   "cell_type": "markdown",
   "metadata": {},
   "source": [
    "Также создадим вариант выборки с помощью OHE:"
   ]
  },
  {
   "cell_type": "code",
   "execution_count": null,
   "metadata": {},
   "outputs": [],
   "source": [
    "data_ohe = pd.get_dummies(data_unix, drop_first=True)\n",
    "\n",
    "data_ohe.info()"
   ]
  },
  {
   "cell_type": "markdown",
   "metadata": {},
   "source": [
    "Теперь создадим класс для выборки:"
   ]
  },
  {
   "cell_type": "code",
   "execution_count": null,
   "metadata": {},
   "outputs": [],
   "source": [
    "class MLSample(pd.DataFrame):\n",
    "    def __init__(self, data=None, target=None, label=None):\n",
    "        super().__init__(data)\n",
    "        self.data = data\n",
    "        self.target = target\n",
    "        self.label = label\n",
    "        self.X = self[self.columns.drop(target)]\n",
    "        self.y = self[target]\n",
    "        \n",
    "    def split(self, split_type='test', test_size=.2, valid_size=.2, random_state=STATE): \n",
    "        if split_type == 'test':\n",
    "            self.X_train, self.X_test, self.y_train, self.y_test = train_test_split(self.X,\n",
    "                                                                                    self.y, \n",
    "                                                                                    test_size=test_size, \n",
    "                                                                                    train_size=train_size,\n",
    "                                                                                    random_state=random_state)\n",
    "        elif split_type == 'valid_test':\n",
    "            self.X_tralid, self.X_test, self.y_tralid, self.y_test = train_test_split(self.X,\n",
    "                                                                                      self.y, \n",
    "                                                                                      test_size=test_size,\n",
    "                                                                                      random_state=random_state)\n",
    "            self.X_train, self.X_valid, self.y_train, self.y_valid = train_test_split(self.X_tralid,\n",
    "                                                                                      self.y_tralid, \n",
    "                                                                                      test_size=valid_size/(1-test_size),\n",
    "                                                                                      random_state=random_state)\n",
    "    def split_shape(self):\n",
    "        print(self.label)\n",
    "        if self.X_train is not None and self.y_train is not None:\n",
    "            print(f'Train: {self.X_train.shape, self.y_train.shape}')\n",
    "        if self.X_valid is not None and self.y_valid is not None:\n",
    "            print(f'Valid: {self.X_valid.shape, self.y_valid.shape}')\n",
    "        if self.X_tralid is not None and self.y_tralid is not None:\n",
    "            print(f'Tralid: {self.X_tralid.shape, self.y_tralid.shape}')\n",
    "        if self.X_test is not None and self.y_test is not None:\n",
    "            print(f'Test: {self.X_test.shape, self.y_test.shape}')\n",
    "        print()"
   ]
  },
  {
   "cell_type": "markdown",
   "metadata": {},
   "source": [
    "Сделаем инстансы из наших датасетов."
   ]
  },
  {
   "cell_type": "code",
   "execution_count": null,
   "metadata": {},
   "outputs": [],
   "source": [
    "Xy_std = MLSample(data, 'Price', 'Стандартная выборка')\n",
    "Xy_ord = MLSample(data_ord, 'Price', 'Порядковое кодирование')\n",
    "Xy_ohe = MLSample(data_ohe, 'Price', 'Прямое кодирование')"
   ]
  },
  {
   "cell_type": "markdown",
   "metadata": {},
   "source": [
    "Разделим датасеты на три выборки:"
   ]
  },
  {
   "cell_type": "code",
   "execution_count": null,
   "metadata": {},
   "outputs": [],
   "source": [
    "Xy_std.split(split_type='valid_test', test_size=.2, valid_size=.2)\n",
    "Xy_ord.split(split_type='valid_test', test_size=.2, valid_size=.2)\n",
    "Xy_ohe.split(split_type='valid_test', test_size=.2, valid_size=.2)"
   ]
  },
  {
   "cell_type": "markdown",
   "metadata": {},
   "source": [
    "И выведем размеры выборок:"
   ]
  },
  {
   "cell_type": "code",
   "execution_count": null,
   "metadata": {},
   "outputs": [],
   "source": [
    "Xy_std.split_shape()\n",
    "Xy_ord.split_shape()\n",
    "Xy_ohe.split_shape()"
   ]
  },
  {
   "cell_type": "markdown",
   "metadata": {},
   "source": [
    "### Простые модели"
   ]
  },
  {
   "cell_type": "markdown",
   "metadata": {},
   "source": [
    "Напишем функцию для расчёта RMSE и создадим RMSE-скорер:"
   ]
  },
  {
   "cell_type": "code",
   "execution_count": null,
   "metadata": {},
   "outputs": [],
   "source": [
    "def rmse(y_true, y_pred):\n",
    "    return np.sqrt(mean_squared_error(y_true, y_pred))\n",
    "\n",
    "neg_root_mean_squared_error = make_scorer(rmse, greater_is_better=False)"
   ]
  },
  {
   "cell_type": "markdown",
   "metadata": {},
   "source": [
    "Теперь напишем функцию для обучения моделей и вывода информации об их RMSE:"
   ]
  },
  {
   "cell_type": "code",
   "execution_count": null,
   "metadata": {},
   "outputs": [],
   "source": [
    "def model_test(model, data, mode='train-test', cat_features=False, verbose='normal', stats=False):\n",
    "    if stats:\n",
    "        stats_df = list()\n",
    "        \n",
    "    for sample in data:\n",
    "        if mode == 'train-test':\n",
    "            X_train, y_train = sample.X_train, sample.y_train\n",
    "            X_test, y_test = sample.X_test, sample.y_test\n",
    "        elif mode == 'train-valid':\n",
    "            X_train, y_train = sample.X_train, sample.y_train\n",
    "            X_test, y_test = sample.X_valid, sample.y_valid\n",
    "        elif mode == 'tralid-test':\n",
    "            X_train, y_train = sample.X_tralid, sample.y_tralid\n",
    "            X_test, y_test = sample.X_test, sample.y_test\n",
    "            \n",
    "        if not cat_features:\n",
    "            features = X_train.select_dtypes(include='int64').columns\n",
    "        else:\n",
    "            features = X_train.columns\n",
    "        \n",
    "        start_time = time.time()\n",
    "        model.fit(X_train[features], y_train)\n",
    "        train_time = time.time() - start_time\n",
    "        \n",
    "        start_time = time.time()\n",
    "        train_pred = model.predict(X_train[features])\n",
    "        test_pred = model.predict(X_test[features])\n",
    "        pred_time = time.time() - start_time\n",
    "        \n",
    "        train_score = rmse(y_train, train_pred)\n",
    "        test_score = rmse(y_test, test_pred)\n",
    "        \n",
    "        if verbose != 'silent':\n",
    "            print(sample.label)\n",
    "            print(f'Обучающая выборка: {train_score:.4f}')\n",
    "            print(f'Тестовая выборка: {test_score:.4f}')\n",
    "            print(f'Время обучения: {train_time:.4f} сек')\n",
    "            print(f'Время предсказания: {pred_time:.4f} сек\\n')\n",
    "            \n",
    "        if stats:\n",
    "            stats_df.append([f'{model.__class__.__name__}: {sample.label}', train_score, test_score, train_time, pred_time])\n",
    "        \n",
    "    if stats:\n",
    "        return pd.DataFrame(stats_df, columns=STATS_COLUMNS)"
   ]
  },
  {
   "cell_type": "markdown",
   "metadata": {},
   "source": [
    "Рассчитаем бейзлайн с помощью дамми-модели:"
   ]
  },
  {
   "cell_type": "code",
   "execution_count": null,
   "metadata": {},
   "outputs": [],
   "source": [
    "drm = DummyRegressor(strategy='median')\n",
    "\n",
    "model_test(drm, [Xy_std], mode='train-valid')"
   ]
  },
  {
   "cell_type": "markdown",
   "metadata": {},
   "source": [
    "Простая медиана обучается быстро, предсказывает быстро, ошибается примерно на **4600** евро &mdash; есть куда расти."
   ]
  },
  {
   "cell_type": "markdown",
   "metadata": {},
   "source": [
    "Применим функцию к линейной регрессии:"
   ]
  },
  {
   "cell_type": "code",
   "execution_count": null,
   "metadata": {},
   "outputs": [],
   "source": [
    "lrm = LinearRegression()\n",
    "model_test(lrm, [Xy_std, Xy_ord, Xy_ohe], mode='train-valid')"
   ]
  },
  {
   "cell_type": "markdown",
   "metadata": {},
   "source": [
    "У линейной регрессии результат заметно лучше, при том, что время обучения и предсказания всё ещё быстрые и не чувствуются человеком. Лучшие предсказания одновременно оказались на выборках с закодированными категориями &mdash; то есть категории всё же заметно влияют на результат."
   ]
  },
  {
   "cell_type": "markdown",
   "metadata": {},
   "source": [
    "### Градиентный бустинг"
   ]
  },
  {
   "cell_type": "markdown",
   "metadata": {},
   "source": [
    "Теперь проверим результаты моделей градиентного бустинга **XGBoost**, **LightGBM** и **Catboost** из коробки.\n",
    "\n",
    "Начнём с **XGBoost**:"
   ]
  },
  {
   "cell_type": "code",
   "execution_count": null,
   "metadata": {
    "scrolled": true
   },
   "outputs": [],
   "source": [
    "xgbr = xgb.XGBRegressor(objective='reg:squarederror', \n",
    "                        eval_metric='rmse')\n",
    "model_test(xgbr, [Xy_std, Xy_ord, Xy_ohe], mode='train-valid')"
   ]
  },
  {
   "cell_type": "markdown",
   "metadata": {},
   "source": [
    "**XGB** показал еще более низкий уровень ошибки, примерно **2000** на тестовой выборке. Но время работы модели уже заметно для человеческого восприятия, но пока еще модель работает быстро.\n",
    "\n",
    "Теперь черёд **LGBM**:"
   ]
  },
  {
   "cell_type": "code",
   "execution_count": null,
   "metadata": {},
   "outputs": [],
   "source": [
    "lgbr = lgb.LGBMRegressor(metric='rmse')\n",
    "model_test(lgbr, [Xy_std, Xy_ord, Xy_ohe], mode='train-valid')"
   ]
  },
  {
   "cell_type": "markdown",
   "metadata": {},
   "source": [
    "**LGBM** показал сопоставимый с **XGB** результат, но уже несколько быстрее.\n",
    "\n",
    "Что нам покажет **Catboost**:"
   ]
  },
  {
   "cell_type": "code",
   "execution_count": null,
   "metadata": {},
   "outputs": [],
   "source": [
    "cbr = CatBoostRegressor(iterations=100,\n",
    "                        loss_function='RMSE',\n",
    "                        logging_level='Silent')\n",
    "model_test(cbr, [Xy_std, Xy_ord, Xy_ohe], mode='train-valid')"
   ]
  },
  {
   "cell_type": "markdown",
   "metadata": {},
   "source": [
    "**Catboost** из коробки показал похожий на **LGBM** и **XGB** результат. Время работы ещё быстрое, но уже заметное.\n",
    "\n",
    "Но у **Catboost** есть важная особенность, он может напрямую работать с категориальными переменными:"
   ]
  },
  {
   "cell_type": "code",
   "execution_count": null,
   "metadata": {},
   "outputs": [],
   "source": [
    "cbr = CatBoostRegressor(iterations=100,\n",
    "                        loss_function='RMSE',\n",
    "                        logging_level='Silent',\n",
    "                        cat_features=cat_features)\n",
    "model_test(cbr, [Xy_std], mode='train-valid', cat_features=True)"
   ]
  },
  {
   "cell_type": "markdown",
   "metadata": {},
   "source": [
    "Время обучения увеличилось, но зато результат достиг рекордных на текущий момент **1800 RMSE**."
   ]
  },
  {
   "cell_type": "markdown",
   "metadata": {},
   "source": [
    "### Подбор гиперпараметров"
   ]
  },
  {
   "cell_type": "markdown",
   "metadata": {},
   "source": [
    "Теперь попробуем подобрать моделям гиперпараметры для наилучшего результата. Напишем функцию для подбора гиперпараметров:"
   ]
  },
  {
   "cell_type": "code",
   "execution_count": null,
   "metadata": {},
   "outputs": [],
   "source": [
    "def tuning(model, params, X, y): \n",
    "    rscv = RandomizedSearchCV(model, \n",
    "                              params, \n",
    "                              random_state=STATE,\n",
    "                              cv=3,\n",
    "                              n_jobs=-1,\n",
    "                              n_iter=5,\n",
    "                              scoring=neg_root_mean_squared_error)\n",
    "    start_time = time.time()\n",
    "    search = rscv.fit(X, y)\n",
    "    end_time = time.time() - start_time\n",
    "    \n",
    "    print(f'Лучшие гиперпараметры: {search.best_params_}')\n",
    "    print(f'Лучший результат: {-1 * search.best_score_}')\n",
    "    print(f'Время подбора гиперпараметров: {end_time} сек')\n",
    "    \n",
    "    return search.best_params_, end_time"
   ]
  },
  {
   "cell_type": "markdown",
   "metadata": {},
   "source": [
    "И подберём параметры для XGB:"
   ]
  },
  {
   "cell_type": "code",
   "execution_count": null,
   "metadata": {},
   "outputs": [],
   "source": [
    "xgbr = xgb.XGBRegressor(objective='reg:squarederror', \n",
    "                        eval_metric='rmse')\n",
    "xgbr_params = {\n",
    "    'learning_rate': [.05, .1, .2, .3, .5, 1] ,\n",
    "    'n_estimators': [10, 30, 50, 70, 100],\n",
    "}\n",
    "xgbr_best_params, xgbr_tuning_time = tuning(xgbr, xgbr_params, Xy_ohe.X_train, Xy_ohe.y_train)"
   ]
  },
  {
   "cell_type": "markdown",
   "metadata": {},
   "source": [
    "... для LGBM:"
   ]
  },
  {
   "cell_type": "code",
   "execution_count": null,
   "metadata": {},
   "outputs": [],
   "source": [
    "lgbr = lgb.LGBMRegressor(metric='rmse')\n",
    "lgbr_params = {\n",
    "    'learning_rate': [.05, .1, .2, .3, .5, 1],\n",
    "    'n_estimators': [10, 30, 50, 70, 100],\n",
    "}\n",
    "lgbr_best_params, lgbr_tuning_time = tuning(lgbr, lgbr_params, Xy_ord.X_train, Xy_ord.y_train)"
   ]
  },
  {
   "cell_type": "markdown",
   "metadata": {},
   "source": [
    "... и для Catboost:"
   ]
  },
  {
   "cell_type": "code",
   "execution_count": null,
   "metadata": {},
   "outputs": [],
   "source": [
    "cbr = CatBoostRegressor(loss_function='RMSE',\n",
    "                        logging_level='Silent',\n",
    "                        cat_features=cat_features)\n",
    "cbr_params = {\n",
    "    'learning_rate': [.05, .1, .2, .3, .5, 1],\n",
    "    'iterations': [10, 30, 50, 70, 100],\n",
    "}\n",
    "cbr_best_params, cbr_tuning_time = tuning(cbr, cbr_params, Xy_std.X_train, Xy_std.y_train)"
   ]
  },
  {
   "cell_type": "markdown",
   "metadata": {},
   "source": [
    "Проверим результаты обучив модели на тренировочной и валидационной выборке и предсказав тестовую:"
   ]
  },
  {
   "cell_type": "code",
   "execution_count": null,
   "metadata": {},
   "outputs": [],
   "source": [
    "xgbr = xgb.XGBRegressor(objective='reg:squarederror', \n",
    "                        eval_metric='rmse',\n",
    "                        **xgbr_best_params)\n",
    "model_stats = model_test(xgbr, [Xy_ohe], mode='tralid-test', stats=True)"
   ]
  },
  {
   "cell_type": "code",
   "execution_count": null,
   "metadata": {},
   "outputs": [],
   "source": [
    "lgbr = lgb.LGBMRegressor(metric='rmse', \n",
    "                         **lgbr_best_params)\n",
    "model_stats = pd.concat([model_stats, model_test(lgbr, [Xy_ord], mode='tralid-test', stats=True)], ignore_index=True)"
   ]
  },
  {
   "cell_type": "code",
   "execution_count": null,
   "metadata": {},
   "outputs": [],
   "source": [
    "cbr = CatBoostRegressor(loss_function='RMSE',\n",
    "                        logging_level='Silent',\n",
    "                        cat_features=cat_features,\n",
    "                        **cbr_best_params)\n",
    "\n",
    "model_stats = pd.concat([model_stats, model_test(cbr, [Xy_std], mode='tralid-test', stats=True, cat_features=True)], \n",
    "                        ignore_index=True)"
   ]
  },
  {
   "cell_type": "markdown",
   "metadata": {},
   "source": [
    "Как видим, результаты после подбора гиперпараметров у **XGB** и  **LGBM** практически не улучшились. \n",
    "\n",
    "Зато **Catboost** ещё немного прибавил после тюнинга."
   ]
  },
  {
   "cell_type": "markdown",
   "metadata": {},
   "source": [
    "## Анализ моделей"
   ]
  },
  {
   "cell_type": "markdown",
   "metadata": {},
   "source": [
    "### Подготовка таблицы"
   ]
  },
  {
   "cell_type": "markdown",
   "metadata": {},
   "source": [
    "Так как выше мы собирали информацию о результатах моделей, создадим из этих данных таблицу:"
   ]
  },
  {
   "cell_type": "code",
   "execution_count": null,
   "metadata": {},
   "outputs": [],
   "source": [
    "model_stats['tuning_time'] = pd.Series([xgbr_tuning_time, lgbr_tuning_time, cbr_tuning_time])"
   ]
  },
  {
   "cell_type": "markdown",
   "metadata": {},
   "source": [
    "Добавим значения для линейной регрессии и дамми-модели:"
   ]
  },
  {
   "cell_type": "code",
   "execution_count": null,
   "metadata": {},
   "outputs": [],
   "source": [
    "model_stats = pd.concat([model_stats, model_test(lrm, [Xy_std, Xy_ord, Xy_ohe], verbose='silent', stats=True)],\n",
    "                        ignore_index=True)\n",
    "model_stats = pd.concat([model_stats, model_test(drm, [Xy_std], verbose='silent', stats=True)],\n",
    "                        ignore_index=True)"
   ]
  },
  {
   "cell_type": "markdown",
   "metadata": {},
   "source": [
    "Выведем таблицу:"
   ]
  },
  {
   "cell_type": "code",
   "execution_count": null,
   "metadata": {},
   "outputs": [],
   "source": [
    "model_stats"
   ]
  },
  {
   "cell_type": "markdown",
   "metadata": {},
   "source": [
    "### Оценка эффективности моделей"
   ]
  },
  {
   "cell_type": "markdown",
   "metadata": {},
   "source": [
    "Отсортироуем модели по результату на тестовой выборке:"
   ]
  },
  {
   "cell_type": "code",
   "execution_count": null,
   "metadata": {
    "scrolled": true
   },
   "outputs": [],
   "source": [
    "model_stats.sort_values('test_score', ascending=True)"
   ]
  },
  {
   "cell_type": "markdown",
   "metadata": {},
   "source": [
    "Видно, что **Catboost** выдаёт самый лучший результат, однако, не самый быстрый по времени. Далее идут модели **XGB** и **LGBM**. При этом, **LGBM** хоть и выдал похожий результат, зато намного быстрее &mdash; поэтому из этих двух моделей является более оптимальной. В целом, даже регрессия показала результат лучше медианы."
   ]
  },
  {
   "cell_type": "markdown",
   "metadata": {},
   "source": [
    "## Результаты исследования"
   ]
  },
  {
   "cell_type": "markdown",
   "metadata": {},
   "source": [
    "### Общие выводы"
   ]
  },
  {
   "cell_type": "markdown",
   "metadata": {},
   "source": [
    "В исследовании мы обучали моделей машинного обучения для предсказания цены автомобиля.\n",
    "\n",
    "Для работы нам предоставили датасет с **15** признаками и **1** целевым признаком.\n",
    "\n",
    "Сначала мы изучили датасет, провели беглый анализ и заполнили пропуски.\n",
    "\n",
    "Затем мы составили выборку из этого датасета в трёх вариантах: *обычную*, с *прямым кодированием* и *OHE*.\n",
    "\n",
    "Далее мы написали функции для расчёта **RMSE** и для проверки результатов моделей, с их помощью мы оценили дамми-модель, линейную регрессию и три модели градиентного бустинга: **XGBoost**, **LightGBM** и **Catboost**. На этом шаге лучше всего показала себя модель **Catboost**.\n",
    "\n",
    "После этого мы написали функцию для подбора гиперпараметров и подобрали гиперпараметры для моделей градиентного бустинга.\n",
    "\n",
    "В конце концов мы собрали результаты моделей в единую таблицу и на её основе сделали выводы.\n",
    "\n",
    "В итоге, для предсказания цены автомобиля рекомендуется применять модели **Catboost** если приоритет в качестве, или **LightGBM** если приоритет в скорости."
   ]
  },
  {
   "cell_type": "markdown",
   "metadata": {},
   "source": [
    "### Чек-лист проверки"
   ]
  },
  {
   "cell_type": "markdown",
   "metadata": {},
   "source": [
    "- [x]  Jupyter Notebook открыт\n",
    "- [x]  Весь код выполняется без ошибок\n",
    "- [x]  Ячейки с кодом расположены в порядке исполнения\n",
    "- [x]  Выполнена загрузка и подготовка данных\n",
    "- [x]  Выполнено обучение моделей\n",
    "- [x]  Есть анализ скорости работы и качества моделей"
   ]
  },
  {
   "cell_type": "code",
   "execution_count": null,
   "metadata": {},
   "outputs": [],
   "source": []
  }
 ],
 "metadata": {
  "kernelspec": {
   "display_name": "Python 3",
   "language": "python",
   "name": "python3"
  },
  "language_info": {
   "codemirror_mode": {
    "name": "ipython",
    "version": 3
   },
   "file_extension": ".py",
   "mimetype": "text/x-python",
   "name": "python",
   "nbconvert_exporter": "python",
   "pygments_lexer": "ipython3",
   "version": "3.8.8"
  },
  "toc": {
   "base_numbering": "0",
   "nav_menu": {
    "height": "372px",
    "width": "285px"
   },
   "number_sections": true,
   "sideBar": true,
   "skip_h1_title": true,
   "title_cell": "Содержание",
   "title_sidebar": "Содержание",
   "toc_cell": true,
   "toc_position": {},
   "toc_section_display": true,
   "toc_window_display": false
  }
 },
 "nbformat": 4,
 "nbformat_minor": 2
}
